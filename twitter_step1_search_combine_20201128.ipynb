{
  "nbformat": 4,
  "nbformat_minor": 0,
  "metadata": {
    "colab": {
      "name": "twitter_step1_search_combine_20201128.ipynb",
      "provenance": [],
      "collapsed_sections": [],
      "authorship_tag": "ABX9TyM2tWnFBwndIKsWKG7NLyEM",
      "include_colab_link": true
    },
    "kernelspec": {
      "name": "python3",
      "display_name": "Python 3"
    }
  },
  "cells": [
    {
      "cell_type": "markdown",
      "metadata": {
        "id": "view-in-github",
        "colab_type": "text"
      },
      "source": [
        "<a href=\"https://colab.research.google.com/github/programminghumanity/iphs200fall2020/blob/main/twitter_step1_search_combine_20201128.ipynb\" target=\"_parent\"><img src=\"https://colab.research.google.com/assets/colab-badge.svg\" alt=\"Open In Colab\"/></a>"
      ]
    },
    {
      "cell_type": "markdown",
      "metadata": {
        "id": "Rzsen3ZUBdSQ"
      },
      "source": [
        "# **Gathering Tweets**\n",
        "\n",
        "References:\n",
        "\n",
        "* https://www.youtube.com/watch?v=_SqgSh3aR1g (20201127 10:17)\n",
        "* https://null-byte.wonderhowto.com/how-to/mine-twitter-for-targeted-information-with-twint-0193853/ (20190502) \n",
        "* https://github.com/twintproject/twint/wiki (wiki)\n",
        "* https://pielco11.ovh/posts/twint-osint/ (osint)"
      ]
    },
    {
      "cell_type": "markdown",
      "metadata": {
        "id": "i8aNZI7_QrAQ"
      },
      "source": [
        "# **0. Setup Environment**"
      ]
    },
    {
      "cell_type": "markdown",
      "metadata": {
        "id": "kOryUc6RTIuM"
      },
      "source": [
        "## You will need to give permission for this Colab to link to your gdrive in the code cell below"
      ]
    },
    {
      "cell_type": "code",
      "metadata": {
        "colab": {
          "base_uri": "https://localhost:8080/"
        },
        "id": "JRw5dI8MTHk8",
        "outputId": "93215b38-150d-45f4-9c03-b4bd802db4bc"
      },
      "source": [
        "from google.colab import drive\n",
        "drive.mount('/gdrive')\n",
        "%cd /gdrive"
      ],
      "execution_count": 1,
      "outputs": [
        {
          "output_type": "stream",
          "text": [
            "Mounted at /gdrive\n",
            "/gdrive\n"
          ],
          "name": "stdout"
        }
      ]
    },
    {
      "cell_type": "code",
      "metadata": {
        "id": "mMKdt2p4TYSR"
      },
      "source": [
        "# CUSTOMIZE: if you want your work and twitter datasets saved into a specific folder\n",
        "#            beneath your gdrive root directory, define it below\n",
        "\n",
        "dir_working = './MyDrive/courses/2020f_iphs200_programming_humanity/code/'"
      ],
      "execution_count": 2,
      "outputs": []
    },
    {
      "cell_type": "code",
      "metadata": {
        "id": "OrX8s9gAMt-I",
        "colab": {
          "base_uri": "https://localhost:8080/"
        },
        "outputId": "72827b65-c3f3-46a3-b858-b91dde9fbc69"
      },
      "source": [
        "# Move to working directory\n",
        "\n",
        "%cd $dir_working"
      ],
      "execution_count": 3,
      "outputs": [
        {
          "output_type": "stream",
          "text": [
            "/gdrive/MyDrive/courses/2020f_iphs200_programming_humanity/code\n"
          ],
          "name": "stdout"
        }
      ]
    },
    {
      "cell_type": "code",
      "metadata": {
        "colab": {
          "base_uri": "https://localhost:8080/"
        },
        "id": "fqUgxRUbAl1B",
        "outputId": "ff6f9fff-05fc-489c-8099-4f812d632d87"
      },
      "source": [
        "!git clone --depth=1 https://github.com/twintproject/twint.git\n"
      ],
      "execution_count": 4,
      "outputs": [
        {
          "output_type": "stream",
          "text": [
            "fatal: destination path 'twint' already exists and is not an empty directory.\n"
          ],
          "name": "stdout"
        }
      ]
    },
    {
      "cell_type": "code",
      "metadata": {
        "colab": {
          "base_uri": "https://localhost:8080/"
        },
        "id": "3ImRXorVAn7N",
        "outputId": "167e3118-768e-4374-8f79-360751e2375d"
      },
      "source": [
        "%cd twint\n"
      ],
      "execution_count": 5,
      "outputs": [
        {
          "output_type": "stream",
          "text": [
            "/gdrive/MyDrive/courses/2020f_iphs200_programming_humanity/code/twint\n"
          ],
          "name": "stdout"
        }
      ]
    },
    {
      "cell_type": "code",
      "metadata": {
        "colab": {
          "base_uri": "https://localhost:8080/",
          "height": 1000
        },
        "id": "cNpfJT3pAwHd",
        "outputId": "92f84c63-4751-43c2-8e32-68898ef23019"
      },
      "source": [
        "# RESTART RUNTIME button at end of output (this takes a bit of time)\n",
        "\n",
        "!pip3 install . -r requirements.txt"
      ],
      "execution_count": 6,
      "outputs": [
        {
          "output_type": "stream",
          "text": [
            "Processing /gdrive/MyDrive/courses/2020f_iphs200_programming_humanity/code/twint\n",
            "Collecting aiohttp\n",
            "\u001b[?25l  Downloading https://files.pythonhosted.org/packages/ad/e6/d4b6235d776c9b33f853e603efede5aac5a34f71ca9d3877adb30492eb4e/aiohttp-3.7.3-cp36-cp36m-manylinux2014_x86_64.whl (1.3MB)\n",
            "\u001b[K     |████████████████████████████████| 1.3MB 5.3MB/s \n",
            "\u001b[?25hCollecting aiodns\n",
            "  Downloading https://files.pythonhosted.org/packages/da/01/8f2d49b441573fd2478833bdba91cf0b853b4c750a1fbb9e98de1b94bb22/aiodns-2.0.0-py2.py3-none-any.whl\n",
            "Requirement already satisfied: beautifulsoup4 in /usr/local/lib/python3.6/dist-packages (from -r requirements.txt (line 3)) (4.6.3)\n",
            "Collecting cchardet\n",
            "\u001b[?25l  Downloading https://files.pythonhosted.org/packages/a0/e5/a0b9edd8664ea3b0d3270c451ebbf86655ed9fc4c3e4c45b9afae9c2e382/cchardet-2.1.7-cp36-cp36m-manylinux2010_x86_64.whl (263kB)\n",
            "\u001b[K     |████████████████████████████████| 266kB 27.1MB/s \n",
            "\u001b[?25hRequirement already satisfied: dataclasses in /usr/local/lib/python3.6/dist-packages (from -r requirements.txt (line 5)) (0.8)\n",
            "Collecting elasticsearch\n",
            "\u001b[?25l  Downloading https://files.pythonhosted.org/packages/86/74/054342aa07121f7c82e30ae63e3f257a793a69ddc11c5065449252dcd8af/elasticsearch-7.10.1-py2.py3-none-any.whl (322kB)\n",
            "\u001b[K     |████████████████████████████████| 327kB 28.6MB/s \n",
            "\u001b[?25hRequirement already satisfied: pysocks in /usr/local/lib/python3.6/dist-packages (from -r requirements.txt (line 7)) (1.7.1)\n",
            "Requirement already satisfied: pandas>=0.23.0 in /usr/local/lib/python3.6/dist-packages (from -r requirements.txt (line 8)) (1.1.5)\n",
            "Collecting aiohttp_socks<=0.4.1\n",
            "  Downloading https://files.pythonhosted.org/packages/72/55/c00bf359a54c1438ac0fe36f9bba9538c912138f033897d4e95ddd8cc772/aiohttp_socks-0.4.1-py3-none-any.whl\n",
            "Collecting schedule\n",
            "  Downloading https://files.pythonhosted.org/packages/57/22/3a709462eb02412bd1145f6e53604f36bba191e3e4e397bea4a718fec38c/schedule-0.6.0-py2.py3-none-any.whl\n",
            "Requirement already satisfied: geopy in /usr/local/lib/python3.6/dist-packages (from -r requirements.txt (line 11)) (1.17.0)\n",
            "Collecting fake-useragent\n",
            "  Downloading https://files.pythonhosted.org/packages/d1/79/af647635d6968e2deb57a208d309f6069d31cb138066d7e821e575112a80/fake-useragent-0.1.11.tar.gz\n",
            "Collecting googletransx\n",
            "  Downloading https://files.pythonhosted.org/packages/27/e1/77cd530afec7944d40c5bdd260bcc111be4012b045c82d4e3ffec90b2a42/googletransx-2.4.2.tar.gz\n",
            "Requirement already satisfied: chardet<4.0,>=2.0 in /usr/local/lib/python3.6/dist-packages (from aiohttp->-r requirements.txt (line 1)) (3.0.4)\n",
            "Collecting async-timeout<4.0,>=3.0\n",
            "  Downloading https://files.pythonhosted.org/packages/e1/1e/5a4441be21b0726c4464f3f23c8b19628372f606755a9d2e46c187e65ec4/async_timeout-3.0.1-py3-none-any.whl\n",
            "Collecting multidict<7.0,>=4.5\n",
            "\u001b[?25l  Downloading https://files.pythonhosted.org/packages/a1/35/b22524d6b9cacfb4c5eff413a069bbc17c6ea628e54da5c6c989998ced5f/multidict-5.1.0-cp36-cp36m-manylinux2014_x86_64.whl (141kB)\n",
            "\u001b[K     |████████████████████████████████| 143kB 33.8MB/s \n",
            "\u001b[?25hRequirement already satisfied: attrs>=17.3.0 in /usr/local/lib/python3.6/dist-packages (from aiohttp->-r requirements.txt (line 1)) (20.3.0)\n",
            "Collecting idna-ssl>=1.0; python_version < \"3.7\"\n",
            "  Downloading https://files.pythonhosted.org/packages/46/03/07c4894aae38b0de52b52586b24bf189bb83e4ddabfe2e2c8f2419eec6f4/idna-ssl-1.1.0.tar.gz\n",
            "Collecting yarl<2.0,>=1.0\n",
            "\u001b[?25l  Downloading https://files.pythonhosted.org/packages/da/08/52b26b44bce7b818b410aee37c5e424c9ea420c557bca97dc2adac29b151/yarl-1.6.3-cp36-cp36m-manylinux2014_x86_64.whl (293kB)\n",
            "\u001b[K     |████████████████████████████████| 296kB 34.7MB/s \n",
            "\u001b[?25hRequirement already satisfied: typing-extensions>=3.6.5 in /usr/local/lib/python3.6/dist-packages (from aiohttp->-r requirements.txt (line 1)) (3.7.4.3)\n",
            "Collecting pycares>=3.0.0\n",
            "\u001b[?25l  Downloading https://files.pythonhosted.org/packages/43/2d/7f4984a23f6e99cf6a8b20ddc59308efb209fe81e79c97af65e9b30eefae/pycares-3.1.1-cp36-cp36m-manylinux2010_x86_64.whl (228kB)\n",
            "\u001b[K     |████████████████████████████████| 235kB 40.7MB/s \n",
            "\u001b[?25hCollecting typing; python_version < \"3.7\"\n",
            "\u001b[?25l  Downloading https://files.pythonhosted.org/packages/05/d9/6eebe19d46bd05360c9a9aae822e67a80f9242aabbfc58b641b957546607/typing-3.7.4.3.tar.gz (78kB)\n",
            "\u001b[K     |████████████████████████████████| 81kB 8.5MB/s \n",
            "\u001b[?25hRequirement already satisfied: certifi in /usr/local/lib/python3.6/dist-packages (from elasticsearch->-r requirements.txt (line 6)) (2020.12.5)\n",
            "Requirement already satisfied: urllib3<2,>=1.21.1 in /usr/local/lib/python3.6/dist-packages (from elasticsearch->-r requirements.txt (line 6)) (1.24.3)\n",
            "Requirement already satisfied: python-dateutil>=2.7.3 in /usr/local/lib/python3.6/dist-packages (from pandas>=0.23.0->-r requirements.txt (line 8)) (2.8.1)\n",
            "Requirement already satisfied: pytz>=2017.2 in /usr/local/lib/python3.6/dist-packages (from pandas>=0.23.0->-r requirements.txt (line 8)) (2018.9)\n",
            "Requirement already satisfied: numpy>=1.15.4 in /usr/local/lib/python3.6/dist-packages (from pandas>=0.23.0->-r requirements.txt (line 8)) (1.18.5)\n",
            "Requirement already satisfied: geographiclib<2,>=1.49 in /usr/local/lib/python3.6/dist-packages (from geopy->-r requirements.txt (line 11)) (1.50)\n",
            "Requirement already satisfied: requests in /usr/local/lib/python3.6/dist-packages (from googletransx->-r requirements.txt (line 13)) (2.23.0)\n",
            "Requirement already satisfied: idna>=2.0 in /usr/local/lib/python3.6/dist-packages (from idna-ssl>=1.0; python_version < \"3.7\"->aiohttp->-r requirements.txt (line 1)) (2.10)\n",
            "Requirement already satisfied: cffi>=1.5.0 in /usr/local/lib/python3.6/dist-packages (from pycares>=3.0.0->aiodns->-r requirements.txt (line 2)) (1.14.4)\n",
            "Requirement already satisfied: six>=1.5 in /usr/local/lib/python3.6/dist-packages (from python-dateutil>=2.7.3->pandas>=0.23.0->-r requirements.txt (line 8)) (1.15.0)\n",
            "Requirement already satisfied: pycparser in /usr/local/lib/python3.6/dist-packages (from cffi>=1.5.0->pycares>=3.0.0->aiodns->-r requirements.txt (line 2)) (2.20)\n",
            "Building wheels for collected packages: fake-useragent, googletransx, twint, idna-ssl, typing\n",
            "  Building wheel for fake-useragent (setup.py) ... \u001b[?25l\u001b[?25hdone\n",
            "  Created wheel for fake-useragent: filename=fake_useragent-0.1.11-cp36-none-any.whl size=13485 sha256=792da676905eb2bbfd08d60e77ee95f2d559a2e707632a74d420c9ae8a7a8626\n",
            "  Stored in directory: /root/.cache/pip/wheels/5e/63/09/d1dc15179f175357d3f5c00cbffbac37f9e8690d80545143ff\n",
            "  Building wheel for googletransx (setup.py) ... \u001b[?25l\u001b[?25hdone\n",
            "  Created wheel for googletransx: filename=googletransx-2.4.2-cp36-none-any.whl size=15970 sha256=feeaa772f655008ea045386376795637be66079eebb49af50adeb136ce4fc647\n",
            "  Stored in directory: /root/.cache/pip/wheels/04/63/5f/75e7e94eb62517946116a783e4cd8970c4789c990bbc732616\n",
            "  Building wheel for twint (setup.py) ... \u001b[?25l\u001b[?25hdone\n",
            "  Created wheel for twint: filename=twint-2.1.21-cp36-none-any.whl size=38674 sha256=10eebc6faffebf44e99322838eb7b23ded0d564bf317a010dcb8df5ba67613ef\n",
            "  Stored in directory: /tmp/pip-ephem-wheel-cache-2kva49ks/wheels/f8/d4/22/81de880471f84f360c47ac33703f642b56c751697bf8950033\n",
            "  Building wheel for idna-ssl (setup.py) ... \u001b[?25l\u001b[?25hdone\n",
            "  Created wheel for idna-ssl: filename=idna_ssl-1.1.0-cp36-none-any.whl size=3162 sha256=1d728d0916c896a058c20b9670af4139c53f3353a403a4d3003eb3377f85a146\n",
            "  Stored in directory: /root/.cache/pip/wheels/d3/00/b3/32d613e19e08a739751dd6bf998cfed277728f8b2127ad4eb7\n",
            "  Building wheel for typing (setup.py) ... \u001b[?25l\u001b[?25hdone\n",
            "  Created wheel for typing: filename=typing-3.7.4.3-cp36-none-any.whl size=26307 sha256=380704df06f3210eb1c0d784f3d1e1e5eb0b2073a1fd0750d3d6c96efdf0fce5\n",
            "  Stored in directory: /root/.cache/pip/wheels/2d/04/41/8e1836e79581989c22eebac3f4e70aaac9af07b0908da173be\n",
            "Successfully built fake-useragent googletransx twint idna-ssl typing\n",
            "Installing collected packages: async-timeout, multidict, idna-ssl, yarl, aiohttp, pycares, typing, aiodns, cchardet, elasticsearch, aiohttp-socks, schedule, fake-useragent, googletransx, twint\n",
            "Successfully installed aiodns-2.0.0 aiohttp-3.7.3 aiohttp-socks-0.4.1 async-timeout-3.0.1 cchardet-2.1.7 elasticsearch-7.10.1 fake-useragent-0.1.11 googletransx-2.4.2 idna-ssl-1.1.0 multidict-5.1.0 pycares-3.1.1 schedule-0.6.0 twint-2.1.21 typing-3.7.4.3 yarl-1.6.3\n"
          ],
          "name": "stdout"
        },
        {
          "output_type": "display_data",
          "data": {
            "application/vnd.colab-display-data+json": {
              "pip_warning": {
                "packages": [
                  "typing"
                ]
              }
            }
          },
          "metadata": {
            "tags": []
          }
        }
      ]
    },
    {
      "cell_type": "markdown",
      "metadata": {
        "id": "4BZIYUXaLLyk"
      },
      "source": [
        "## You should [RESTART RUNTIME] at this point before continuing"
      ]
    },
    {
      "cell_type": "markdown",
      "metadata": {
        "id": "rsn-t99Z1RtT"
      },
      "source": [
        "### WORKAROUND to TWINT ISSUE No.1061 introduced 15 Dec 2020\r\n",
        "\r\n",
        "Reference: https://github.com/twintproject/twint/issues/1061"
      ]
    },
    {
      "cell_type": "code",
      "metadata": {
        "id": "pC7dihbz0xRs",
        "outputId": "220ba52b-1e9a-4ce4-e48f-bd8ca89de40a",
        "colab": {
          "base_uri": "https://localhost:8080/"
        }
      },
      "source": [
        "!pip uninstall twint"
      ],
      "execution_count": 14,
      "outputs": [
        {
          "output_type": "stream",
          "text": [
            "Uninstalling twint-2.1.21:\n",
            "  Would remove:\n",
            "    /usr/local/bin/twint\n",
            "    /usr/local/lib/python3.6/dist-packages/twint-2.1.21.dist-info/*\n",
            "    /usr/local/lib/python3.6/dist-packages/twint/*\n",
            "Proceed (y/n)? y\n",
            "  Successfully uninstalled twint-2.1.21\n"
          ],
          "name": "stdout"
        }
      ]
    },
    {
      "cell_type": "code",
      "metadata": {
        "id": "WGXgKZLY03dQ",
        "outputId": "42cf4180-463c-4e40-cddc-1608cacd63a4",
        "colab": {
          "base_uri": "https://localhost:8080/",
          "height": 943
        }
      },
      "source": [
        "!pip install git+git://github.com/ajctrl/twint@patch-1"
      ],
      "execution_count": 15,
      "outputs": [
        {
          "output_type": "stream",
          "text": [
            "Collecting git+git://github.com/ajctrl/twint@patch-1\n",
            "  Cloning git://github.com/ajctrl/twint (to revision patch-1) to /tmp/pip-req-build-ip1nson5\n",
            "  Running command git clone -q git://github.com/ajctrl/twint /tmp/pip-req-build-ip1nson5\n",
            "  Running command git checkout -b patch-1 --track origin/patch-1\n",
            "  Switched to a new branch 'patch-1'\n",
            "  Branch 'patch-1' set up to track remote branch 'patch-1' from 'origin'.\n",
            "Requirement already satisfied: aiohttp in /usr/local/lib/python3.6/dist-packages (from twint==2.1.21) (3.7.3)\n",
            "Requirement already satisfied: aiodns in /usr/local/lib/python3.6/dist-packages (from twint==2.1.21) (2.0.0)\n",
            "Requirement already satisfied: beautifulsoup4 in /usr/local/lib/python3.6/dist-packages (from twint==2.1.21) (4.6.3)\n",
            "Requirement already satisfied: cchardet in /usr/local/lib/python3.6/dist-packages (from twint==2.1.21) (2.1.7)\n",
            "Requirement already satisfied: dataclasses in /usr/local/lib/python3.6/dist-packages (from twint==2.1.21) (0.8)\n",
            "Requirement already satisfied: elasticsearch in /usr/local/lib/python3.6/dist-packages (from twint==2.1.21) (7.10.1)\n",
            "Requirement already satisfied: pysocks in /usr/local/lib/python3.6/dist-packages (from twint==2.1.21) (1.7.1)\n",
            "Requirement already satisfied: pandas in /usr/local/lib/python3.6/dist-packages (from twint==2.1.21) (1.1.5)\n",
            "Requirement already satisfied: aiohttp_socks in /usr/local/lib/python3.6/dist-packages (from twint==2.1.21) (0.4.1)\n",
            "Requirement already satisfied: schedule in /usr/local/lib/python3.6/dist-packages (from twint==2.1.21) (0.6.0)\n",
            "Requirement already satisfied: geopy in /usr/local/lib/python3.6/dist-packages (from twint==2.1.21) (1.17.0)\n",
            "Requirement already satisfied: fake-useragent in /usr/local/lib/python3.6/dist-packages (from twint==2.1.21) (0.1.11)\n",
            "Requirement already satisfied: googletransx in /usr/local/lib/python3.6/dist-packages (from twint==2.1.21) (2.4.2)\n",
            "Requirement already satisfied: attrs>=17.3.0 in /usr/local/lib/python3.6/dist-packages (from aiohttp->twint==2.1.21) (20.3.0)\n",
            "Requirement already satisfied: multidict<7.0,>=4.5 in /usr/local/lib/python3.6/dist-packages (from aiohttp->twint==2.1.21) (5.1.0)\n",
            "Requirement already satisfied: idna-ssl>=1.0; python_version < \"3.7\" in /usr/local/lib/python3.6/dist-packages (from aiohttp->twint==2.1.21) (1.1.0)\n",
            "Requirement already satisfied: chardet<4.0,>=2.0 in /usr/local/lib/python3.6/dist-packages (from aiohttp->twint==2.1.21) (3.0.4)\n",
            "Requirement already satisfied: typing-extensions>=3.6.5 in /usr/local/lib/python3.6/dist-packages (from aiohttp->twint==2.1.21) (3.7.4.3)\n",
            "Requirement already satisfied: yarl<2.0,>=1.0 in /usr/local/lib/python3.6/dist-packages (from aiohttp->twint==2.1.21) (1.6.3)\n",
            "Requirement already satisfied: async-timeout<4.0,>=3.0 in /usr/local/lib/python3.6/dist-packages (from aiohttp->twint==2.1.21) (3.0.1)\n",
            "Requirement already satisfied: pycares>=3.0.0 in /usr/local/lib/python3.6/dist-packages (from aiodns->twint==2.1.21) (3.1.1)\n",
            "Requirement already satisfied: typing; python_version < \"3.7\" in /usr/local/lib/python3.6/dist-packages (from aiodns->twint==2.1.21) (3.7.4.3)\n",
            "Requirement already satisfied: urllib3<2,>=1.21.1 in /usr/local/lib/python3.6/dist-packages (from elasticsearch->twint==2.1.21) (1.24.3)\n",
            "Requirement already satisfied: certifi in /usr/local/lib/python3.6/dist-packages (from elasticsearch->twint==2.1.21) (2020.12.5)\n",
            "Requirement already satisfied: pytz>=2017.2 in /usr/local/lib/python3.6/dist-packages (from pandas->twint==2.1.21) (2018.9)\n",
            "Requirement already satisfied: numpy>=1.15.4 in /usr/local/lib/python3.6/dist-packages (from pandas->twint==2.1.21) (1.18.5)\n",
            "Requirement already satisfied: python-dateutil>=2.7.3 in /usr/local/lib/python3.6/dist-packages (from pandas->twint==2.1.21) (2.8.1)\n",
            "Requirement already satisfied: geographiclib<2,>=1.49 in /usr/local/lib/python3.6/dist-packages (from geopy->twint==2.1.21) (1.50)\n",
            "Requirement already satisfied: requests in /usr/local/lib/python3.6/dist-packages (from googletransx->twint==2.1.21) (2.23.0)\n",
            "Requirement already satisfied: idna>=2.0 in /usr/local/lib/python3.6/dist-packages (from idna-ssl>=1.0; python_version < \"3.7\"->aiohttp->twint==2.1.21) (2.10)\n",
            "Requirement already satisfied: cffi>=1.5.0 in /usr/local/lib/python3.6/dist-packages (from pycares>=3.0.0->aiodns->twint==2.1.21) (1.14.4)\n",
            "Requirement already satisfied: six>=1.5 in /usr/local/lib/python3.6/dist-packages (from python-dateutil>=2.7.3->pandas->twint==2.1.21) (1.15.0)\n",
            "Requirement already satisfied: pycparser in /usr/local/lib/python3.6/dist-packages (from cffi>=1.5.0->pycares>=3.0.0->aiodns->twint==2.1.21) (2.20)\n",
            "Building wheels for collected packages: twint\n",
            "  Building wheel for twint (setup.py) ... \u001b[?25l\u001b[?25hdone\n",
            "  Created wheel for twint: filename=twint-2.1.21-cp36-none-any.whl size=38761 sha256=fd56e938095d326fb7ae938514963fc06b59ca0f6c9bac5c3a314732751a9a9e\n",
            "  Stored in directory: /tmp/pip-ephem-wheel-cache-_37rca2k/wheels/51/ee/ba/293fdc533d7a474a69eeebf72eaa1c6ff1b2a20236eebe6f16\n",
            "Successfully built twint\n",
            "Installing collected packages: twint\n",
            "Successfully installed twint-2.1.21\n"
          ],
          "name": "stdout"
        },
        {
          "output_type": "display_data",
          "data": {
            "application/vnd.colab-display-data+json": {
              "pip_warning": {
                "packages": [
                  "twint"
                ]
              }
            }
          },
          "metadata": {
            "tags": []
          }
        }
      ]
    },
    {
      "cell_type": "markdown",
      "metadata": {
        "id": "egm_u-gQ1Ugt"
      },
      "source": [
        "## You should [RESTART RUNTIME] at this point before continuing"
      ]
    },
    {
      "cell_type": "code",
      "metadata": {
        "colab": {
          "base_uri": "https://localhost:8080/",
          "height": 35
        },
        "id": "E2DkhTNDOmIl",
        "outputId": "3661b3fd-f725-43e9-8bfc-7a8039c3814a"
      },
      "source": [
        "# Not necessary, but we do lose all other variables and configuration with [RESTART RUNTIME] in last cell\n",
        "#                so the following cells re-setup our configuration\n",
        "\n",
        "\"\"\"\n",
        "from google.colab import drive\n",
        "drive.mount('/gdrive')\n",
        "%cd /gdrive\n",
        "\"\"\""
      ],
      "execution_count": 12,
      "outputs": [
        {
          "output_type": "execute_result",
          "data": {
            "application/vnd.google.colaboratory.intrinsic+json": {
              "type": "string"
            },
            "text/plain": [
              "\"\\nfrom google.colab import drive\\ndrive.mount('/gdrive')\\n%cd /gdrive\\n\""
            ]
          },
          "metadata": {
            "tags": []
          },
          "execution_count": 12
        }
      ]
    },
    {
      "cell_type": "code",
      "metadata": {
        "id": "3kVx5FO4M5O1"
      },
      "source": [
        "# CUSTOMIZE: if you want your work and twitter datasets saved into a specific folder\n",
        "#            beneath your gdrive root directory, define it below\n",
        "\n",
        "dir_working = './MyDrive/courses/2020f_iphs200_programming_humanity/code/'"
      ],
      "execution_count": 1,
      "outputs": []
    },
    {
      "cell_type": "code",
      "metadata": {
        "colab": {
          "base_uri": "https://localhost:8080/"
        },
        "id": "vIL7LawZM93b",
        "outputId": "b4bd8d4d-e95f-4a56-ff20-9f83e689a4ae"
      },
      "source": [
        "# Move to working directory\n",
        "\n",
        "%cd $dir_working"
      ],
      "execution_count": 2,
      "outputs": [
        {
          "output_type": "stream",
          "text": [
            "[Errno 2] No such file or directory: './MyDrive/courses/2020f_iphs200_programming_humanity/code/'\n",
            "/content\n"
          ],
          "name": "stdout"
        }
      ]
    },
    {
      "cell_type": "code",
      "metadata": {
        "colab": {
          "base_uri": "https://localhost:8080/"
        },
        "id": "pYE0yNCnNUHl",
        "outputId": "77b23d87-042a-460b-e203-024b74ceb6c1"
      },
      "source": [
        "# Move into the twint subdirectory created with the installtion of twint\n",
        "\n",
        "%cd twint"
      ],
      "execution_count": 3,
      "outputs": [
        {
          "output_type": "stream",
          "text": [
            "[Errno 2] No such file or directory: 'twint'\n",
            "/content\n"
          ],
          "name": "stdout"
        }
      ]
    },
    {
      "cell_type": "code",
      "metadata": {
        "colab": {
          "base_uri": "https://localhost:8080/"
        },
        "id": "iYsN8oadNRk5",
        "outputId": "3dc166d0-bf79-4550-ae26-f6d0abd1829e"
      },
      "source": [
        "!pwd"
      ],
      "execution_count": 4,
      "outputs": [
        {
          "output_type": "stream",
          "text": [
            "/content\n"
          ],
          "name": "stdout"
        }
      ]
    },
    {
      "cell_type": "code",
      "metadata": {
        "id": "UPG5hQU8S8Th"
      },
      "source": [
        "import numpy as np\n",
        "import pandas as pd\n",
        "\n",
        "import matplotlib.pyplot as plt\n",
        "import seaborn as sns"
      ],
      "execution_count": 5,
      "outputs": []
    },
    {
      "cell_type": "code",
      "metadata": {
        "id": "0-8fLrQGNvI_"
      },
      "source": [
        "import os\n",
        "import glob\n",
        "\n",
        "import time"
      ],
      "execution_count": 6,
      "outputs": []
    },
    {
      "cell_type": "code",
      "metadata": {
        "id": "c09cmO_RBHYP"
      },
      "source": [
        "import twint"
      ],
      "execution_count": 7,
      "outputs": []
    },
    {
      "cell_type": "code",
      "metadata": {
        "id": "90Qynj3FBRSq"
      },
      "source": [
        "import nest_asyncio\n",
        "nest_asyncio.apply()"
      ],
      "execution_count": 8,
      "outputs": []
    },
    {
      "cell_type": "markdown",
      "metadata": {
        "id": "uwkUTk_JQus9"
      },
      "source": [
        "# **1. DEFINE and RUN Searches**"
      ]
    },
    {
      "cell_type": "code",
      "metadata": {
        "id": "HGIGOnV6WiDw"
      },
      "source": [
        "# LEAVE this blank, this is just defining a global\r\n",
        "#   list variable that we'll populate below\r\n",
        "\r\n",
        "search_terms_ls = [] # LEAVE THIS EMPTY !!!"
      ],
      "execution_count": 9,
      "outputs": []
    },
    {
      "cell_type": "markdown",
      "metadata": {
        "id": "12189BWkPw1e"
      },
      "source": [
        "## (a). Define your search_terms and/or user_name in the following code cell"
      ]
    },
    {
      "cell_type": "code",
      "metadata": {
        "id": "SPQWYUdiP4ks"
      },
      "source": [
        "# STEP ONE: DEFINE search\n",
        "\n",
        "# Define your search terms and/or user (you must set values for at least one of these, both ok too)\n",
        "\n",
        "# CUSTOMIZE: If you want to limit your search to a particular user set 'username' to it\n",
        "user_name = 'mtbarra' # uncomment this if you want to search by username (only one username, no spaces)\n",
        "# user_name = '' # uncomment this line if you are not searching by username, only search terms\n",
        "\n",
        "# CUSTOMIZE: If you want to search for key terms in the tweet, set 'search_terms'\n",
        "search_terms = '' # uncomment this if you want to search by key words, format 'term1 term2 term3'\n",
        "                       #   all search terms should be separated by a single space within one string\n",
        "# search_terms = '' # uncomment this line if you are not searching by any search terms, only username"
      ],
      "execution_count": 10,
      "outputs": []
    },
    {
      "cell_type": "code",
      "metadata": {
        "id": "siy_fBStAwuh",
        "colab": {
          "base_uri": "https://localhost:8080/"
        },
        "outputId": "e2231202-6e14-422b-8783-865fd8af3259"
      },
      "source": [
        "# STEP TWO: RUN search\n",
        "\n",
        "# Create a filename of search results in a file with the name contained a unique timestamp\n",
        "timestr = time.strftime(\"%Y%m%d-%H%M%S\")\n",
        "\n",
        "\"\"\"\n",
        "if len(search_terms) == 0:\n",
        "  search_str = ''\n",
        "else:\n",
        "  search_str = '_'.join(search_terms.split())\n",
        "\n",
        "if len(user_name) == 0:\n",
        "  user_str = ''\n",
        "else:\n",
        "  user_str = user_name\n",
        "\"\"\"\n",
        "\n",
        "file_name = f\"tweets_twint_{search_terms}_{user_name}_{timestr}.csv\"\n",
        "print(f\"FILENAME: {file_name}\")\n",
        "\n",
        "# Save your user/search terms\n",
        "search_terms_both = f\"USERNAME:{user_name} and SEARCHTERMS:{search_terms}, \"\n",
        "search_terms_ls.append(search_terms_both)\n",
        "\n",
        "# Run your search\n",
        "c = twint.Config()\n",
        "if len(user_name) > 0:\n",
        "  c.Username = user_name\n",
        "if len(search_terms) > 0:\n",
        "  c.Search = search_terms\n",
        "\n",
        "if (len(user_name) != 0)  | (len(search_terms) != 0):\n",
        "  c.Limit = 10000    # Limit of how many tweets to retrieve\n",
        "  c.Store_object=True\n",
        "  c.Store_csv = True\n",
        "  c.Output = file_name # \"tweets.csv\"\n",
        "  twint.run.Search(c)\n",
        "else:\n",
        "  print(\"You need to set user_name and/or search_terms to a non-null value\")"
      ],
      "execution_count": 17,
      "outputs": [
        {
          "output_type": "stream",
          "text": [
            "FILENAME: tweets_twint_GM_mtbarra_20201217-035634.csv\n",
            "1330901438298525698 2020-11-23 15:50:04 +0000 <mtbarra> We have reached an important inflection point at @GM. We are transitioning to an all-electric portfolio, and doing so from a position of unprecedented strength. This is how we will win.  https://t.co/9HeJlntI9v\n",
            "1325910961715339264 2020-11-09 21:19:42 +0000 <mtbarra> Congratulations to @JimmieJohnson as he retires with the honorable legacy of 7-time NASCAR Cup series champion. Thank you for making our teams at @GM and @Chevrolet so proud.\n",
            "1322272268781846529 2020-10-30 20:20:50 +0000 <mtbarra> One of the best CFOs in the world is joining @GM.  Welcome to the team, Paul Jacobson.\n",
            "1320001660169736197 2020-10-24 13:58:14 +0000 <mtbarra> @fatma_samoura @GM Thank you, @Fatma_Samoura. It’s an honor to be inducted alongside both you and @GinniRometty. Congratulations on the well-deserved recognition for your leadership.\n",
            "1318723212231036931 2020-10-21 01:18:09 +0000 <mtbarra> What an exciting night! The design, engineering and production of the #GMCHummerEV has created a new benchmark in @GM’s ability to quickly bring #EV products to market for our customers – it truly is like nothing else on the road today. Congratulations to the entire team!\n",
            "1311346300819058688 2020-09-30 16:44:56 +0000 <mtbarra> @jhibbert1 @GM @FortuneMPW Thanks, Jenni. Much work to be done.\n",
            "1287767010127106050 2020-07-27 15:09:15 +0000 <mtbarra> We're working to create a world with Zero Crashes, Zero Emissions and Zero Congestion with a team that continues to challenge the status quo. Today we welcome Alan Wexler to the @GM leadership team to help grow our culture of innovation and transformation.  https://t.co/gziWuhM9MA\n",
            "1275187757812506624 2020-06-22 22:03:47 +0000 <mtbarra> Today I announced the guiding principles of @GM’s Inclusion Advisory Board, and the eleven members who will join me. We aspire to be the most inclusive company in the world – through our words, our deeds, and our culture. This is just one step.  https://t.co/N80Qwo55TA\n",
            "1254596630298402817 2020-04-27 02:22:00 +0000 <mtbarra> @ChrisTKiple @GM We’re thankful for your partnership, @ChrisTKiple, and I’m proud of what we are accomplishing together.\n",
            "1238472256096960513 2020-03-13 14:29:30 +0000 <mtbarra> As the coronavirus evolves, we’re asking @GM employees who can work remotely from home to do so. For those who can’t, we’re taking every precaution to ensure their safety.  https://t.co/oHKpy1Vvp8\n",
            "1235287471627395072 2020-03-04 19:34:18 +0000 <mtbarra> This is a historic week for @GM. We're aggressively going after every aspect of the #EV ecosystem. We’re creating EVs for every brand, segment, body style, price point, and part of the country. Our electric future is now.  https://t.co/wrT4kot0Bi  https://t.co/ePR1J4aLFt\n",
            "1104075667967229957 2019-03-08 17:45:26 +0000 <mtbarra> Equal pay is not only a moral issue but a business issue. Businesses have an opportunity to create significant impact and demonstrate actual change, and I’m proud of @GM for having no gender pay gap across the company. #IWD2019\n",
            "1101233433332908032 2019-02-28 21:31:25 +0000 <mtbarra> And while it’s hard to say goodbye to colleagues that have helped drive change at @GM, I’d like to wish Alicia Boler Davis the best on her next endeavor. I know that Gerald Johnson will bring his expertise, passion and leadership to drive continued success.\n",
            "1101233431982325760 2019-02-28 21:31:24 +0000 <mtbarra> I want to thank Alan Batey for his 40 years of service to @GM and wish him well on his retirement. I’m confident Barry Engle will build on North America’s strong customer-focused foundation for continued progress.\n",
            "1095066183290757120 2019-02-11 21:04:58 +0000 <mtbarra> As we continue to transform how @GM operates, we’re pleased to welcome Wes G. Bush to our Board of Directors. Coming from Northrop Grumman, Wes' strong strategic capabilities in manufacturing, engineering and tech will be a great addition to our board.  https://t.co/2edJBkrG0K\n",
            "1093178390084009984 2019-02-06 16:03:33 +0000 <mtbarra> 2018 was an important year for @GM. We navigated through significant headwinds and made strategic decisions that position us for the road ahead.\n",
            "1090221815216177152 2019-01-29 12:15:10 +0000 <mtbarra> Like every business, we must earn the right to exist. We've been working hard to ensure @GM is strong, agile and prepared for what lies ahead. It comes with tough decisions, but I'm confident we have the right strategy to lead today and for the future.  https://t.co/KDn1BWZ6Uc\n",
            "1080831652971057154 2019-01-03 14:22:01 +0000 <mtbarra> I’m excited to announce that Mark Reuss, head of our Global Product Group, will take on the role of President @GM. His product knowledge, leadership &amp; passion will drive our transformation as we strengthen our core business &amp; define the future of mobility.  https://t.co/Sl0cWcTJ6g\n",
            "1073623363908722689 2018-12-14 16:58:51 +0000 <mtbarra> …Today, we have a plan for the majority of employees currently working at our impacted plants in Maryland, Michigan, Ohio and Oshawa, Canada that includes job opportunities at other GM facilities. We're committed to doing the right thing, for the future of GM and our people.\n",
            "1073623362881101829 2018-12-14 16:58:51 +0000 <mtbarra> I understand how GM’s recent news is affecting our colleagues, families and communities. Our focus remains on helping employees…\n",
            "1050028001369436160 2018-10-10 14:19:18 +0000 <mtbarra> I’d like to welcome Jami Miscik, CEO of Kissinger Associates, to @GM’s Board of Directors. Jami’s background in intelligence, security and risk brings a unique perspective and we look forward to her contributions.  https://t.co/DmVkHOi38u\n",
            "1043139724897075201 2018-09-21 14:07:45 +0000 <mtbarra> Challenge accepted, @JPMorganChase and @BizRoundtable. By 2050, all our facilities will be sourced by renewable energy - just one part of our commitment to #EmbracingSustainability at @GM. Tom Linebarger of @Cummins, tell us your #sustainability story.  https://t.co/kem8QGRKZ5\n",
            "1038166084300533760 2018-09-07 20:44:17 +0000 <mtbarra> @MrsAdrienneBosh @GM @axios @GirlsWhoCode @codeorg @danprimack It was great meeting you, Adrienne. I really enjoyed listening to Chris’s story. Couldn’t agree more about his advice on pursuing your passion!\n",
            "1006936980830203904 2018-06-13 16:30:58 +0000 <mtbarra> I’d also like to congratulate an exceptional leader, colleague and friend on his retirement. Chuck Stevens has been vital to all aspects of core and future business strategies for @GM. Thank you, Chuck, for your commitment and all your contributions.\n",
            "1006936978720423936 2018-06-13 16:30:58 +0000 <mtbarra> I am proud to congratulate Dhivya Suryadevara on becoming CFO @GM. Dhivya’s experience and leadership well positions her to continue playing a key role in driving strong business results.  https://t.co/FXvniGN5It\n",
            "1000002659351396353 2018-05-25 13:16:27 +0000 <mtbarra> I sat down with @LloydBlankfein to talk about the bold vision @GM. We're placing the right bets today to ensure a better future for tomorrow. I hope you watch and join us on our journey to create a world of zero crashes, zero emissions and zero congestion.  https://t.co/kEy8CvFGy0\n",
            "999387983064195072 2018-05-23 20:33:57 +0000 <mtbarra> We are revolutionizing how the world moves. The @GM team inspires and energizes me every day to innovate and take smart risks, which is why I’m excited about our future.  https://t.co/q8fQLzN9ZU\n",
            "993847428330635265 2018-05-08 13:37:46 +0000 <mtbarra> A zero-emissions world is possible. Today, I reaffirmed our unwavering commitment to an all-electric future with the @GM team. You can read more about our position here:  https://t.co/K5CIver340\n",
            "990967355361636353 2018-04-30 14:53:23 +0000 <mtbarra> I spoke to a group of employees at SYNAPSE: our 3-month long innovation program. An innovative mindset is crucial to succeeding in this fast-paced industry and I’m so proud of their enthusiasm and dedication to ensure we're living by our @GM behaviors to improve customers’ lives.  https://t.co/Q9iahVDMH2\n",
            "987033873396748288 2018-04-19 18:23:08 +0000 <mtbarra> @devinwenig @GM Welcome! Looking forward to your perspectives and insights as we work to achieve a world with zero crashes, zero emissions, and zero congestion.\n",
            "986939688593260545 2018-04-19 12:08:52 +0000 <mtbarra> It’s an honor to be listed amongst these inspiring names and an even greater honor to lead the @GM team. Thanks @Fortune for the acknowledgement.  https://t.co/s0jiyGASW8\n",
            "981907857485565953 2018-04-05 14:54:10 +0000 <mtbarra> Last week, I spoke with @StanfordGSB students at @GM’s headquarters. We discussed our local corporate responsibility and civic efforts and how we plan to grow top talent in #Detroit.  https://t.co/acryxtOHSI\n",
            "981558902159527937 2018-04-04 15:47:33 +0000 <mtbarra> I’m always excited for the opportunity to meet with new members of the @GM family, and last week I was able to meet three from @UMich Ross School of Business in @cheri_cheralex's class. We’re delighted to have you joining our team.  https://t.co/c1oKmOkiHQ\n",
            "978635658401955842 2018-03-27 14:11:37 +0000 <mtbarra> In my career, I am lucky enough to meet some incredible people. Yesterday, I was able to chat with former @GM engineer, Paul Hitch. Paul was part of many beginnings at GM and he has helped build what Chevy Trucks is today. Happy belated 101 birthday, Paul.  https://t.co/kjracSWpps\n",
            "977245771962691584 2018-03-23 18:08:43 +0000 <mtbarra> @jkpotvin @GM @AdamMGrant Mentorship is critical to the success of women across all industries and some of the best advice I’ve received was from men. Thanks for joining the discussion and sharing your thoughts.\n",
            "971494104524820480 2018-03-07 21:13:38 +0000 <mtbarra> For more than a century, @GM has helped transform how the world moved, and we’re moving fast. Today I sat down with @DanielYergin to discuss our vision for a future with zero emissions and how our electric vehicle strategy will get us there. #CERAWeek2018  https://t.co/PCXqpAVHb5\n",
            "970720620102193152 2018-03-05 18:00:05 +0000 <mtbarra> This is a great accomplishment, and I’m proud of the dedication and innovation our team put forth to contribute to @GM’s zero-waste goal.  https://t.co/c4WmAvnA5v\n",
            "967032388059586560 2018-02-23 13:44:22 +0000 <mtbarra> John Bradburn, @GM #engineer and global manager of waste reduction, is helping pave the way for a cleaner, more sustainable future. #eweek2018  https://t.co/dTQe3IZanM\n",
            "966662058061258753 2018-02-22 13:12:49 +0000 <mtbarra> Under Pam Fletcher’s leadership, @GM will launch 20 electric vehicles by 2023, a commitment that will help lead the way to a zero emissions future. Her advice to girls: Don’t try to fit in to someone else’s mold; be yourself! #EWeek2018 #GirlDay2018  https://t.co/yYHq0QQ6KT\n",
            "965658610041679872 2018-02-19 18:45:28 +0000 <mtbarra> Happy #NationalEngineersWeek! I’ll be recognizing a few #engineers helping to transform @GM, starting with EVP of Global Product Development, Mark Reuss. He has a true passion for cars and inspires us through his determination to create the best vehicles.  https://t.co/sfaP6RCDUT\n",
            "964115500581212160 2018-02-15 12:33:42 +0000 <mtbarra> We continue to take innovative, smart risks that will make the world safer, better and more sustainable. Read the letter I’ve shared with the @GM team about what we’ll accomplish in 2018 and beyond:  https://t.co/MFissIngdL  https://t.co/6Ed1hTUZFV\n",
            "953798046323761153 2018-01-18 01:15:49 +0000 <mtbarra> Today we revealed ‘@GM World’: our renovated headquarters in Detroit. It complements the resurgence of Detroit, highlights 100 years of innovation and showcases the future of personal mobility.  https://t.co/K9MB5P7w94\n",
            "952892271124414464 2018-01-15 13:16:35 +0000 <mtbarra> Today we celebrate a man who fought for freedom, justice, dignity and hope. At @GM, diversity is our strength. Today and everyday we should remember Dr. King’s words, “the time is always right to do what is right”. #MLKDay\n",
            "942815036388597761 2017-12-18 17:53:15 +0000 <mtbarra> My @GM colleagues and I sat down to share our holiday wish lists and favorite traditions. We’re looking forward to an exciting 2018 and we wish you and your family a safe and happy holiday.  https://t.co/6qZt7Od4WP\n",
            "940947058944552967 2017-12-13 14:10:35 +0000 <mtbarra> At @GM, we’re committed to creating safer, better and more sustainable solutions for customers. Thanks @Forbes for recognizing our efforts and our employees who make this possible.  https://t.co/fW3jUnu7Dj\n",
            "935941037427748864 2017-11-29 18:38:26 +0000 <mtbarra> Zero crashes, zero emissions, and zero congestion. @GM's vision is coming to fruition right now.  https://t.co/rSIdjOmwHt\n",
            "935565704308383745 2017-11-28 17:47:00 +0000 <mtbarra> Giving is at the core of @GM’s vision for the world. We cannot advance the future of personal mobility without considering the importance of social mobility. Heidi Magyar shares how giving drives us forward every day. #GivingTuesday  https://t.co/BswprwlOiO\n",
            "933684741169180673 2017-11-23 13:12:43 +0000 <mtbarra> As I reflect on a year of progress and innovation, I’m thankful to my @GM family for inspiring me and for being the force behind the future of mobility. Wishing you and yours a happy and safe Thanksgiving.  https://t.co/e1mQiMndn8\n",
            "930543845686652928 2017-11-14 21:11:56 +0000 <mtbarra> Honored to accept the Muriel Siebert Award on behalf of @GM for our commitment to gender parity in the boardroom. Thank you, @WomensForumNY.  https://t.co/aNDYqZmiEC\n",
            "915174154223194112 2017-10-03 11:18:16 +0000 <mtbarra> Zero Crashes. Zero Emissions. Zero Congestion. This is the @GM vision to move humanity forward.  https://t.co/W5ALBsAsdI\n",
            "910866890054127617 2017-09-21 14:02:44 +0000 <mtbarra> I’m honored, inspired and excited for the future of @GM.  https://t.co/6swHc0z48c\n",
            "897904810619305984 2017-08-16 19:36:03 +0000 <mtbarra> GM is about unity and inclusion, and so am I. We must reinforce tolerance and diversity.  https://t.co/JgUQZNKzsz\n",
            "895616764087631872 2017-08-10 12:04:10 +0000 <mtbarra> At our #GM2020 Summit, we discussed the value of being bold and taking action. These attitudes enable @GM to lead in the future of mobility.  https://t.co/isQb8QVDRO\n",
            "892118085909524480 2017-07-31 20:21:41 +0000 <mtbarra> We sparked curiosity and creativity at a #STEM camp, when the @GM team volunteered last week in Detroit’s Cody Rouge community.  https://t.co/HtIlvqqQaT\n",
            "885850198148345856 2017-07-14 13:15:20 +0000 <mtbarra> Congratulations, Kimberly Bryant (@6Gems)! You’re leading the way for women in technology, and @GM is proud to be your partner.  https://t.co/04PFOM0c7Z\n",
            "882263381163560962 2017-07-04 15:42:36 +0000 <mtbarra> I hope your #FourthofJuly is as vibrant as Mike’s lineup of classic GM cars. Have a safe and relaxing holiday!  https://t.co/W6YLKYb47f\n",
            "877986525333528576 2017-06-22 20:27:54 +0000 <mtbarra> Great talking with you about #STEM education too! Thank you for coming to GM’s Canadian Technical Centre today.  https://t.co/iG0YXJgQJr\n",
            "874630947211268096 2017-06-13 14:14:02 +0000 <mtbarra> .@GM announces completion of the latest self-driving test @ChevyElectric Bolt EVs. This is the future of mobility.  https://t.co/0mwmM8JTxF  https://t.co/MBbbF7mWR7\n",
            "873239707911684096 2017-06-09 18:05:45 +0000 <mtbarra> @adehoyoshart @GM @HACRORG @GM_Diversity Thanks, @adehoyoshart, for participating. It was a great discussion.\n",
            "871749269363068928 2017-06-05 15:23:16 +0000 <mtbarra> Diversity of thought and experience is one of the things that strengthens @GM to lead in mobility.  https://t.co/5uMaTMFr8A via @detroitnews\n",
            "865662872365318144 2017-05-19 20:18:06 +0000 <mtbarra> @ahuster @OSUEcoCAR @GM I had a great time learning about the #ecocar3 teams’ innovations and loved the energy in the garage. Welcome to the @GM family, @ahuster!\n",
            "864182222319955970 2017-05-15 18:14:32 +0000 <mtbarra> Congrats to our Executive Chief Engineer Pam Fletcher on making #7! We're proud of your leadership in driving the future of mobility @GM.  https://t.co/kOmu02tYU0\n",
            "862735276216549377 2017-05-11 18:24:53 +0000 <mtbarra> @ProfessorBantz @GM @EconomicClubIN @CICPIndiana Diverse leadership is one of the keys to success! Thanks for joining.\n",
            "862734459690463236 2017-05-11 18:21:38 +0000 <mtbarra> @claudiawhiteTV @EconomicClubIN @GM Thanks for joining today! I had a wonderful time.\n",
            "860267608163184640 2017-05-04 22:59:15 +0000 <mtbarra> @kimberlyeber @GM I was honored to be there. Thank you for having me.\n",
            "860265869754208256 2017-05-04 22:52:20 +0000 <mtbarra> @StanfordBiz @GM Thank you, @StanfordBiz, for having me today. It was great to be back at my alma mater and I enjoyed the discussion.\n",
            "859398308384649216 2017-05-02 13:24:58 +0000 <mtbarra> @CidWilson @GM @HACRORG @WestinDetroit @GM_Diversity @GMBPress @VisitDetroit @freep @detroitnews Thank you, @CidWilson, for having me at #HACR2017. It was a pleasure speaking with you about the importance of diversity and mentorship.\n",
            "857923700229898245 2017-04-28 11:45:24 +0000 <mtbarra> $GM Q1 record results demonstrate strong earnings power and our actions reflect a resolve to grow profitability.\n",
            "852543874920828928 2017-04-13 15:27:53 +0000 <mtbarra> This is one step toward making lives safer, simpler and better. I am excited about what the future of mobility will look like at @GM.  https://t.co/agox3g0sgC\n",
            "847093268261339136 2017-03-29 14:29:08 +0000 <mtbarra> I was energized by SYNAPSE, @GM's 2-month innovation program. Meeting some of the enthusiastic teams was a highlight last week!  https://t.co/CQFC5mpuCg\n",
            "846354562097336320 2017-03-27 13:33:46 +0000 <mtbarra> A @GM engineer shares a post on building our bench-strength of female leaders. Thanks for joining us, @evittorini.  https://t.co/vi4m3eglWs  https://t.co/AycFHqVYCY\n",
            "845338185752330241 2017-03-24 18:15:03 +0000 <mtbarra> I’ll be live at 3:30pm EST with 2 @GM employees talking about how we’re disrupting the innovation process. Tune in:  https://t.co/kAykgTN1Ju\n",
            "844185333621252096 2017-03-21 13:54:02 +0000 <mtbarra> I’m fortunate to learn from women across the @GM family. Victoria McInnis shares her best career advice:  https://t.co/uWm6q7GuhE #IWD2017  https://t.co/vToweWpwis\n",
            "836665711225249792 2017-02-28 19:53:44 +0000 <mtbarra> Really enjoyed talking with David Rubenstein at @TheEconomicClub today about cars, @GM and female leadership.  https://t.co/aLKN7LXyl1\n",
            "834889539701338112 2017-02-23 22:15:52 +0000 <mtbarra> @kireton That’s great, Kirsten! We look forward to having your daughter at @GM.\n",
            "832595406450262020 2017-02-17 14:19:48 +0000 <mtbarra> Congratulations to 5 @GM engineers and computer scientists  awarded at #BEYA2017 for exceptional work on the job and in their communities.  https://t.co/Ny5Yiuo6Y0\n",
            "828948337432858624 2017-02-07 12:47:39 +0000 <mtbarra> By almost any measure, 2016 was a great year for $GM and I am confident we can achieve even stronger results as we move forward.\n",
            "827179197437087745 2017-02-02 15:37:43 +0000 <mtbarra> Congratulations, Kayla. We value mentors like you at @GM.  https://t.co/T4R3brs14b\n",
            "819645282275172352 2017-01-12 20:40:38 +0000 <mtbarra> Incredibly proud of @GM partnership w/ @GirlsWhoCode to empower girls to become the next generation of STEM leaders.  https://t.co/zDwqSkX1RM  https://t.co/9GJoH67JZ5\n",
            "818847651093422081 2017-01-10 15:51:08 +0000 <mtbarra> How @GM and @GirlsWhoCode plan to grow future female leaders in #STEM:  https://t.co/rnvB6Q1gs7  https://t.co/aJZmi9Wjse\n",
            "812720015254372352 2016-12-24 18:02:05 +0000 <mtbarra> Happy Holidays from our @GM family to yours. Thanks to everyone who contributed to a strong year &amp; helped us drive the future of mobility.  https://t.co/R8IsQR3M5Z\n",
            "801092667165786112 2016-11-22 15:59:10 +0000 <mtbarra> Every #BestDayAtWork brings us closer to transforming personal mobility, and that’s something I love about @GM.  https://t.co/bSo11J353T\n",
            "796887455601487872 2016-11-11 01:29:09 +0000 <mtbarra> I am pleased that @LonghornCouncil is honoring @GM’s very own, Dan Berce, with this year’s ‘Distinguished Citizen Award.’ Congratulations.  https://t.co/5dk8FaxsN3\n",
            "796092363282255874 2016-11-08 20:49:44 +0000 <mtbarra> @KT_Neumann @autobild Thank you for a terrific evening. Great honor to accept on behalf of the @GM @Opel team!\n",
            "794553844609024000 2016-11-04 14:56:13 +0000 <mtbarra> @FuquaEnergyClub @DukeFuqua Thank you! I appreciated the opportunity to talk about how GM plans to lead in the future of transportation.\n",
            "791430155172470784 2016-10-27 00:03:47 +0000 <mtbarra> .@OnStar meet @IBMWatson! I’d like to announce OnStar Go: @GM's first self-learning platform for your car.  https://t.co/6cArp9wg5Y  https://t.co/AgoircgWUX\n",
            "790881942111748096 2016-10-25 11:45:23 +0000 <mtbarra> $GM’s record Q3, led by strong U.S. &amp; China performance, reflects our determination to deliver on our commitments.  https://t.co/rDPgcx5zpi  https://t.co/ivADlsy7c4\n",
            "788452819024084992 2016-10-18 18:52:55 +0000 <mtbarra> Every business plays a role in global energy consumption. Bringing clean energy mainstream is a responsibility we’re eager to tackle @GM.  https://t.co/bYv2Ydsmqy\n",
            "779309877126717441 2016-09-23 13:22:08 +0000 <mtbarra> Congrats to @GM’s @kvogt &amp; @danielkan. Keep instilling the @Cruise start-up mentality in our team! #Fortune40  https://t.co/nxbd4UkWz3\n",
            "776204708331548673 2016-09-14 23:43:18 +0000 <mtbarra> The communities where we live &amp; work matter. I'm proud @GM established a 100% renewable energy goal.  https://t.co/rojZsmEGME\n",
            "773182283528404996 2016-09-06 15:33:16 +0000 <mtbarra> As a @GM co-op student I learned to embrace everything your job has to offer. #MyBigBreak  https://t.co/q8ZNLLJA4v  https://t.co/X6eK7rQ1OP\n",
            "771336955510550528 2016-09-01 13:20:35 +0000 <mtbarra> I enjoyed talking with employees during @GM’s Global Safety Week activities at the @GMRenCen yesterday.  https://t.co/UCatEBu6OJ\n",
            "766335426332327936 2016-08-18 18:06:18 +0000 <mtbarra> Wonderful to see so many @GM employees come out to help transform Cody Rouge this week. #teamGMCares  https://t.co/enBGrbRVUo\n",
            "763806917160476672 2016-08-11 18:38:54 +0000 <mtbarra> A good read about @Cruise &amp; @GM, and the future of personal mobility.  https://t.co/Iisi4EbE12\n",
            "758300038665736192 2016-07-27 13:56:32 +0000 <mtbarra> Time well spent at GM’s new executive orientation where I met with 70 of our newest leaders.  https://t.co/MUirlBQgDj\n",
            "755083135306653696 2016-07-18 16:53:42 +0000 <mtbarra> On Thursday I talked about GM careers with a few of our interns. Looking forward to meeting more interns this week!  https://t.co/AKhHLoK6DR\n",
            "747804111018536961 2016-06-28 14:49:28 +0000 <mtbarra> We’ve got a talented team at @GM. Keep up the hard work!  https://t.co/JKXCBIDNwS\n",
            "745386134935470080 2016-06-21 22:41:17 +0000 <mtbarra> Good to meet our inaugural @GM Take 2 interns, a talented group of experienced engineers.  https://t.co/wcKbWYyVC5\n",
            "738818169247281153 2016-06-03 19:42:32 +0000 <mtbarra> It was great to welcome Sec. @PennyPritzker to the @GMRenCen today to chat about @GM’s future of mobility.  https://t.co/PILTTUbfxo\n",
            "730836871799025664 2016-05-12 19:07:43 +0000 <mtbarra> Thanks for hosting us, @MCWT! @GM is proud to be part of the effort to inspire young women to pursue #STEM careers.  https://t.co/q4CFFyHs5F\n",
            "725764149611884544 2016-04-28 19:10:31 +0000 <mtbarra> Great to hear! This is an exciting time to work at GM.  https://t.co/VITBRdcaaI\n",
            "724988405793312768 2016-04-26 15:48:00 +0000 <mtbarra> Energized by GM Jump Start’s (a new hire group) enthusiasm and desire to win!  https://t.co/J5jXGvpLf7\n",
            "723232913572155392 2016-04-21 19:32:18 +0000 <mtbarra> Welcome to Detroit, @MarthaStewart! Hope you enjoyed touring GM Design this morning!  https://t.co/LVRQ5FSbOn\n",
            "714573199837687812 2016-03-28 22:01:41 +0000 <mtbarra> Great interview with @Buick’s @lizwetzel who represents the dynamic design team at @GM.  https://t.co/vRbeHqOkyW\n",
            "713101541885022208 2016-03-24 20:33:51 +0000 <mtbarra> Enjoyed talking with a @GM Tonawanda Engine team who are going the extra mile for their employees!  https://t.co/qLAwLnfzRh\n",
            "709738024406487040 2016-03-15 13:48:25 +0000 <mtbarra> If you're not in one of these 10 jobs, you should be  https://t.co/UUrZvIZXl0 #MyIndustry #STEM @GM\n",
            "707667774689005568 2016-03-09 20:41:59 +0000 <mtbarra> @jamieee_e That’s wonderful, Jamie. I’m glad to hear you’re enjoying your day at GM.\n",
            "692359612071297025 2016-01-27 14:52:49 +0000 <mtbarra> We welcome employees from all stages of life. Proud to share GM’s Take 2 internship for women re-entering STEM jobs.  https://t.co/NoWx6rFhG3\n",
            "676577856508420096 2015-12-15 01:41:45 +0000 <mtbarra> Honored to serve Detroit families at the @ForgottnHarvest holiday dinner tonight with a team of @GM volunteers.  https://t.co/VO5Y3CmeMN\n",
            "669163642001190913 2015-11-24 14:40:19 +0000 <mtbarra> Everyone deserves an education. That's why the GM Foundation is supporting the @PeaceCorps’ Let Girls Learn initiative. #GivingTuesday\n",
            "664097089522126848 2015-11-10 15:07:39 +0000 <mtbarra> Proud that 12 @GM leaders were honored by @Automotive_News last night. #ANleadingwomen  https://t.co/GjhD9ukmDs\n",
            "638797501739466754 2015-09-01 19:36:07 +0000 <mtbarra> Hire people who aren’t like you (and other other tricks we’ve learned while transforming @GM). #HowIHire  https://t.co/Hw73gz9qTN\n",
            "628728475436888064 2015-08-05 00:45:24 +0000 <mtbarra> .@GM has a diverse array of talented engineers around the world and I'm honored to lead them. #ILookLikeAnEngineer  http://t.co/sDSBiiJYtd\n",
            "628297091752726529 2015-08-03 20:11:14 +0000 <mtbarra> I had a great time today with @GM volunteers at @LifeRemodeled in Detroit. An important cause and an awesome team.  http://t.co/mXAYJMWmOo\n",
            "626633784058736641 2015-07-30 06:01:51 +0000 <mtbarra> @narendramodi Thank you for your time yesterday in Dehli. I was pleased to share @GM's $1B USD investment in India with you.\n",
            "615942944520978432 2015-06-30 18:00:16 +0000 <mtbarra> During a recent chat with @DanRoth, I shared my perspective on GM culture. May be different than what you expected.  http://t.co/eC9gPsvc8r\n",
            "564843801236492290 2015-02-09 17:50:31 +0000 <mtbarra> Meet Sheri, chief engineer for @GM’s next-generation pickup trucks  http://t.co/tagjBJ4zZb #STEM\n",
            "555371495846076418 2015-01-14 14:30:57 +0000 <mtbarra> Meet Pam, GM’s executive chief engineer for electrified vehicles  http://t.co/WNSh6JNe6i #STEM #NextGenVolt\n",
            "543044663729750016 2014-12-11 14:08:31 +0000 <mtbarra> Meeting @andrewrsorkin today to talk about the future of the auto industry and @GM at #DBconf.\n",
            "535834808300351489 2014-11-21 16:39:08 +0000 <mtbarra> Great meeting with @KT_Neumann and team discussing @Opel’s key role within @GM.  http://t.co/SA8rhZIzL7\n",
            "519879489686622208 2014-10-08 15:58:23 +0000 <mtbarra> Looking forward to talking with @alansmurray today at #FortuneMPW. Hope to discuss @GM’s road ahead:  http://t.co/BvhPiKiWrY\n",
            "508749035620941824 2014-09-07 22:49:56 +0000 <mtbarra> Transformative transportation: @GM will bring semi-automated driving &amp; V2V @Cadillac tech to market in 2017.  http://t.co/lwOYADEmwn\n",
            "508723232170471424 2014-09-07 21:07:24 +0000 <mtbarra> We’re using customer insights to shape the future of transportation; and I’m about to share some @GM tech news. #ITSWC14\n",
            "502886010221764608 2014-08-22 18:32:22 +0000 <mtbarra> Donations made and had two @GM employees in Flint help me with the #IceBucketChallenge, @KT_Neumann, @equalman &amp; @HP!  http://t.co/6Ay9nOlv13\n",
            "493779289918042112 2014-07-28 15:25:31 +0000 <mtbarra> We're taking lessons learned from the ignition switch recall and driving real change across @GM.  http://t.co/bhSTzayF0I\n",
            "479319724497436672 2014-06-18 17:48:22 +0000 <mtbarra> Good discussion w/ @HouseCommerce today; I won't rest until these problems are resolved. I believe in @GM and our employees. #GMrecall\n",
            "474515159575035904 2014-06-05 11:36:44 +0000 <mtbarra> At 9am EDT, I'm discussing the Valukas findings on the ignition switch recall with @GM employees. Watch live here:  http://t.co/X7JFi0ZOit\n",
            "461491770673483776 2014-04-30 13:06:26 +0000 <mtbarra> I wouldn't be on @TIME’s most influential list without the great team at @GM in my corner. I’m honored to be included  http://t.co/4tPSh28EsW\n",
            "448814638558625792 2014-03-26 13:32:03 +0000 <mtbarra> We're working hard to resolve the @GM ignition switch recall. I answer some of your questions in these videos:  http://t.co/hDKu5OE3lT\n",
            "432323153675550721 2014-02-09 01:20:46 +0000 <mtbarra> Congrats to Dan Akerson for his leadership #BEYA2014 award. Also proud to present @GM engineer Gerald Johnson with Career Achievement award.\n",
            "410514510647017472 2013-12-10 21:01:00 +0000 <mtbarra> Thanks to Dan Akerson for his amazing leadership. The new @GM team is aligned and ready to continue the momentum and pick up the pace.\n",
            "[!] No more data! Scraping will stop now.\n",
            "found 0 deleted tweets in this search.\n"
          ],
          "name": "stdout"
        }
      ]
    },
    {
      "cell_type": "markdown",
      "metadata": {
        "id": "A87ATCpkQIga"
      },
      "source": [
        "## (b). Go back and run the last two code cells DEFINE SEARCH and RUN SEARCH until:\n",
        "\n",
        "* You modify your searches to focus in on what you want to find out\n",
        "* You have gathered enough tweets necessary for rigourous analysis"
      ]
    },
    {
      "cell_type": "code",
      "metadata": {
        "colab": {
          "base_uri": "https://localhost:8080/"
        },
        "id": "IUw44zOG4_ce",
        "outputId": "f420e690-8696-47be-f9e5-1dc9b67b9875"
      },
      "source": [
        "!pwd"
      ],
      "execution_count": 18,
      "outputs": [
        {
          "output_type": "stream",
          "text": [
            "/content\n"
          ],
          "name": "stdout"
        }
      ]
    },
    {
      "cell_type": "code",
      "metadata": {
        "id": "fIEBhPMlyRTI",
        "colab": {
          "base_uri": "https://localhost:8080/"
        },
        "outputId": "b531ccbe-a6c1-48e7-97f7-4d56e2b1922d"
      },
      "source": [
        "!ls -altr *.csv"
      ],
      "execution_count": 19,
      "outputs": [
        {
          "output_type": "stream",
          "text": [
            "-rw-r--r-- 1 root root 76692 Dec 17 03:53 tweets_twint_GM_mtbarra_20201217-035303.csv\n",
            "-rw-r--r-- 1 root root 76692 Dec 17 03:56 tweets_twint_GM_mtbarra_20201217-035621.csv\n",
            "-rw-r--r-- 1 root root 76692 Dec 17 03:56 tweets_twint_GM_mtbarra_20201217-035634.csv\n"
          ],
          "name": "stdout"
        }
      ]
    },
    {
      "cell_type": "code",
      "metadata": {
        "colab": {
          "base_uri": "https://localhost:8080/"
        },
        "id": "ZyPcN9u1nIkg",
        "outputId": "4d02d4c4-17f8-4a2a-aa99-e09d29dbff91"
      },
      "source": [
        "!ls -altr tweets_twint*"
      ],
      "execution_count": 22,
      "outputs": [
        {
          "output_type": "stream",
          "text": [
            "-rw-r--r-- 1 root root 76692 Dec 17 03:53 tweets_twint_GM_mtbarra_20201217-035303.csv\n",
            "-rw-r--r-- 1 root root 76692 Dec 17 03:56 tweets_twint_GM_mtbarra_20201217-035621.csv\n",
            "-rw-r--r-- 1 root root 76692 Dec 17 03:56 tweets_twint_GM_mtbarra_20201217-035634.csv\n"
          ],
          "name": "stdout"
        }
      ]
    },
    {
      "cell_type": "code",
      "metadata": {
        "id": "bfccShixMDZp"
      },
      "source": [
        "# COPY AND PASTE the name of the datafile listed above into command below\n",
        "\n",
        "tweets_df = pd.read_csv('tweets_twint_GM_mtbarra_20201217-035634.csv') # PASTE the correct tweets_twint_*.csv filename from the output of the last cell"
      ],
      "execution_count": 23,
      "outputs": []
    },
    {
      "cell_type": "code",
      "metadata": {
        "colab": {
          "base_uri": "https://localhost:8080/"
        },
        "id": "jT1KUoyRMvmq",
        "outputId": "0befced0-6e9c-4d00-f9e9-642022bf06a9"
      },
      "source": [
        "# Try converting DataFrame.Series/columns to more specific types\n",
        "\n",
        "tweets_df = tweets_df.convert_dtypes()\n",
        "tweets_df.info()"
      ],
      "execution_count": 25,
      "outputs": [
        {
          "output_type": "stream",
          "text": [
            "<class 'pandas.core.frame.DataFrame'>\n",
            "RangeIndex: 131 entries, 0 to 130\n",
            "Data columns (total 36 columns):\n",
            " #   Column           Non-Null Count  Dtype  \n",
            "---  ------           --------------  -----  \n",
            " 0   id               131 non-null    Int64  \n",
            " 1   conversation_id  131 non-null    Int64  \n",
            " 2   created_at       131 non-null    string \n",
            " 3   date             131 non-null    string \n",
            " 4   time             131 non-null    string \n",
            " 5   timezone         131 non-null    Int64  \n",
            " 6   user_id          131 non-null    Int64  \n",
            " 7   username         131 non-null    string \n",
            " 8   name             131 non-null    string \n",
            " 9   place            0 non-null      Int64  \n",
            " 10  tweet            131 non-null    string \n",
            " 11  language         131 non-null    string \n",
            " 12  mentions         131 non-null    string \n",
            " 13  urls             131 non-null    string \n",
            " 14  photos           131 non-null    string \n",
            " 15  replies_count    131 non-null    Int64  \n",
            " 16  retweets_count   131 non-null    Int64  \n",
            " 17  likes_count      131 non-null    Int64  \n",
            " 18  hashtags         131 non-null    string \n",
            " 19  cashtags         131 non-null    string \n",
            " 20  link             131 non-null    string \n",
            " 21  retweet          131 non-null    boolean\n",
            " 22  quote_url        23 non-null     string \n",
            " 23  video            131 non-null    Int64  \n",
            " 24  thumbnail        42 non-null     string \n",
            " 25  near             0 non-null      Int64  \n",
            " 26  geo              0 non-null      Int64  \n",
            " 27  source           0 non-null      Int64  \n",
            " 28  user_rt_id       0 non-null      Int64  \n",
            " 29  user_rt          0 non-null      Int64  \n",
            " 30  retweet_id       0 non-null      Int64  \n",
            " 31  reply_to         131 non-null    string \n",
            " 32  retweet_date     0 non-null      Int64  \n",
            " 33  translate        0 non-null      Int64  \n",
            " 34  trans_src        0 non-null      Int64  \n",
            " 35  trans_dest       0 non-null      Int64  \n",
            "dtypes: Int64(19), boolean(1), string(16)\n",
            "memory usage: 38.6 KB\n"
          ],
          "name": "stdout"
        }
      ]
    },
    {
      "cell_type": "code",
      "metadata": {
        "colab": {
          "base_uri": "https://localhost:8080/",
          "height": 460
        },
        "id": "SRT_NMnqnRI-",
        "outputId": "e8ce9e8c-f29e-4005-9dac-015a51f11540"
      },
      "source": [
        "tweets_df.head()"
      ],
      "execution_count": 26,
      "outputs": [
        {
          "output_type": "execute_result",
          "data": {
            "text/html": [
              "<div>\n",
              "<style scoped>\n",
              "    .dataframe tbody tr th:only-of-type {\n",
              "        vertical-align: middle;\n",
              "    }\n",
              "\n",
              "    .dataframe tbody tr th {\n",
              "        vertical-align: top;\n",
              "    }\n",
              "\n",
              "    .dataframe thead th {\n",
              "        text-align: right;\n",
              "    }\n",
              "</style>\n",
              "<table border=\"1\" class=\"dataframe\">\n",
              "  <thead>\n",
              "    <tr style=\"text-align: right;\">\n",
              "      <th></th>\n",
              "      <th>id</th>\n",
              "      <th>conversation_id</th>\n",
              "      <th>created_at</th>\n",
              "      <th>date</th>\n",
              "      <th>time</th>\n",
              "      <th>timezone</th>\n",
              "      <th>user_id</th>\n",
              "      <th>username</th>\n",
              "      <th>name</th>\n",
              "      <th>place</th>\n",
              "      <th>tweet</th>\n",
              "      <th>language</th>\n",
              "      <th>mentions</th>\n",
              "      <th>urls</th>\n",
              "      <th>photos</th>\n",
              "      <th>replies_count</th>\n",
              "      <th>retweets_count</th>\n",
              "      <th>likes_count</th>\n",
              "      <th>hashtags</th>\n",
              "      <th>cashtags</th>\n",
              "      <th>link</th>\n",
              "      <th>retweet</th>\n",
              "      <th>quote_url</th>\n",
              "      <th>video</th>\n",
              "      <th>thumbnail</th>\n",
              "      <th>near</th>\n",
              "      <th>geo</th>\n",
              "      <th>source</th>\n",
              "      <th>user_rt_id</th>\n",
              "      <th>user_rt</th>\n",
              "      <th>retweet_id</th>\n",
              "      <th>reply_to</th>\n",
              "      <th>retweet_date</th>\n",
              "      <th>translate</th>\n",
              "      <th>trans_src</th>\n",
              "      <th>trans_dest</th>\n",
              "    </tr>\n",
              "  </thead>\n",
              "  <tbody>\n",
              "    <tr>\n",
              "      <th>0</th>\n",
              "      <td>1330901438298525698</td>\n",
              "      <td>1330901438298525698</td>\n",
              "      <td>2020-11-23 15:50:04 UTC</td>\n",
              "      <td>2020-11-23</td>\n",
              "      <td>15:50:04</td>\n",
              "      <td>0</td>\n",
              "      <td>1219824320</td>\n",
              "      <td>mtbarra</td>\n",
              "      <td>Mary Barra</td>\n",
              "      <td>&lt;NA&gt;</td>\n",
              "      <td>We have reached an important inflection point ...</td>\n",
              "      <td>en</td>\n",
              "      <td>[{'screen_name': 'gm', 'name': 'general motors...</td>\n",
              "      <td>[]</td>\n",
              "      <td>[]</td>\n",
              "      <td>554</td>\n",
              "      <td>178</td>\n",
              "      <td>884</td>\n",
              "      <td>[]</td>\n",
              "      <td>[]</td>\n",
              "      <td>https://twitter.com/mtbarra/status/13309014382...</td>\n",
              "      <td>False</td>\n",
              "      <td>&lt;NA&gt;</td>\n",
              "      <td>1</td>\n",
              "      <td>https://pbs.twimg.com/ext_tw_video_thumb/13309...</td>\n",
              "      <td>&lt;NA&gt;</td>\n",
              "      <td>&lt;NA&gt;</td>\n",
              "      <td>&lt;NA&gt;</td>\n",
              "      <td>&lt;NA&gt;</td>\n",
              "      <td>&lt;NA&gt;</td>\n",
              "      <td>&lt;NA&gt;</td>\n",
              "      <td>[]</td>\n",
              "      <td>&lt;NA&gt;</td>\n",
              "      <td>&lt;NA&gt;</td>\n",
              "      <td>&lt;NA&gt;</td>\n",
              "      <td>&lt;NA&gt;</td>\n",
              "    </tr>\n",
              "    <tr>\n",
              "      <th>1</th>\n",
              "      <td>1325910961715339264</td>\n",
              "      <td>1325910961715339264</td>\n",
              "      <td>2020-11-09 21:19:42 UTC</td>\n",
              "      <td>2020-11-09</td>\n",
              "      <td>21:19:42</td>\n",
              "      <td>0</td>\n",
              "      <td>1219824320</td>\n",
              "      <td>mtbarra</td>\n",
              "      <td>Mary Barra</td>\n",
              "      <td>&lt;NA&gt;</td>\n",
              "      <td>Congratulations to @JimmieJohnson as he retire...</td>\n",
              "      <td>en</td>\n",
              "      <td>[{'screen_name': 'jimmiejohnson', 'name': 'jim...</td>\n",
              "      <td>[]</td>\n",
              "      <td>[]</td>\n",
              "      <td>21</td>\n",
              "      <td>7</td>\n",
              "      <td>93</td>\n",
              "      <td>[]</td>\n",
              "      <td>[]</td>\n",
              "      <td>https://twitter.com/mtbarra/status/13259109617...</td>\n",
              "      <td>False</td>\n",
              "      <td>https://twitter.com/TeamChevy/status/132580031...</td>\n",
              "      <td>0</td>\n",
              "      <td>&lt;NA&gt;</td>\n",
              "      <td>&lt;NA&gt;</td>\n",
              "      <td>&lt;NA&gt;</td>\n",
              "      <td>&lt;NA&gt;</td>\n",
              "      <td>&lt;NA&gt;</td>\n",
              "      <td>&lt;NA&gt;</td>\n",
              "      <td>&lt;NA&gt;</td>\n",
              "      <td>[]</td>\n",
              "      <td>&lt;NA&gt;</td>\n",
              "      <td>&lt;NA&gt;</td>\n",
              "      <td>&lt;NA&gt;</td>\n",
              "      <td>&lt;NA&gt;</td>\n",
              "    </tr>\n",
              "    <tr>\n",
              "      <th>2</th>\n",
              "      <td>1322272268781846529</td>\n",
              "      <td>1322272268781846529</td>\n",
              "      <td>2020-10-30 20:20:50 UTC</td>\n",
              "      <td>2020-10-30</td>\n",
              "      <td>20:20:50</td>\n",
              "      <td>0</td>\n",
              "      <td>1219824320</td>\n",
              "      <td>mtbarra</td>\n",
              "      <td>Mary Barra</td>\n",
              "      <td>&lt;NA&gt;</td>\n",
              "      <td>One of the best CFOs in the world is joining @...</td>\n",
              "      <td>en</td>\n",
              "      <td>[{'screen_name': 'gm', 'name': 'general motors...</td>\n",
              "      <td>[]</td>\n",
              "      <td>[]</td>\n",
              "      <td>536</td>\n",
              "      <td>39</td>\n",
              "      <td>351</td>\n",
              "      <td>[]</td>\n",
              "      <td>[]</td>\n",
              "      <td>https://twitter.com/mtbarra/status/13222722687...</td>\n",
              "      <td>False</td>\n",
              "      <td>&lt;NA&gt;</td>\n",
              "      <td>0</td>\n",
              "      <td>&lt;NA&gt;</td>\n",
              "      <td>&lt;NA&gt;</td>\n",
              "      <td>&lt;NA&gt;</td>\n",
              "      <td>&lt;NA&gt;</td>\n",
              "      <td>&lt;NA&gt;</td>\n",
              "      <td>&lt;NA&gt;</td>\n",
              "      <td>&lt;NA&gt;</td>\n",
              "      <td>[]</td>\n",
              "      <td>&lt;NA&gt;</td>\n",
              "      <td>&lt;NA&gt;</td>\n",
              "      <td>&lt;NA&gt;</td>\n",
              "      <td>&lt;NA&gt;</td>\n",
              "    </tr>\n",
              "    <tr>\n",
              "      <th>3</th>\n",
              "      <td>1320001660169736197</td>\n",
              "      <td>1319720932211130370</td>\n",
              "      <td>2020-10-24 13:58:14 UTC</td>\n",
              "      <td>2020-10-24</td>\n",
              "      <td>13:58:14</td>\n",
              "      <td>0</td>\n",
              "      <td>1219824320</td>\n",
              "      <td>mtbarra</td>\n",
              "      <td>Mary Barra</td>\n",
              "      <td>&lt;NA&gt;</td>\n",
              "      <td>@fatma_samoura @GM Thank you, @Fatma_Samoura. ...</td>\n",
              "      <td>en</td>\n",
              "      <td>[{'screen_name': 'fatma_samoura', 'name': 'fat...</td>\n",
              "      <td>[]</td>\n",
              "      <td>[]</td>\n",
              "      <td>3</td>\n",
              "      <td>1</td>\n",
              "      <td>11</td>\n",
              "      <td>[]</td>\n",
              "      <td>[]</td>\n",
              "      <td>https://twitter.com/mtbarra/status/13200016601...</td>\n",
              "      <td>False</td>\n",
              "      <td>&lt;NA&gt;</td>\n",
              "      <td>0</td>\n",
              "      <td>&lt;NA&gt;</td>\n",
              "      <td>&lt;NA&gt;</td>\n",
              "      <td>&lt;NA&gt;</td>\n",
              "      <td>&lt;NA&gt;</td>\n",
              "      <td>&lt;NA&gt;</td>\n",
              "      <td>&lt;NA&gt;</td>\n",
              "      <td>&lt;NA&gt;</td>\n",
              "      <td>[{'screen_name': 'fatma_samoura', 'name': 'Fat...</td>\n",
              "      <td>&lt;NA&gt;</td>\n",
              "      <td>&lt;NA&gt;</td>\n",
              "      <td>&lt;NA&gt;</td>\n",
              "      <td>&lt;NA&gt;</td>\n",
              "    </tr>\n",
              "    <tr>\n",
              "      <th>4</th>\n",
              "      <td>1318723212231036931</td>\n",
              "      <td>1318723212231036931</td>\n",
              "      <td>2020-10-21 01:18:09 UTC</td>\n",
              "      <td>2020-10-21</td>\n",
              "      <td>01:18:09</td>\n",
              "      <td>0</td>\n",
              "      <td>1219824320</td>\n",
              "      <td>mtbarra</td>\n",
              "      <td>Mary Barra</td>\n",
              "      <td>&lt;NA&gt;</td>\n",
              "      <td>What an exciting night! The design, engineerin...</td>\n",
              "      <td>en</td>\n",
              "      <td>[{'screen_name': 'gm', 'name': 'general motors...</td>\n",
              "      <td>[]</td>\n",
              "      <td>[]</td>\n",
              "      <td>77</td>\n",
              "      <td>78</td>\n",
              "      <td>431</td>\n",
              "      <td>['gmchummerev', 'ev']</td>\n",
              "      <td>[]</td>\n",
              "      <td>https://twitter.com/mtbarra/status/13187232122...</td>\n",
              "      <td>False</td>\n",
              "      <td>https://twitter.com/GMC/status/131872142044106...</td>\n",
              "      <td>0</td>\n",
              "      <td>&lt;NA&gt;</td>\n",
              "      <td>&lt;NA&gt;</td>\n",
              "      <td>&lt;NA&gt;</td>\n",
              "      <td>&lt;NA&gt;</td>\n",
              "      <td>&lt;NA&gt;</td>\n",
              "      <td>&lt;NA&gt;</td>\n",
              "      <td>&lt;NA&gt;</td>\n",
              "      <td>[]</td>\n",
              "      <td>&lt;NA&gt;</td>\n",
              "      <td>&lt;NA&gt;</td>\n",
              "      <td>&lt;NA&gt;</td>\n",
              "      <td>&lt;NA&gt;</td>\n",
              "    </tr>\n",
              "  </tbody>\n",
              "</table>\n",
              "</div>"
            ],
            "text/plain": [
              "                    id      conversation_id  ... trans_src trans_dest\n",
              "0  1330901438298525698  1330901438298525698  ...      <NA>       <NA>\n",
              "1  1325910961715339264  1325910961715339264  ...      <NA>       <NA>\n",
              "2  1322272268781846529  1322272268781846529  ...      <NA>       <NA>\n",
              "3  1320001660169736197  1319720932211130370  ...      <NA>       <NA>\n",
              "4  1318723212231036931  1318723212231036931  ...      <NA>       <NA>\n",
              "\n",
              "[5 rows x 36 columns]"
            ]
          },
          "metadata": {
            "tags": []
          },
          "execution_count": 26
        }
      ]
    },
    {
      "cell_type": "markdown",
      "metadata": {
        "id": "3Vx0xUwFRFrK"
      },
      "source": [
        "# **2. Aggregate your twitter datasets from all your searches and write to file (including a manifest file)**"
      ]
    },
    {
      "cell_type": "code",
      "metadata": {
        "colab": {
          "base_uri": "https://localhost:8080/"
        },
        "id": "bjw90jRoRSR1",
        "outputId": "14bee814-3bea-4737-934f-cd5980e10d28"
      },
      "source": [
        "!ls tweets_twint*"
      ],
      "execution_count": 28,
      "outputs": [
        {
          "output_type": "stream",
          "text": [
            "tweets_twint_GM_mtbarra_20201217-035303.csv\n",
            "tweets_twint_GM_mtbarra_20201217-035621.csv\n",
            "tweets_twint_GM_mtbarra_20201217-035634.csv\n"
          ],
          "name": "stdout"
        }
      ]
    },
    {
      "cell_type": "code",
      "metadata": {
        "colab": {
          "base_uri": "https://localhost:8080/"
        },
        "id": "BEJASt1bRSO4",
        "outputId": "f25b9571-4c4b-4426-cc90-b8ab469144ff"
      },
      "source": [
        "# CUSTOMIZE: Define a RegEx pattern that matches all the twitter dataset files \n",
        "#            you want to combine (e.g. tweets_twint_*.csv)\n",
        "\n",
        "tweet_filenames = 'tweets_twint_*.csv'  # Define the RegEx that matches all your twitter dataset files\n",
        "\n",
        "all_tweet_files = [i for i in glob.glob(tweet_filenames)] # You should use 'tweets_*.csv'\n",
        "print(all_tweet_files)"
      ],
      "execution_count": 29,
      "outputs": [
        {
          "output_type": "stream",
          "text": [
            "['tweets_twint_GM_mtbarra_20201217-035634.csv', 'tweets_twint_GM_mtbarra_20201217-035303.csv', 'tweets_twint_GM_mtbarra_20201217-035621.csv']\n"
          ],
          "name": "stdout"
        }
      ]
    },
    {
      "cell_type": "code",
      "metadata": {
        "colab": {
          "base_uri": "https://localhost:8080/"
        },
        "id": "JIGfuFRUYLEw",
        "outputId": "7920c068-1db4-46b6-dcab-84cb62f81022"
      },
      "source": [
        "# Review user/search terms used to create these files\n",
        "\n",
        "search_terms_ls"
      ],
      "execution_count": 30,
      "outputs": [
        {
          "output_type": "execute_result",
          "data": {
            "text/plain": [
              "['USERNAME:mtbarra and SEARCHTERMS:GM',\n",
              " 'USERNAME:mtbarra and SEARCHTERMS:GM',\n",
              " 'USERNAME:mtbarra and SEARCHTERMS:GM']"
            ]
          },
          "metadata": {
            "tags": []
          },
          "execution_count": 30
        }
      ]
    },
    {
      "cell_type": "code",
      "metadata": {
        "id": "1UwhU_wAUuwb"
      },
      "source": [
        "# Combine all twitter dataset files into one pd.DataFrame\n",
        "combined_df = pd.concat([pd.read_csv(f) for f in all_tweet_files ])\n",
        "\n",
        "# Create a filename of search results in a file with the name contained a unique timestamp\n",
        "timestr = time.strftime(\"%Y%m%d-%H%M%S\")\n",
        "file_name_combo = f\"tweets_combined_{timestr}.csv\"\n",
        "\n",
        "# Write all tweets combined into one big file\n",
        "combined_df.to_csv(file_name_combo, index=False, encoding='utf-8-sig')\n",
        "\n",
        "# Write an accompnaying manifest file with all the search terms used to gather tweets in the combined file\n",
        "file_name_combo_root = file_name_combo.split('.')[0]\n",
        "file_name_combo_manifest = f\"{file_name_combo_root}_manifest.txt\"\n",
        "with open(file_name_combo_manifest, 'w') as fp:\n",
        "  fp.writelines(search_terms_ls)"
      ],
      "execution_count": 31,
      "outputs": []
    },
    {
      "cell_type": "code",
      "metadata": {
        "colab": {
          "base_uri": "https://localhost:8080/"
        },
        "id": "70eijY2LQ-RM",
        "outputId": "1bbaf24a-1f58-4801-adf7-9153adf5018e"
      },
      "source": [
        "# CONFIRM: Both the 'tweets_combined_*.csv' and 'tweets_combined_*_manifest.txt' files exist\n",
        "#          and that the size of the combined dataset file is approximately equal to all the \n",
        "#          individual dataset files that went into it\n",
        "\n",
        "!ls -altr tweets_*"
      ],
      "execution_count": 34,
      "outputs": [
        {
          "output_type": "stream",
          "text": [
            "-rw-r--r-- 1 root root  76692 Dec 17 03:53 tweets_twint_GM_mtbarra_20201217-035303.csv\n",
            "-rw-r--r-- 1 root root  76692 Dec 17 03:56 tweets_twint_GM_mtbarra_20201217-035621.csv\n",
            "-rw-r--r-- 1 root root  76692 Dec 17 03:56 tweets_twint_GM_mtbarra_20201217-035634.csv\n",
            "-rw-r--r-- 1 root root 227491 Dec 17 03:58 tweets_combined_20201217-035841.csv\n",
            "-rw-r--r-- 1 root root    105 Dec 17 03:58 tweets_combined_20201217-035841_manifest.txt\n"
          ],
          "name": "stdout"
        }
      ]
    },
    {
      "cell_type": "code",
      "metadata": {
        "colab": {
          "base_uri": "https://localhost:8080/"
        },
        "id": "3c-mcaCqYeBn",
        "outputId": "90489336-a492-4812-81fc-0c7ca7478dc5"
      },
      "source": [
        "# CHECK: Make sure the manifest.txt file associated with our combined tweet dataset file saved all our\n",
        "#        search terms\n",
        "\n",
        "# CONFIGURE: cut-n-paste in the full filename of the most recent '*_manisfest.txt' file listed in the previous code cell above\n",
        "\n",
        "!cat tweets_combined_20201217-035841_manifest.txt"
      ],
      "execution_count": 35,
      "outputs": [
        {
          "output_type": "stream",
          "text": [
            "USERNAME:mtbarra and SEARCHTERMS:GMUSERNAME:mtbarra and SEARCHTERMS:GMUSERNAME:mtbarra and SEARCHTERMS:GM"
          ],
          "name": "stdout"
        }
      ]
    },
    {
      "cell_type": "code",
      "metadata": {
        "colab": {
          "base_uri": "https://localhost:8080/"
        },
        "id": "a_bMxs3bYd6R",
        "outputId": "c501c99a-f2c8-456c-d0ed-861aff9ad86c"
      },
      "source": [
        "combined_df = combined_df.convert_dtypes()\n",
        "combined_df.info()"
      ],
      "execution_count": 36,
      "outputs": [
        {
          "output_type": "stream",
          "text": [
            "<class 'pandas.core.frame.DataFrame'>\n",
            "Int64Index: 393 entries, 0 to 130\n",
            "Data columns (total 36 columns):\n",
            " #   Column           Non-Null Count  Dtype  \n",
            "---  ------           --------------  -----  \n",
            " 0   id               393 non-null    Int64  \n",
            " 1   conversation_id  393 non-null    Int64  \n",
            " 2   created_at       393 non-null    string \n",
            " 3   date             393 non-null    string \n",
            " 4   time             393 non-null    string \n",
            " 5   timezone         393 non-null    Int64  \n",
            " 6   user_id          393 non-null    Int64  \n",
            " 7   username         393 non-null    string \n",
            " 8   name             393 non-null    string \n",
            " 9   place            0 non-null      Int64  \n",
            " 10  tweet            393 non-null    string \n",
            " 11  language         393 non-null    string \n",
            " 12  mentions         393 non-null    string \n",
            " 13  urls             393 non-null    string \n",
            " 14  photos           393 non-null    string \n",
            " 15  replies_count    393 non-null    Int64  \n",
            " 16  retweets_count   393 non-null    Int64  \n",
            " 17  likes_count      393 non-null    Int64  \n",
            " 18  hashtags         393 non-null    string \n",
            " 19  cashtags         393 non-null    string \n",
            " 20  link             393 non-null    string \n",
            " 21  retweet          393 non-null    boolean\n",
            " 22  quote_url        69 non-null     string \n",
            " 23  video            393 non-null    Int64  \n",
            " 24  thumbnail        126 non-null    string \n",
            " 25  near             0 non-null      Int64  \n",
            " 26  geo              0 non-null      Int64  \n",
            " 27  source           0 non-null      Int64  \n",
            " 28  user_rt_id       0 non-null      Int64  \n",
            " 29  user_rt          0 non-null      Int64  \n",
            " 30  retweet_id       0 non-null      Int64  \n",
            " 31  reply_to         393 non-null    string \n",
            " 32  retweet_date     0 non-null      Int64  \n",
            " 33  translate        0 non-null      Int64  \n",
            " 34  trans_src        0 non-null      Int64  \n",
            " 35  trans_dest       0 non-null      Int64  \n",
            "dtypes: Int64(19), boolean(1), string(16)\n",
            "memory usage: 118.6 KB\n"
          ],
          "name": "stdout"
        }
      ]
    },
    {
      "cell_type": "code",
      "metadata": {
        "id": "IPxiQU95ZzVh",
        "colab": {
          "base_uri": "https://localhost:8080/"
        },
        "outputId": "8667d2f3-9bb2-4021-84c0-4ec8f61303f0"
      },
      "source": [
        "!pwd"
      ],
      "execution_count": 37,
      "outputs": [
        {
          "output_type": "stream",
          "text": [
            "/content\n"
          ],
          "name": "stdout"
        }
      ]
    },
    {
      "cell_type": "code",
      "metadata": {
        "colab": {
          "base_uri": "https://localhost:8080/"
        },
        "id": "Inu2Gkk9NJFG",
        "outputId": "f4cac8ca-77e8-4d26-9376-d459329dc9ba"
      },
      "source": [
        "!ls"
      ],
      "execution_count": 38,
      "outputs": [
        {
          "output_type": "stream",
          "text": [
            "sample_data\n",
            "tweets_combined_20201217-035841.csv\n",
            "tweets_combined_20201217-035841_manifest.txt\n",
            "tweets_twint_GM_mtbarra_20201217-035303.csv\n",
            "tweets_twint_GM_mtbarra_20201217-035621.csv\n",
            "tweets_twint_GM_mtbarra_20201217-035634.csv\n"
          ],
          "name": "stdout"
        }
      ]
    },
    {
      "cell_type": "markdown",
      "metadata": {
        "id": "6jsU_1hI6Wvt"
      },
      "source": [
        "# **3. Clean tweets and separate out subcomponents (e.g. hashtags, emojis, etc)**"
      ]
    },
    {
      "cell_type": "markdown",
      "metadata": {
        "id": "xQfd6Bx8RHkG"
      },
      "source": [
        "# **4. Exploratory Data Analysis (EDA) and Visualizations of Raw Data**"
      ]
    },
    {
      "cell_type": "code",
      "metadata": {
        "id": "YynYmjWUREYR"
      },
      "source": [
        ""
      ],
      "execution_count": null,
      "outputs": []
    }
  ]
}