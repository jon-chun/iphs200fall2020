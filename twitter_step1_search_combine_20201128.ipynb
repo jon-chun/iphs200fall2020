{
  "nbformat": 4,
  "nbformat_minor": 0,
  "metadata": {
    "colab": {
      "name": "twitter_step1_search_combine_20201128.ipynb",
      "provenance": [],
      "collapsed_sections": [],
      "authorship_tag": "ABX9TyOcmXxfK/dn9sek1hbZkdrq",
      "include_colab_link": true
    },
    "kernelspec": {
      "name": "python3",
      "display_name": "Python 3"
    }
  },
  "cells": [
    {
      "cell_type": "markdown",
      "metadata": {
        "id": "view-in-github",
        "colab_type": "text"
      },
      "source": [
        "<a href=\"https://colab.research.google.com/github/programminghumanity/iphs200fall2020/blob/main/twitter_step1_search_combine_20201128.ipynb\" target=\"_parent\"><img src=\"https://colab.research.google.com/assets/colab-badge.svg\" alt=\"Open In Colab\"/></a>"
      ]
    },
    {
      "cell_type": "markdown",
      "metadata": {
        "id": "Rzsen3ZUBdSQ"
      },
      "source": [
        "# **Gathering Tweets**\n",
        "\n",
        "References:\n",
        "\n",
        "* https://www.youtube.com/watch?v=_SqgSh3aR1g (20201127 10:17)\n",
        "* https://null-byte.wonderhowto.com/how-to/mine-twitter-for-targeted-information-with-twint-0193853/ (20190502) \n",
        "* https://github.com/twintproject/twint/wiki (wiki)\n",
        "* https://pielco11.ovh/posts/twint-osint/ (osint)"
      ]
    },
    {
      "cell_type": "markdown",
      "metadata": {
        "id": "i8aNZI7_QrAQ"
      },
      "source": [
        "# **0. Setup Environment**"
      ]
    },
    {
      "cell_type": "markdown",
      "metadata": {
        "id": "kOryUc6RTIuM"
      },
      "source": [
        "## You will need to give permission for this Colab to link to your gdrive in the code cell below"
      ]
    },
    {
      "cell_type": "code",
      "metadata": {
        "colab": {
          "base_uri": "https://localhost:8080/"
        },
        "id": "JRw5dI8MTHk8",
        "outputId": "5ff175af-e787-4bc0-f187-9c8d27b8351c"
      },
      "source": [
        "from google.colab import drive\n",
        "drive.mount('/gdrive')\n",
        "%cd /gdrive"
      ],
      "execution_count": 1,
      "outputs": [
        {
          "output_type": "stream",
          "text": [
            "Mounted at /gdrive\n",
            "/gdrive\n"
          ],
          "name": "stdout"
        }
      ]
    },
    {
      "cell_type": "code",
      "metadata": {
        "id": "mMKdt2p4TYSR"
      },
      "source": [
        "# CUSTOMIZE: if you want your work and twitter datasets saved into a specific folder\n",
        "#            beneath your gdrive root directory, define it below\n",
        "\n",
        "dir_working = './MyDrive/courses/2020f_iphs200_programming_humanity/code/'"
      ],
      "execution_count": 2,
      "outputs": []
    },
    {
      "cell_type": "code",
      "metadata": {
        "id": "OrX8s9gAMt-I",
        "colab": {
          "base_uri": "https://localhost:8080/"
        },
        "outputId": "a164fe0e-1361-4e5c-c3b8-605a63be14d7"
      },
      "source": [
        "# Move to working directory\n",
        "\n",
        "%cd $dir_working"
      ],
      "execution_count": 3,
      "outputs": [
        {
          "output_type": "stream",
          "text": [
            "/gdrive/MyDrive/courses/2020f_iphs200_programming_humanity/code\n"
          ],
          "name": "stdout"
        }
      ]
    },
    {
      "cell_type": "code",
      "metadata": {
        "colab": {
          "base_uri": "https://localhost:8080/"
        },
        "id": "fqUgxRUbAl1B",
        "outputId": "7227a744-ceec-49df-ad26-87cf3d27b4b3"
      },
      "source": [
        "!git clone --depth=1 https://github.com/twintproject/twint.git\n"
      ],
      "execution_count": 4,
      "outputs": [
        {
          "output_type": "stream",
          "text": [
            "fatal: destination path 'twint' already exists and is not an empty directory.\n"
          ],
          "name": "stdout"
        }
      ]
    },
    {
      "cell_type": "code",
      "metadata": {
        "colab": {
          "base_uri": "https://localhost:8080/"
        },
        "id": "3ImRXorVAn7N",
        "outputId": "0610859e-46ce-4b3e-fbdd-5ec809240c30"
      },
      "source": [
        "%cd twint\n"
      ],
      "execution_count": 5,
      "outputs": [
        {
          "output_type": "stream",
          "text": [
            "/gdrive/MyDrive/courses/2020f_iphs200_programming_humanity/code/twint\n"
          ],
          "name": "stdout"
        }
      ]
    },
    {
      "cell_type": "code",
      "metadata": {
        "colab": {
          "base_uri": "https://localhost:8080/",
          "height": 1000
        },
        "id": "cNpfJT3pAwHd",
        "outputId": "44865a1b-eb83-4d43-d301-f6df89ca69e6"
      },
      "source": [
        "# RESTART RUNTIME button at end of output (this takes a bit of time)\n",
        "\n",
        "!pip3 install . -r requirements.txt"
      ],
      "execution_count": 6,
      "outputs": [
        {
          "output_type": "stream",
          "text": [
            "Processing /gdrive/MyDrive/courses/2020f_iphs200_programming_humanity/code/twint\n",
            "Collecting aiohttp\n",
            "\u001b[?25l  Downloading https://files.pythonhosted.org/packages/ad/e6/d4b6235d776c9b33f853e603efede5aac5a34f71ca9d3877adb30492eb4e/aiohttp-3.7.3-cp36-cp36m-manylinux2014_x86_64.whl (1.3MB)\n",
            "\u001b[K     |████████████████████████████████| 1.3MB 4.3MB/s \n",
            "\u001b[?25hCollecting aiodns\n",
            "  Downloading https://files.pythonhosted.org/packages/da/01/8f2d49b441573fd2478833bdba91cf0b853b4c750a1fbb9e98de1b94bb22/aiodns-2.0.0-py2.py3-none-any.whl\n",
            "Requirement already satisfied: beautifulsoup4 in /usr/local/lib/python3.6/dist-packages (from -r requirements.txt (line 3)) (4.6.3)\n",
            "Collecting cchardet\n",
            "\u001b[?25l  Downloading https://files.pythonhosted.org/packages/a0/e5/a0b9edd8664ea3b0d3270c451ebbf86655ed9fc4c3e4c45b9afae9c2e382/cchardet-2.1.7-cp36-cp36m-manylinux2010_x86_64.whl (263kB)\n",
            "\u001b[K     |████████████████████████████████| 266kB 17.9MB/s \n",
            "\u001b[?25hRequirement already satisfied: dataclasses in /usr/local/lib/python3.6/dist-packages (from -r requirements.txt (line 5)) (0.8)\n",
            "Collecting elasticsearch\n",
            "\u001b[?25l  Downloading https://files.pythonhosted.org/packages/86/74/054342aa07121f7c82e30ae63e3f257a793a69ddc11c5065449252dcd8af/elasticsearch-7.10.1-py2.py3-none-any.whl (322kB)\n",
            "\u001b[K     |████████████████████████████████| 327kB 21.0MB/s \n",
            "\u001b[?25hRequirement already satisfied: pysocks in /usr/local/lib/python3.6/dist-packages (from -r requirements.txt (line 7)) (1.7.1)\n",
            "Requirement already satisfied: pandas>=0.23.0 in /usr/local/lib/python3.6/dist-packages (from -r requirements.txt (line 8)) (1.1.5)\n",
            "Collecting aiohttp_socks<=0.4.1\n",
            "  Downloading https://files.pythonhosted.org/packages/72/55/c00bf359a54c1438ac0fe36f9bba9538c912138f033897d4e95ddd8cc772/aiohttp_socks-0.4.1-py3-none-any.whl\n",
            "Collecting schedule\n",
            "  Downloading https://files.pythonhosted.org/packages/57/22/3a709462eb02412bd1145f6e53604f36bba191e3e4e397bea4a718fec38c/schedule-0.6.0-py2.py3-none-any.whl\n",
            "Requirement already satisfied: geopy in /usr/local/lib/python3.6/dist-packages (from -r requirements.txt (line 11)) (1.17.0)\n",
            "Collecting fake-useragent\n",
            "  Downloading https://files.pythonhosted.org/packages/d1/79/af647635d6968e2deb57a208d309f6069d31cb138066d7e821e575112a80/fake-useragent-0.1.11.tar.gz\n",
            "Collecting googletransx\n",
            "  Downloading https://files.pythonhosted.org/packages/27/e1/77cd530afec7944d40c5bdd260bcc111be4012b045c82d4e3ffec90b2a42/googletransx-2.4.2.tar.gz\n",
            "Requirement already satisfied: attrs>=17.3.0 in /usr/local/lib/python3.6/dist-packages (from aiohttp->-r requirements.txt (line 1)) (20.3.0)\n",
            "Collecting yarl<2.0,>=1.0\n",
            "\u001b[?25l  Downloading https://files.pythonhosted.org/packages/da/08/52b26b44bce7b818b410aee37c5e424c9ea420c557bca97dc2adac29b151/yarl-1.6.3-cp36-cp36m-manylinux2014_x86_64.whl (293kB)\n",
            "\u001b[K     |████████████████████████████████| 296kB 22.7MB/s \n",
            "\u001b[?25hCollecting idna-ssl>=1.0; python_version < \"3.7\"\n",
            "  Downloading https://files.pythonhosted.org/packages/46/03/07c4894aae38b0de52b52586b24bf189bb83e4ddabfe2e2c8f2419eec6f4/idna-ssl-1.1.0.tar.gz\n",
            "Collecting multidict<7.0,>=4.5\n",
            "\u001b[?25l  Downloading https://files.pythonhosted.org/packages/a1/35/b22524d6b9cacfb4c5eff413a069bbc17c6ea628e54da5c6c989998ced5f/multidict-5.1.0-cp36-cp36m-manylinux2014_x86_64.whl (141kB)\n",
            "\u001b[K     |████████████████████████████████| 143kB 28.8MB/s \n",
            "\u001b[?25hCollecting async-timeout<4.0,>=3.0\n",
            "  Downloading https://files.pythonhosted.org/packages/e1/1e/5a4441be21b0726c4464f3f23c8b19628372f606755a9d2e46c187e65ec4/async_timeout-3.0.1-py3-none-any.whl\n",
            "Requirement already satisfied: typing-extensions>=3.6.5 in /usr/local/lib/python3.6/dist-packages (from aiohttp->-r requirements.txt (line 1)) (3.7.4.3)\n",
            "Requirement already satisfied: chardet<4.0,>=2.0 in /usr/local/lib/python3.6/dist-packages (from aiohttp->-r requirements.txt (line 1)) (3.0.4)\n",
            "Collecting typing; python_version < \"3.7\"\n",
            "\u001b[?25l  Downloading https://files.pythonhosted.org/packages/05/d9/6eebe19d46bd05360c9a9aae822e67a80f9242aabbfc58b641b957546607/typing-3.7.4.3.tar.gz (78kB)\n",
            "\u001b[K     |████████████████████████████████| 81kB 7.9MB/s \n",
            "\u001b[?25hCollecting pycares>=3.0.0\n",
            "\u001b[?25l  Downloading https://files.pythonhosted.org/packages/43/2d/7f4984a23f6e99cf6a8b20ddc59308efb209fe81e79c97af65e9b30eefae/pycares-3.1.1-cp36-cp36m-manylinux2010_x86_64.whl (228kB)\n",
            "\u001b[K     |████████████████████████████████| 235kB 24.2MB/s \n",
            "\u001b[?25hRequirement already satisfied: urllib3<2,>=1.21.1 in /usr/local/lib/python3.6/dist-packages (from elasticsearch->-r requirements.txt (line 6)) (1.24.3)\n",
            "Requirement already satisfied: certifi in /usr/local/lib/python3.6/dist-packages (from elasticsearch->-r requirements.txt (line 6)) (2020.12.5)\n",
            "Requirement already satisfied: pytz>=2017.2 in /usr/local/lib/python3.6/dist-packages (from pandas>=0.23.0->-r requirements.txt (line 8)) (2018.9)\n",
            "Requirement already satisfied: python-dateutil>=2.7.3 in /usr/local/lib/python3.6/dist-packages (from pandas>=0.23.0->-r requirements.txt (line 8)) (2.8.1)\n",
            "Requirement already satisfied: numpy>=1.15.4 in /usr/local/lib/python3.6/dist-packages (from pandas>=0.23.0->-r requirements.txt (line 8)) (1.18.5)\n",
            "Requirement already satisfied: geographiclib<2,>=1.49 in /usr/local/lib/python3.6/dist-packages (from geopy->-r requirements.txt (line 11)) (1.50)\n",
            "Requirement already satisfied: requests in /usr/local/lib/python3.6/dist-packages (from googletransx->-r requirements.txt (line 13)) (2.23.0)\n",
            "Requirement already satisfied: idna>=2.0 in /usr/local/lib/python3.6/dist-packages (from yarl<2.0,>=1.0->aiohttp->-r requirements.txt (line 1)) (2.10)\n",
            "Requirement already satisfied: cffi>=1.5.0 in /usr/local/lib/python3.6/dist-packages (from pycares>=3.0.0->aiodns->-r requirements.txt (line 2)) (1.14.4)\n",
            "Requirement already satisfied: six>=1.5 in /usr/local/lib/python3.6/dist-packages (from python-dateutil>=2.7.3->pandas>=0.23.0->-r requirements.txt (line 8)) (1.15.0)\n",
            "Requirement already satisfied: pycparser in /usr/local/lib/python3.6/dist-packages (from cffi>=1.5.0->pycares>=3.0.0->aiodns->-r requirements.txt (line 2)) (2.20)\n",
            "Building wheels for collected packages: fake-useragent, googletransx, twint, idna-ssl, typing\n",
            "  Building wheel for fake-useragent (setup.py) ... \u001b[?25l\u001b[?25hdone\n",
            "  Created wheel for fake-useragent: filename=fake_useragent-0.1.11-cp36-none-any.whl size=13485 sha256=e6f3662ca727aed5993aed5148baea25ddc511c7c3a73c145feceb4cbb4e39c2\n",
            "  Stored in directory: /root/.cache/pip/wheels/5e/63/09/d1dc15179f175357d3f5c00cbffbac37f9e8690d80545143ff\n",
            "  Building wheel for googletransx (setup.py) ... \u001b[?25l\u001b[?25hdone\n",
            "  Created wheel for googletransx: filename=googletransx-2.4.2-cp36-none-any.whl size=15970 sha256=ee25494884a89d482472c5dab2e167f520fd2674e5793ad83437286aca313396\n",
            "  Stored in directory: /root/.cache/pip/wheels/04/63/5f/75e7e94eb62517946116a783e4cd8970c4789c990bbc732616\n",
            "  Building wheel for twint (setup.py) ... \u001b[?25l\u001b[?25hdone\n",
            "  Created wheel for twint: filename=twint-2.1.21-cp36-none-any.whl size=38674 sha256=851e54251ba2168d76043579f1256c0191b35ff243a4a1ff5b355e07b879e908\n",
            "  Stored in directory: /tmp/pip-ephem-wheel-cache-ee44y_jq/wheels/f8/d4/22/81de880471f84f360c47ac33703f642b56c751697bf8950033\n",
            "  Building wheel for idna-ssl (setup.py) ... \u001b[?25l\u001b[?25hdone\n",
            "  Created wheel for idna-ssl: filename=idna_ssl-1.1.0-cp36-none-any.whl size=3162 sha256=2751c26e7e7a06430b2507ba3963a6289ce221a231d0aeca8f936830152a4073\n",
            "  Stored in directory: /root/.cache/pip/wheels/d3/00/b3/32d613e19e08a739751dd6bf998cfed277728f8b2127ad4eb7\n",
            "  Building wheel for typing (setup.py) ... \u001b[?25l\u001b[?25hdone\n",
            "  Created wheel for typing: filename=typing-3.7.4.3-cp36-none-any.whl size=26307 sha256=c46fe75c61a984a45ceb14aa6a7d45186c4f2aa9655cdfc07c2da1db61626c34\n",
            "  Stored in directory: /root/.cache/pip/wheels/2d/04/41/8e1836e79581989c22eebac3f4e70aaac9af07b0908da173be\n",
            "Successfully built fake-useragent googletransx twint idna-ssl typing\n",
            "Installing collected packages: multidict, yarl, idna-ssl, async-timeout, aiohttp, typing, pycares, aiodns, cchardet, elasticsearch, aiohttp-socks, schedule, fake-useragent, googletransx, twint\n",
            "Successfully installed aiodns-2.0.0 aiohttp-3.7.3 aiohttp-socks-0.4.1 async-timeout-3.0.1 cchardet-2.1.7 elasticsearch-7.10.1 fake-useragent-0.1.11 googletransx-2.4.2 idna-ssl-1.1.0 multidict-5.1.0 pycares-3.1.1 schedule-0.6.0 twint-2.1.21 typing-3.7.4.3 yarl-1.6.3\n"
          ],
          "name": "stdout"
        },
        {
          "output_type": "display_data",
          "data": {
            "application/vnd.colab-display-data+json": {
              "pip_warning": {
                "packages": [
                  "typing"
                ]
              }
            }
          },
          "metadata": {
            "tags": []
          }
        }
      ]
    },
    {
      "cell_type": "markdown",
      "metadata": {
        "id": "4BZIYUXaLLyk"
      },
      "source": [
        "## You should [RESTART RUNTIME] at this point before continuing"
      ]
    },
    {
      "cell_type": "code",
      "metadata": {
        "colab": {
          "base_uri": "https://localhost:8080/"
        },
        "id": "E2DkhTNDOmIl",
        "outputId": "018871c4-58ff-45b4-f058-7d06504fc67f"
      },
      "source": [
        "# Not necessary, but we do lose all other variables and configuration with [RESTART RUNTIME] in last cell\n",
        "#                so the following cells re-setup our configuration\n",
        "\n",
        "\"\"\"\n",
        "from google.colab import drive\n",
        "drive.mount('/gdrive')\n",
        "%cd /gdrive\n",
        "\"\"\""
      ],
      "execution_count": 1,
      "outputs": [
        {
          "output_type": "stream",
          "text": [
            "Drive already mounted at /gdrive; to attempt to forcibly remount, call drive.mount(\"/gdrive\", force_remount=True).\n",
            "/gdrive\n"
          ],
          "name": "stdout"
        }
      ]
    },
    {
      "cell_type": "code",
      "metadata": {
        "id": "3kVx5FO4M5O1"
      },
      "source": [
        "# CUSTOMIZE: if you want your work and twitter datasets saved into a specific folder\n",
        "#            beneath your gdrive root directory, define it below\n",
        "\n",
        "dir_working = './MyDrive/courses/2020f_iphs200_programming_humanity/code/'"
      ],
      "execution_count": 2,
      "outputs": []
    },
    {
      "cell_type": "code",
      "metadata": {
        "colab": {
          "base_uri": "https://localhost:8080/"
        },
        "id": "vIL7LawZM93b",
        "outputId": "3b0397cb-fc4d-4886-e6f7-2a96f97c8063"
      },
      "source": [
        "# Move to working directory\n",
        "\n",
        "%cd $dir_working"
      ],
      "execution_count": 3,
      "outputs": [
        {
          "output_type": "stream",
          "text": [
            "/gdrive/MyDrive/courses/2020f_iphs200_programming_humanity/code\n"
          ],
          "name": "stdout"
        }
      ]
    },
    {
      "cell_type": "code",
      "metadata": {
        "colab": {
          "base_uri": "https://localhost:8080/"
        },
        "id": "pYE0yNCnNUHl",
        "outputId": "4a1d0e25-ca6d-4fb5-8c59-547eb36ff8ae"
      },
      "source": [
        "# Move into the twint subdirectory created with the installtion of twint\n",
        "\n",
        "%cd twint"
      ],
      "execution_count": 4,
      "outputs": [
        {
          "output_type": "stream",
          "text": [
            "/gdrive/MyDrive/courses/2020f_iphs200_programming_humanity/code/twint\n"
          ],
          "name": "stdout"
        }
      ]
    },
    {
      "cell_type": "code",
      "metadata": {
        "colab": {
          "base_uri": "https://localhost:8080/"
        },
        "id": "iYsN8oadNRk5",
        "outputId": "c0af7dc2-2d9f-49a6-d858-c6a16be6d39a"
      },
      "source": [
        "!pwd"
      ],
      "execution_count": 5,
      "outputs": [
        {
          "output_type": "stream",
          "text": [
            "/gdrive/MyDrive/courses/2020f_iphs200_programming_humanity/code/twint\n"
          ],
          "name": "stdout"
        }
      ]
    },
    {
      "cell_type": "code",
      "metadata": {
        "id": "UPG5hQU8S8Th"
      },
      "source": [
        "import numpy as np\n",
        "import pandas as pd\n",
        "\n",
        "import matplotlib.pyplot as plt\n",
        "import seaborn as sns"
      ],
      "execution_count": 6,
      "outputs": []
    },
    {
      "cell_type": "code",
      "metadata": {
        "id": "0-8fLrQGNvI_"
      },
      "source": [
        "import os\n",
        "import glob\n",
        "\n",
        "import time"
      ],
      "execution_count": 7,
      "outputs": []
    },
    {
      "cell_type": "code",
      "metadata": {
        "id": "c09cmO_RBHYP"
      },
      "source": [
        "import twint"
      ],
      "execution_count": 8,
      "outputs": []
    },
    {
      "cell_type": "code",
      "metadata": {
        "id": "90Qynj3FBRSq"
      },
      "source": [
        "import nest_asyncio\n",
        "nest_asyncio.apply()"
      ],
      "execution_count": 9,
      "outputs": []
    },
    {
      "cell_type": "markdown",
      "metadata": {
        "id": "uwkUTk_JQus9"
      },
      "source": [
        "# **1. DEFINE and RUN Searches**"
      ]
    },
    {
      "cell_type": "code",
      "metadata": {
        "id": "HGIGOnV6WiDw"
      },
      "source": [
        "# LEAVE this blank, this is just defining a global\r\n",
        "#   list variable that we'll populate below\r\n",
        "\r\n",
        "search_terms_ls = [] # LEAVE THIS EMPTY !!!"
      ],
      "execution_count": 10,
      "outputs": []
    },
    {
      "cell_type": "markdown",
      "metadata": {
        "id": "12189BWkPw1e"
      },
      "source": [
        "## (a). Define your search_terms and/or user_name in the following code cell"
      ]
    },
    {
      "cell_type": "code",
      "metadata": {
        "id": "SPQWYUdiP4ks"
      },
      "source": [
        "# STEP ONE: DEFINE search\n",
        "\n",
        "# Define your search terms and/or user (you must set values for at least one of these, both ok too)\n",
        "\n",
        "# CUSTOMIZE: If you want to limit your search to a particular user set 'username' to it\n",
        "user_name = 'mtbarra' # uncomment this if you want to search by username\n",
        "# user_name = '' # uncomment this line if you are not searching by username, only search terms\n",
        "\n",
        "# CUSTOMIZE: If you want to search for key terms in the tweet, set 'search_terms'\n",
        "search_terms = '' # uncomment this if you want to search by key words, format 'term1 term2 term3'\n",
        "                       #   all search terms should be separated by a single space within one string\n",
        "# search_terms = '' # uncomment this line if you are not searching by any search terms, only username"
      ],
      "execution_count": null,
      "outputs": []
    },
    {
      "cell_type": "code",
      "metadata": {
        "id": "siy_fBStAwuh",
        "colab": {
          "base_uri": "https://localhost:8080/",
          "height": 244
        },
        "outputId": "7e68548d-a5b8-4fb3-cdea-dc2fae21ddc5"
      },
      "source": [
        "# STEP TWO: RUN search\n",
        "\n",
        "# Create a filename of search results in a file with the name contained a unique timestamp\n",
        "timestr = time.strftime(\"%Y%m%d-%H%M%S\")\n",
        "if len(search_str) == 0:\n",
        "  search_str = ''\n",
        "else:\n",
        "  search_str = '_'.join(search_terms.split())\n",
        "file_name = f\"tweets_twint_{search_str}_{user_name}_{timestr}.csv\"\n",
        "\n",
        "# Save your user/search terms\n",
        "search_terms_both = f\"USERNAME:{user_name} and SEARCHTERMS:{search_terms}\"\n",
        "search_terms_ls.append(search_terms_both)\n",
        "\n",
        "# Run your search\n",
        "c = twint.Config()\n",
        "if len(user_name) > 0:\n",
        "  c.Username = user_name\n",
        "if len(search_terms) > 0:\n",
        "  c.Search = search_terms\n",
        "\n",
        "if (len(user_name) != 0)  | (len(search_terms) != 0):\n",
        "  c.Limit = 20000    # Limit of how many tweets to retrieve\n",
        "  c.Store_object=True\n",
        "  c.Store_csv = True\n",
        "  c.Output = file_name # \"tweets.csv\"\n",
        "  twint.run.Search(c)\n",
        "else:\n",
        "  print(\"You need to set user_name and/or search_terms to a non-null value\")"
      ],
      "execution_count": 15,
      "outputs": [
        {
          "output_type": "error",
          "ename": "NameError",
          "evalue": "ignored",
          "traceback": [
            "\u001b[0;31m---------------------------------------------------------------------------\u001b[0m",
            "\u001b[0;31mNameError\u001b[0m                                 Traceback (most recent call last)",
            "\u001b[0;32m<ipython-input-15-99aa80c3ee7c>\u001b[0m in \u001b[0;36m<module>\u001b[0;34m()\u001b[0m\n\u001b[1;32m      3\u001b[0m \u001b[0;31m# Create a filename of search results in a file with the name contained a unique timestamp\u001b[0m\u001b[0;34m\u001b[0m\u001b[0;34m\u001b[0m\u001b[0;34m\u001b[0m\u001b[0m\n\u001b[1;32m      4\u001b[0m \u001b[0mtimestr\u001b[0m \u001b[0;34m=\u001b[0m \u001b[0mtime\u001b[0m\u001b[0;34m.\u001b[0m\u001b[0mstrftime\u001b[0m\u001b[0;34m(\u001b[0m\u001b[0;34m\"%Y%m%d-%H%M%S\"\u001b[0m\u001b[0;34m)\u001b[0m\u001b[0;34m\u001b[0m\u001b[0;34m\u001b[0m\u001b[0m\n\u001b[0;32m----> 5\u001b[0;31m \u001b[0msearch_str\u001b[0m \u001b[0;34m=\u001b[0m \u001b[0;34m'_'\u001b[0m\u001b[0;34m.\u001b[0m\u001b[0mjoin\u001b[0m\u001b[0;34m(\u001b[0m\u001b[0msearch_terms\u001b[0m\u001b[0;34m.\u001b[0m\u001b[0msplit\u001b[0m\u001b[0;34m(\u001b[0m\u001b[0;34m)\u001b[0m\u001b[0;34m)\u001b[0m\u001b[0;34m\u001b[0m\u001b[0;34m\u001b[0m\u001b[0m\n\u001b[0m\u001b[1;32m      6\u001b[0m \u001b[0mfile_name\u001b[0m \u001b[0;34m=\u001b[0m \u001b[0;34mf\"tweets_twint_{search_str}_{user_name}_{timestr}.csv\"\u001b[0m\u001b[0;34m\u001b[0m\u001b[0;34m\u001b[0m\u001b[0m\n\u001b[1;32m      7\u001b[0m \u001b[0;34m\u001b[0m\u001b[0m\n",
            "\u001b[0;31mNameError\u001b[0m: name 'search_terms' is not defined"
          ]
        }
      ]
    },
    {
      "cell_type": "markdown",
      "metadata": {
        "id": "A87ATCpkQIga"
      },
      "source": [
        "## (b). Go back and run the last two code cells DEFINE SEARCH and RUN SEARCH until:\n",
        "\n",
        "* You modify your searches to focus in on what you want to find out\n",
        "* You have gathered enough tweets necessary for rigourous analysis"
      ]
    },
    {
      "cell_type": "code",
      "metadata": {
        "colab": {
          "base_uri": "https://localhost:8080/"
        },
        "id": "IUw44zOG4_ce",
        "outputId": "5fe59682-3a0a-40ad-9cac-61a3564c43b1"
      },
      "source": [
        "!pwd"
      ],
      "execution_count": null,
      "outputs": [
        {
          "output_type": "stream",
          "text": [
            "/gdrive/My Drive/courses/2020f_iphs200_programming_humanity/code/twint\n"
          ],
          "name": "stdout"
        }
      ]
    },
    {
      "cell_type": "code",
      "metadata": {
        "id": "fIEBhPMlyRTI",
        "colab": {
          "base_uri": "https://localhost:8080/"
        },
        "outputId": "0eaf8128-64d8-4d35-b60c-2d9f9fef2753"
      },
      "source": [
        "!ls -altr *.csv"
      ],
      "execution_count": null,
      "outputs": [
        {
          "output_type": "stream",
          "text": [
            "-rw------- 1 root root   790248 Dec  4 19:29 tweets_twint_tesla__20201204-192926.csv\n",
            "-rw------- 1 root root   782295 Dec  4 19:31 tweets_combined_20201204-193111.csv\n",
            "-rw------- 1 root root   782295 Dec  4 19:31 tweets_combined_20201204-193123.csv\n",
            "-rw------- 1 root root    40893 Dec  4 19:57 tweets_ner_sa__20201204-195723.csv\n",
            "-rw------- 1 root root   790257 Dec  5 14:18 tweets_twint_tesla__20201205-141801.csv\n",
            "-rw------- 1 root root  5665660 Dec  8 16:42 tweets_twint_stopthesteal__20201208-164240.csv\n",
            "-rw------- 1 root root 28209455 Dec  8 16:46 tweets_twint_stopthesteal__20201208-164638.csv\n",
            "-rw------- 1 root root    40822 Dec  9 00:24 tweets_ner_sa__20201209-002453.csv\n",
            "-rw------- 1 root root   986297 Dec  9 19:36 cleaned_tweets_combined_20201204-193123.csv\n",
            "-rw------- 1 root root  1372659 Dec 16 18:15 tweets_twint___20201216-181508.csv\n",
            "-rw------- 1 root root 11658067 Dec 16 18:24 tweets_twint_dallasmavs__20201216-182040.csv\n"
          ],
          "name": "stdout"
        }
      ]
    },
    {
      "cell_type": "code",
      "metadata": {
        "colab": {
          "base_uri": "https://localhost:8080/"
        },
        "id": "ZyPcN9u1nIkg",
        "outputId": "6a2431a1-0fd8-45c3-d198-3081cf18906c"
      },
      "source": [
        "!ls -al tweets_twint*"
      ],
      "execution_count": null,
      "outputs": [
        {
          "output_type": "stream",
          "text": [
            "-rw------- 1 root root  1372659 Dec 16 18:15 tweets_twint___20201216-181508.csv\n",
            "-rw------- 1 root root  5665660 Dec  8 16:42 tweets_twint_stopthesteal__20201208-164240.csv\n",
            "-rw------- 1 root root 28209455 Dec  8 16:46 tweets_twint_stopthesteal__20201208-164638.csv\n",
            "-rw------- 1 root root   790248 Dec  4 19:29 tweets_twint_tesla__20201204-192926.csv\n",
            "-rw------- 1 root root   790257 Dec  5 14:18 tweets_twint_tesla__20201205-141801.csv\n"
          ],
          "name": "stdout"
        }
      ]
    },
    {
      "cell_type": "code",
      "metadata": {
        "id": "bfccShixMDZp"
      },
      "source": [
        "# COPY AND PASTE the name of the datafile listed above into command below\n",
        "\n",
        "tweets_df = pd.read_csv('tweets_twint_tesla__20201205-141801.csv')"
      ],
      "execution_count": null,
      "outputs": []
    },
    {
      "cell_type": "code",
      "metadata": {
        "colab": {
          "base_uri": "https://localhost:8080/"
        },
        "id": "NUtRofP8nYYA",
        "outputId": "dfd7ec20-1e6a-46fb-f9fa-654f15ec1a70"
      },
      "source": [
        "tweets_df.info()"
      ],
      "execution_count": null,
      "outputs": [
        {
          "output_type": "stream",
          "text": [
            "<class 'pandas.core.frame.DataFrame'>\n",
            "RangeIndex: 1591 entries, 0 to 1590\n",
            "Data columns (total 36 columns):\n",
            " #   Column           Non-Null Count  Dtype  \n",
            "---  ------           --------------  -----  \n",
            " 0   id               1591 non-null   int64  \n",
            " 1   conversation_id  1591 non-null   int64  \n",
            " 2   created_at       1591 non-null   object \n",
            " 3   date             1591 non-null   object \n",
            " 4   time             1591 non-null   object \n",
            " 5   timezone         1591 non-null   int64  \n",
            " 6   user_id          1591 non-null   int64  \n",
            " 7   username         1591 non-null   object \n",
            " 8   name             1591 non-null   object \n",
            " 9   place            0 non-null      float64\n",
            " 10  tweet            1591 non-null   object \n",
            " 11  language         1591 non-null   object \n",
            " 12  mentions         1591 non-null   object \n",
            " 13  urls             1591 non-null   object \n",
            " 14  photos           1591 non-null   object \n",
            " 15  replies_count    1591 non-null   int64  \n",
            " 16  retweets_count   1591 non-null   int64  \n",
            " 17  likes_count      1591 non-null   int64  \n",
            " 18  hashtags         1591 non-null   object \n",
            " 19  cashtags         1591 non-null   object \n",
            " 20  link             1591 non-null   object \n",
            " 21  retweet          1591 non-null   bool   \n",
            " 22  quote_url        62 non-null     object \n",
            " 23  video            1591 non-null   int64  \n",
            " 24  thumbnail        49 non-null     object \n",
            " 25  near             0 non-null      float64\n",
            " 26  geo              0 non-null      float64\n",
            " 27  source           0 non-null      float64\n",
            " 28  user_rt_id       0 non-null      float64\n",
            " 29  user_rt          0 non-null      float64\n",
            " 30  retweet_id       0 non-null      float64\n",
            " 31  reply_to         1591 non-null   object \n",
            " 32  retweet_date     0 non-null      float64\n",
            " 33  translate        0 non-null      float64\n",
            " 34  trans_src        0 non-null      float64\n",
            " 35  trans_dest       0 non-null      float64\n",
            "dtypes: bool(1), float64(11), int64(8), object(16)\n",
            "memory usage: 436.7+ KB\n"
          ],
          "name": "stdout"
        }
      ]
    },
    {
      "cell_type": "code",
      "metadata": {
        "colab": {
          "base_uri": "https://localhost:8080/"
        },
        "id": "jT1KUoyRMvmq",
        "outputId": "c30b01b2-9cd8-4660-bbfe-5018cbceb7d4"
      },
      "source": [
        "# Try converting DataFrame.Series/columns to more specific types\n",
        "\n",
        "tweets_df = tweets_df.convert_dtypes()\n",
        "tweets_df.info()"
      ],
      "execution_count": null,
      "outputs": [
        {
          "output_type": "stream",
          "text": [
            "<class 'pandas.core.frame.DataFrame'>\n",
            "RangeIndex: 1591 entries, 0 to 1590\n",
            "Data columns (total 36 columns):\n",
            " #   Column           Non-Null Count  Dtype  \n",
            "---  ------           --------------  -----  \n",
            " 0   id               1591 non-null   Int64  \n",
            " 1   conversation_id  1591 non-null   Int64  \n",
            " 2   created_at       1591 non-null   string \n",
            " 3   date             1591 non-null   string \n",
            " 4   time             1591 non-null   string \n",
            " 5   timezone         1591 non-null   Int64  \n",
            " 6   user_id          1591 non-null   Int64  \n",
            " 7   username         1591 non-null   string \n",
            " 8   name             1591 non-null   string \n",
            " 9   place            0 non-null      Int64  \n",
            " 10  tweet            1591 non-null   string \n",
            " 11  language         1591 non-null   string \n",
            " 12  mentions         1591 non-null   string \n",
            " 13  urls             1591 non-null   string \n",
            " 14  photos           1591 non-null   string \n",
            " 15  replies_count    1591 non-null   Int64  \n",
            " 16  retweets_count   1591 non-null   Int64  \n",
            " 17  likes_count      1591 non-null   Int64  \n",
            " 18  hashtags         1591 non-null   string \n",
            " 19  cashtags         1591 non-null   string \n",
            " 20  link             1591 non-null   string \n",
            " 21  retweet          1591 non-null   boolean\n",
            " 22  quote_url        62 non-null     string \n",
            " 23  video            1591 non-null   Int64  \n",
            " 24  thumbnail        49 non-null     string \n",
            " 25  near             0 non-null      Int64  \n",
            " 26  geo              0 non-null      Int64  \n",
            " 27  source           0 non-null      Int64  \n",
            " 28  user_rt_id       0 non-null      Int64  \n",
            " 29  user_rt          0 non-null      Int64  \n",
            " 30  retweet_id       0 non-null      Int64  \n",
            " 31  reply_to         1591 non-null   string \n",
            " 32  retweet_date     0 non-null      Int64  \n",
            " 33  translate        0 non-null      Int64  \n",
            " 34  trans_src        0 non-null      Int64  \n",
            " 35  trans_dest       0 non-null      Int64  \n",
            "dtypes: Int64(19), boolean(1), string(16)\n",
            "memory usage: 467.8 KB\n"
          ],
          "name": "stdout"
        }
      ]
    },
    {
      "cell_type": "code",
      "metadata": {
        "colab": {
          "base_uri": "https://localhost:8080/",
          "height": 445
        },
        "id": "SRT_NMnqnRI-",
        "outputId": "c646a2be-37e9-4213-f827-be9233d94f98"
      },
      "source": [
        "tweets_df.head()"
      ],
      "execution_count": null,
      "outputs": [
        {
          "output_type": "execute_result",
          "data": {
            "text/html": [
              "<div>\n",
              "<style scoped>\n",
              "    .dataframe tbody tr th:only-of-type {\n",
              "        vertical-align: middle;\n",
              "    }\n",
              "\n",
              "    .dataframe tbody tr th {\n",
              "        vertical-align: top;\n",
              "    }\n",
              "\n",
              "    .dataframe thead th {\n",
              "        text-align: right;\n",
              "    }\n",
              "</style>\n",
              "<table border=\"1\" class=\"dataframe\">\n",
              "  <thead>\n",
              "    <tr style=\"text-align: right;\">\n",
              "      <th></th>\n",
              "      <th>id</th>\n",
              "      <th>conversation_id</th>\n",
              "      <th>created_at</th>\n",
              "      <th>date</th>\n",
              "      <th>time</th>\n",
              "      <th>timezone</th>\n",
              "      <th>user_id</th>\n",
              "      <th>username</th>\n",
              "      <th>name</th>\n",
              "      <th>place</th>\n",
              "      <th>tweet</th>\n",
              "      <th>language</th>\n",
              "      <th>mentions</th>\n",
              "      <th>urls</th>\n",
              "      <th>photos</th>\n",
              "      <th>replies_count</th>\n",
              "      <th>retweets_count</th>\n",
              "      <th>likes_count</th>\n",
              "      <th>hashtags</th>\n",
              "      <th>cashtags</th>\n",
              "      <th>link</th>\n",
              "      <th>retweet</th>\n",
              "      <th>quote_url</th>\n",
              "      <th>video</th>\n",
              "      <th>thumbnail</th>\n",
              "      <th>near</th>\n",
              "      <th>geo</th>\n",
              "      <th>source</th>\n",
              "      <th>user_rt_id</th>\n",
              "      <th>user_rt</th>\n",
              "      <th>retweet_id</th>\n",
              "      <th>reply_to</th>\n",
              "      <th>retweet_date</th>\n",
              "      <th>translate</th>\n",
              "      <th>trans_src</th>\n",
              "      <th>trans_dest</th>\n",
              "    </tr>\n",
              "  </thead>\n",
              "  <tbody>\n",
              "    <tr>\n",
              "      <th>0</th>\n",
              "      <td>1334127507906314240</td>\n",
              "      <td>1333882505775050752</td>\n",
              "      <td>2020-12-02 13:29:19 UTC</td>\n",
              "      <td>2020-12-02</td>\n",
              "      <td>13:29:19</td>\n",
              "      <td>0</td>\n",
              "      <td>44196397</td>\n",
              "      <td>elonmusk</td>\n",
              "      <td>Elon Musk</td>\n",
              "      <td>&lt;NA&gt;</td>\n",
              "      <td>@Tesmanian_com Award accepted on behalf of the...</td>\n",
              "      <td>en</td>\n",
              "      <td>[]</td>\n",
              "      <td>[]</td>\n",
              "      <td>[]</td>\n",
              "      <td>313</td>\n",
              "      <td>288</td>\n",
              "      <td>8495</td>\n",
              "      <td>[]</td>\n",
              "      <td>[]</td>\n",
              "      <td>https://twitter.com/elonmusk/status/1334127507...</td>\n",
              "      <td>False</td>\n",
              "      <td>&lt;NA&gt;</td>\n",
              "      <td>0</td>\n",
              "      <td>&lt;NA&gt;</td>\n",
              "      <td>&lt;NA&gt;</td>\n",
              "      <td>&lt;NA&gt;</td>\n",
              "      <td>&lt;NA&gt;</td>\n",
              "      <td>&lt;NA&gt;</td>\n",
              "      <td>&lt;NA&gt;</td>\n",
              "      <td>&lt;NA&gt;</td>\n",
              "      <td>[{'screen_name': 'Tesmanian_com', 'name': 'Tes...</td>\n",
              "      <td>&lt;NA&gt;</td>\n",
              "      <td>&lt;NA&gt;</td>\n",
              "      <td>&lt;NA&gt;</td>\n",
              "      <td>&lt;NA&gt;</td>\n",
              "    </tr>\n",
              "    <tr>\n",
              "      <th>1</th>\n",
              "      <td>1331075177262661633</td>\n",
              "      <td>1330843965613027329</td>\n",
              "      <td>2020-11-24 03:20:27 UTC</td>\n",
              "      <td>2020-11-24</td>\n",
              "      <td>03:20:27</td>\n",
              "      <td>0</td>\n",
              "      <td>44196397</td>\n",
              "      <td>elonmusk</td>\n",
              "      <td>Elon Musk</td>\n",
              "      <td>&lt;NA&gt;</td>\n",
              "      <td>@PPathole @Teslarati @TeslaRoadTrip We’re stil...</td>\n",
              "      <td>en</td>\n",
              "      <td>[]</td>\n",
              "      <td>[]</td>\n",
              "      <td>[]</td>\n",
              "      <td>135</td>\n",
              "      <td>97</td>\n",
              "      <td>2544</td>\n",
              "      <td>[]</td>\n",
              "      <td>[]</td>\n",
              "      <td>https://twitter.com/elonmusk/status/1331075177...</td>\n",
              "      <td>False</td>\n",
              "      <td>&lt;NA&gt;</td>\n",
              "      <td>0</td>\n",
              "      <td>&lt;NA&gt;</td>\n",
              "      <td>&lt;NA&gt;</td>\n",
              "      <td>&lt;NA&gt;</td>\n",
              "      <td>&lt;NA&gt;</td>\n",
              "      <td>&lt;NA&gt;</td>\n",
              "      <td>&lt;NA&gt;</td>\n",
              "      <td>&lt;NA&gt;</td>\n",
              "      <td>[{'screen_name': 'PPathole', 'name': 'Pranay P...</td>\n",
              "      <td>&lt;NA&gt;</td>\n",
              "      <td>&lt;NA&gt;</td>\n",
              "      <td>&lt;NA&gt;</td>\n",
              "      <td>&lt;NA&gt;</td>\n",
              "    </tr>\n",
              "    <tr>\n",
              "      <th>2</th>\n",
              "      <td>1330982572038500355</td>\n",
              "      <td>1330980211509186560</td>\n",
              "      <td>2020-11-23 21:12:28 UTC</td>\n",
              "      <td>2020-11-23</td>\n",
              "      <td>21:12:28</td>\n",
              "      <td>0</td>\n",
              "      <td>44196397</td>\n",
              "      <td>elonmusk</td>\n",
              "      <td>Elon Musk</td>\n",
              "      <td>&lt;NA&gt;</td>\n",
              "      <td>@vincent13031925 @Tesla Wow</td>\n",
              "      <td>und</td>\n",
              "      <td>[]</td>\n",
              "      <td>[]</td>\n",
              "      <td>[]</td>\n",
              "      <td>790</td>\n",
              "      <td>368</td>\n",
              "      <td>19407</td>\n",
              "      <td>[]</td>\n",
              "      <td>[]</td>\n",
              "      <td>https://twitter.com/elonmusk/status/1330982572...</td>\n",
              "      <td>False</td>\n",
              "      <td>&lt;NA&gt;</td>\n",
              "      <td>0</td>\n",
              "      <td>&lt;NA&gt;</td>\n",
              "      <td>&lt;NA&gt;</td>\n",
              "      <td>&lt;NA&gt;</td>\n",
              "      <td>&lt;NA&gt;</td>\n",
              "      <td>&lt;NA&gt;</td>\n",
              "      <td>&lt;NA&gt;</td>\n",
              "      <td>&lt;NA&gt;</td>\n",
              "      <td>[{'screen_name': 'vincent13031925', 'name': 'V...</td>\n",
              "      <td>&lt;NA&gt;</td>\n",
              "      <td>&lt;NA&gt;</td>\n",
              "      <td>&lt;NA&gt;</td>\n",
              "      <td>&lt;NA&gt;</td>\n",
              "    </tr>\n",
              "    <tr>\n",
              "      <th>3</th>\n",
              "      <td>1330206139385044999</td>\n",
              "      <td>1330179916587884544</td>\n",
              "      <td>2020-11-21 17:47:12 UTC</td>\n",
              "      <td>2020-11-21</td>\n",
              "      <td>17:47:12</td>\n",
              "      <td>0</td>\n",
              "      <td>44196397</td>\n",
              "      <td>elonmusk</td>\n",
              "      <td>Elon Musk</td>\n",
              "      <td>&lt;NA&gt;</td>\n",
              "      <td>@heydave7 @philwhln Tesla is a vehicle for cre...</td>\n",
              "      <td>en</td>\n",
              "      <td>[]</td>\n",
              "      <td>[]</td>\n",
              "      <td>[]</td>\n",
              "      <td>103</td>\n",
              "      <td>106</td>\n",
              "      <td>1941</td>\n",
              "      <td>[]</td>\n",
              "      <td>[]</td>\n",
              "      <td>https://twitter.com/elonmusk/status/1330206139...</td>\n",
              "      <td>False</td>\n",
              "      <td>&lt;NA&gt;</td>\n",
              "      <td>0</td>\n",
              "      <td>&lt;NA&gt;</td>\n",
              "      <td>&lt;NA&gt;</td>\n",
              "      <td>&lt;NA&gt;</td>\n",
              "      <td>&lt;NA&gt;</td>\n",
              "      <td>&lt;NA&gt;</td>\n",
              "      <td>&lt;NA&gt;</td>\n",
              "      <td>&lt;NA&gt;</td>\n",
              "      <td>[{'screen_name': 'heydave7', 'name': 'Dave Lee...</td>\n",
              "      <td>&lt;NA&gt;</td>\n",
              "      <td>&lt;NA&gt;</td>\n",
              "      <td>&lt;NA&gt;</td>\n",
              "      <td>&lt;NA&gt;</td>\n",
              "    </tr>\n",
              "    <tr>\n",
              "      <th>4</th>\n",
              "      <td>1330187635483140099</td>\n",
              "      <td>1330179916587884544</td>\n",
              "      <td>2020-11-21 16:33:40 UTC</td>\n",
              "      <td>2020-11-21</td>\n",
              "      <td>16:33:40</td>\n",
              "      <td>0</td>\n",
              "      <td>44196397</td>\n",
              "      <td>elonmusk</td>\n",
              "      <td>Elon Musk</td>\n",
              "      <td>&lt;NA&gt;</td>\n",
              "      <td>@philwhln @heydave7 Because I am not an invest...</td>\n",
              "      <td>en</td>\n",
              "      <td>[]</td>\n",
              "      <td>[]</td>\n",
              "      <td>[]</td>\n",
              "      <td>130</td>\n",
              "      <td>146</td>\n",
              "      <td>2497</td>\n",
              "      <td>[]</td>\n",
              "      <td>[]</td>\n",
              "      <td>https://twitter.com/elonmusk/status/1330187635...</td>\n",
              "      <td>False</td>\n",
              "      <td>&lt;NA&gt;</td>\n",
              "      <td>0</td>\n",
              "      <td>&lt;NA&gt;</td>\n",
              "      <td>&lt;NA&gt;</td>\n",
              "      <td>&lt;NA&gt;</td>\n",
              "      <td>&lt;NA&gt;</td>\n",
              "      <td>&lt;NA&gt;</td>\n",
              "      <td>&lt;NA&gt;</td>\n",
              "      <td>&lt;NA&gt;</td>\n",
              "      <td>[{'screen_name': 'philwhln', 'name': 'Phil Whe...</td>\n",
              "      <td>&lt;NA&gt;</td>\n",
              "      <td>&lt;NA&gt;</td>\n",
              "      <td>&lt;NA&gt;</td>\n",
              "      <td>&lt;NA&gt;</td>\n",
              "    </tr>\n",
              "  </tbody>\n",
              "</table>\n",
              "</div>"
            ],
            "text/plain": [
              "                    id      conversation_id  ... trans_src trans_dest\n",
              "0  1334127507906314240  1333882505775050752  ...      <NA>       <NA>\n",
              "1  1331075177262661633  1330843965613027329  ...      <NA>       <NA>\n",
              "2  1330982572038500355  1330980211509186560  ...      <NA>       <NA>\n",
              "3  1330206139385044999  1330179916587884544  ...      <NA>       <NA>\n",
              "4  1330187635483140099  1330179916587884544  ...      <NA>       <NA>\n",
              "\n",
              "[5 rows x 36 columns]"
            ]
          },
          "metadata": {
            "tags": []
          },
          "execution_count": 23
        }
      ]
    },
    {
      "cell_type": "code",
      "metadata": {
        "id": "txmsZ9esnn3-"
      },
      "source": [
        "# how many tweets have a non-null URL field?\n",
        "\n",
        "# len(tweets_df[tweets_df['quote_url'].str.len() > 0])"
      ],
      "execution_count": null,
      "outputs": []
    },
    {
      "cell_type": "markdown",
      "metadata": {
        "id": "3Vx0xUwFRFrK"
      },
      "source": [
        "# **2. Aggregate your twitter datasets from all your searches and write to file (including a manifest file)**"
      ]
    },
    {
      "cell_type": "code",
      "metadata": {
        "colab": {
          "base_uri": "https://localhost:8080/"
        },
        "id": "bjw90jRoRSR1",
        "outputId": "0f239ca3-aa44-45ae-b72c-36b2683dfa49"
      },
      "source": [
        "!ls tweets_twint*"
      ],
      "execution_count": null,
      "outputs": [
        {
          "output_type": "stream",
          "text": [
            "tweets_twint_tesla__20201204-192926.csv\n",
            "tweets_twint_tesla__20201205-141801.csv\n"
          ],
          "name": "stdout"
        }
      ]
    },
    {
      "cell_type": "code",
      "metadata": {
        "colab": {
          "base_uri": "https://localhost:8080/"
        },
        "id": "BEJASt1bRSO4",
        "outputId": "124780aa-9eff-4351-b2bf-f2b84f15eb3f"
      },
      "source": [
        "# CUSTOMIZE: Define a RegEx pattern that matches all the twitter dataset files \n",
        "#            you want to combine (e.g. tweets_twint_*.csv)\n",
        "\n",
        "tweet_filenames = 'tweets_twint_*.csv'  # Define the RegEx that matches all your twitter dataset files\n",
        "\n",
        "all_tweet_files = [i for i in glob.glob(tweet_filenames)] # You should use 'tweets_*.csv'\n",
        "print(all_tweet_files)"
      ],
      "execution_count": null,
      "outputs": [
        {
          "output_type": "stream",
          "text": [
            "['tweets_twint_tesla__20201204-192926.csv', 'tweets_twint_tesla__20201205-141801.csv']\n"
          ],
          "name": "stdout"
        }
      ]
    },
    {
      "cell_type": "code",
      "metadata": {
        "colab": {
          "base_uri": "https://localhost:8080/"
        },
        "id": "JIGfuFRUYLEw",
        "outputId": "96191e95-e2e1-452d-99aa-e4977870ab11"
      },
      "source": [
        "# Review user/search terms used to create these files\n",
        "\n",
        "search_terms_ls"
      ],
      "execution_count": null,
      "outputs": [
        {
          "output_type": "execute_result",
          "data": {
            "text/plain": [
              "['USERNAME:elonmusk and SEARCHTERMS:tesla']"
            ]
          },
          "metadata": {
            "tags": []
          },
          "execution_count": 26
        }
      ]
    },
    {
      "cell_type": "code",
      "metadata": {
        "id": "1UwhU_wAUuwb"
      },
      "source": [
        "# Combine all twitter dataset files into one pd.DataFrame\n",
        "combined_df = pd.concat([pd.read_csv(f) for f in all_tweet_files ])\n",
        "\n",
        "# Create a filename of search results in a file with the name contained a unique timestamp\n",
        "timestr = time.strftime(\"%Y%m%d-%H%M%S\")\n",
        "file_name_combo = f\"tweets_combined_{timestr}.csv\"\n",
        "\n",
        "# Write all tweets combined into one big file\n",
        "combined_df.to_csv(file_name_combo, index=False, encoding='utf-8-sig')\n",
        "\n",
        "# Write an accompnaying manifest file with all the search terms used to gather tweets in the combined file\n",
        "file_name_combo_root = file_name_combo.split('.')[0]\n",
        "file_name_combo_manifest = f\"{file_name_combo_root}_manifest.txt\"\n",
        "with open(file_name_combo_manifest, 'w') as fp:\n",
        "  fp.writelines(search_terms_ls)"
      ],
      "execution_count": null,
      "outputs": []
    },
    {
      "cell_type": "code",
      "metadata": {
        "colab": {
          "base_uri": "https://localhost:8080/"
        },
        "id": "70eijY2LQ-RM",
        "outputId": "0999fc48-2a0b-451f-ff69-f8efe55ae7e4"
      },
      "source": [
        "# CONFIRM: Both the 'tweets_combined_*.csv' and 'tweets_combined_*_manifest.txt' files exist\n",
        "#          and that the size of the combined dataset file is approximately equal to all the \n",
        "#          individual dataset files that went into it\n",
        "\n",
        "!ls -al tweets_*"
      ],
      "execution_count": null,
      "outputs": [
        {
          "output_type": "stream",
          "text": [
            "-rw------- 1 root root 782295 Dec  4 19:31 tweets_combined_20201204-193111.csv\n",
            "-rw------- 1 root root     39 Dec  4 19:31 tweets_combined_20201204-193111_manifest.txt\n",
            "-rw------- 1 root root 782295 Dec  4 19:31 tweets_combined_20201204-193123.csv\n",
            "-rw------- 1 root root     39 Dec  4 19:31 tweets_combined_20201204-193123_manifest.txt\n",
            "-rw------- 1 root root  40893 Dec  4 19:57 tweets_ner_sa__20201204-195723.csv\n",
            "-rw------- 1 root root 790248 Dec  4 19:29 tweets_twint_tesla__20201204-192926.csv\n",
            "-rw------- 1 root root 790257 Dec  5 14:18 tweets_twint_tesla__20201205-141801.csv\n",
            "-rw------- 1 root root   1273 Dec  4 19:58 tweets_wordcloud.png\n"
          ],
          "name": "stdout"
        }
      ]
    },
    {
      "cell_type": "code",
      "metadata": {
        "colab": {
          "base_uri": "https://localhost:8080/"
        },
        "id": "3c-mcaCqYeBn",
        "outputId": "2242e07a-cd3e-47ad-915f-c9c74ef36f9e"
      },
      "source": [
        "# CHECK: Make sure the manifest.txt file associated with our combined tweet dataset file saved all our\n",
        "#        search terms\n",
        "\n",
        "# type in the full filename of the most recent '*_manisfest.txt' file listed in the previous code cell above\n",
        "\n",
        "!cat tweets_combined_20201201-012404_manifest.txt"
      ],
      "execution_count": null,
      "outputs": [
        {
          "output_type": "stream",
          "text": [
            "cat: tweets_combined_20201201-012404_manifest.txt: No such file or directory\n"
          ],
          "name": "stdout"
        }
      ]
    },
    {
      "cell_type": "code",
      "metadata": {
        "colab": {
          "base_uri": "https://localhost:8080/"
        },
        "id": "a_bMxs3bYd6R",
        "outputId": "b70c44cc-67ca-4f2a-96c3-672435bf6e42"
      },
      "source": [
        "combined_df = combined_df.convert_dtypes()\n",
        "combined_df.info()"
      ],
      "execution_count": null,
      "outputs": [
        {
          "output_type": "stream",
          "text": [
            "<class 'pandas.core.frame.DataFrame'>\n",
            "RangeIndex: 1591 entries, 0 to 1590\n",
            "Data columns (total 36 columns):\n",
            " #   Column           Non-Null Count  Dtype  \n",
            "---  ------           --------------  -----  \n",
            " 0   id               1591 non-null   Int64  \n",
            " 1   conversation_id  1591 non-null   Int64  \n",
            " 2   created_at       1591 non-null   string \n",
            " 3   date             1591 non-null   string \n",
            " 4   time             1591 non-null   string \n",
            " 5   timezone         1591 non-null   Int64  \n",
            " 6   user_id          1591 non-null   Int64  \n",
            " 7   username         1591 non-null   string \n",
            " 8   name             1591 non-null   string \n",
            " 9   place            0 non-null      Int64  \n",
            " 10  tweet            1591 non-null   string \n",
            " 11  language         1591 non-null   string \n",
            " 12  mentions         1591 non-null   string \n",
            " 13  urls             1591 non-null   string \n",
            " 14  photos           1591 non-null   string \n",
            " 15  replies_count    1591 non-null   Int64  \n",
            " 16  retweets_count   1591 non-null   Int64  \n",
            " 17  likes_count      1591 non-null   Int64  \n",
            " 18  hashtags         1591 non-null   string \n",
            " 19  cashtags         1591 non-null   string \n",
            " 20  link             1591 non-null   string \n",
            " 21  retweet          1591 non-null   boolean\n",
            " 22  quote_url        62 non-null     string \n",
            " 23  video            1591 non-null   Int64  \n",
            " 24  thumbnail        49 non-null     string \n",
            " 25  near             0 non-null      Int64  \n",
            " 26  geo              0 non-null      Int64  \n",
            " 27  source           0 non-null      Int64  \n",
            " 28  user_rt_id       0 non-null      Int64  \n",
            " 29  user_rt          0 non-null      Int64  \n",
            " 30  retweet_id       0 non-null      Int64  \n",
            " 31  reply_to         1591 non-null   string \n",
            " 32  retweet_date     0 non-null      Int64  \n",
            " 33  translate        0 non-null      Int64  \n",
            " 34  trans_src        0 non-null      Int64  \n",
            " 35  trans_dest       0 non-null      Int64  \n",
            "dtypes: Int64(19), boolean(1), string(16)\n",
            "memory usage: 467.8 KB\n"
          ],
          "name": "stdout"
        }
      ]
    },
    {
      "cell_type": "code",
      "metadata": {
        "id": "IPxiQU95ZzVh",
        "colab": {
          "base_uri": "https://localhost:8080/"
        },
        "outputId": "6104299f-1c39-48bb-e263-ada9a4070997"
      },
      "source": [
        "!pwd"
      ],
      "execution_count": null,
      "outputs": [
        {
          "output_type": "stream",
          "text": [
            "/content\n"
          ],
          "name": "stdout"
        }
      ]
    },
    {
      "cell_type": "code",
      "metadata": {
        "colab": {
          "base_uri": "https://localhost:8080/"
        },
        "id": "Inu2Gkk9NJFG",
        "outputId": "449f8dce-c1f4-4a99-ddb8-cfa701dc5423"
      },
      "source": [
        "!ls"
      ],
      "execution_count": null,
      "outputs": [
        {
          "output_type": "stream",
          "text": [
            "sample_data\n",
            "tweets_combined_20201204-192048.csv\n",
            "tweets_combined_20201204-192048_manifest.txt\n",
            "tweets_twint_tesla__20201204-191635.csv\n",
            "tweets_twint_tesla__20201204-191719.csv\n",
            "tweets_twint_tesla__20201204-191954.csv\n"
          ],
          "name": "stdout"
        }
      ]
    },
    {
      "cell_type": "markdown",
      "metadata": {
        "id": "6jsU_1hI6Wvt"
      },
      "source": [
        "# **3. Clean tweets and separate out subcomponents (e.g. hashtags, emojis, etc)**"
      ]
    },
    {
      "cell_type": "markdown",
      "metadata": {
        "id": "xQfd6Bx8RHkG"
      },
      "source": [
        "# **4. Exploratory Data Analysis (EDA) and Visualizations of Raw Data**"
      ]
    },
    {
      "cell_type": "code",
      "metadata": {
        "id": "YynYmjWUREYR"
      },
      "source": [
        ""
      ],
      "execution_count": null,
      "outputs": []
    }
  ]
}