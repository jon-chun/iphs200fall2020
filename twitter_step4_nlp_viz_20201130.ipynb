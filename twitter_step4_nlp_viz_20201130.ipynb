{
  "nbformat": 4,
  "nbformat_minor": 0,
  "metadata": {
    "colab": {
      "name": "twitter_step4_nlp_viz_20201130.ipynb",
      "provenance": [],
      "collapsed_sections": [],
      "toc_visible": true,
      "machine_shape": "hm"
    },
    "kernelspec": {
      "name": "python3",
      "display_name": "Python 3"
    },
    "accelerator": "GPU"
  },
  "cells": [
    {
      "cell_type": "markdown",
      "metadata": {
        "id": "dUJ3Se8kfzSS"
      },
      "source": [
        "# **Twitter Step 4: Natural Language Processing and Visualizations**\n",
        "By: Jon Chun\n",
        "30 Nov 2020\n",
        "\n",
        "Tasks:\n",
        "\n",
        "* Sentiment Analysis\n",
        "* NER\n",
        "* Visualizations\n",
        "\n",
        "References:\n",
        "* https://colab.research.google.com/drive/1WIcVZgbrU0DYOQqaxuaCLKY6CoLBV18O\n",
        "* https://towardsdatascience.com/twitter-pulse-checker-an-interactive-colab-notebook-for-data-sciencing-on-twitter-76a27ec8526f"
      ]
    },
    {
      "cell_type": "markdown",
      "metadata": {
        "id": "qpQQ9FCjH3yv"
      },
      "source": [
        "This is a quick and dirty way to get a sense of what's trending on Twitter related to a particular Topic. For my use case, I am focusing on the city of Seattle but you can easily apply this to any topic.\n",
        "\n",
        "**Use the GPU for this notebook to speed things up:** select the menu option \"Runtime\" -> \"Change runtime type\", select \"Hardware Accelerator\" -> \"GPU\" and click \"SAVE\".\n",
        "\n",
        "The code in this notebook does the following things:\n",
        "\n",
        "\n",
        "*   Scrapes Tweets related to the Topic you are interested in.\n",
        "*   Extracts relevant Tags from the text (NER: Named Entity Recognition).\n",
        "*   Does Sentiment Analysis on those Tweets.\n",
        "*   Provides some visualizations in an interactive format to get a 'pulse' of what's happening.\n",
        "\n",
        "We use Tweepy to scrape Twitter data and Flair to do NER / Sentiment Analysis. We use Seaborn for visualizations and all of this is possible because of the wonderful, free and fast (with GPU) Google Colab.\n",
        "\n",
        "**A bit about NER (Named Entity Recognition)** \n",
        "\n",
        "This is the process of extracting labels form text. \n",
        "\n",
        "So, take an example sentence: 'George Washington went to Washington'. NER will allow us to extract labels such as Person for 'George Washington' and Location for 'Washington (state)'. It is one of the most common and useful applications in NLP and, using it, we can extract labels from Tweets and do analysis on them.\n",
        "\n",
        "**A bit about Sentiment Analysis** \n",
        "\n",
        "Most commonly, this is the process of getting a sense of whether some text is Positive or Negative. More generally, you can apply it to any label of your choosing (Spam/No Spam etc.).\n",
        "\n",
        "So, 'I hated this movie' would be classified as a negative statement but 'I loved this movie' would be classified as positive. Again - it is a very useful application as it allows us to get a sense of people's opinions about something (Twitter topics, Movie reviews etc). \n",
        "\n",
        "To learn more about these applications, check out the Flair Github homepage and Tutorials: https://github.com/zalandoresearch/flair\n",
        "\n",
        "\n",
        "Note: You will need Twitter API keys (and of course a Twitter account) to make this work. You can get those by signing up here: https://developer.twitter.com/en/apps"
      ]
    },
    {
      "cell_type": "markdown",
      "metadata": {
        "id": "xU0ldErOr7Ul"
      },
      "source": [
        "# **0. Setup Environment**"
      ]
    },
    {
      "cell_type": "code",
      "metadata": {
        "id": "xYk8E4rz_2x7"
      },
      "source": [
        "%load_ext autoreload\n",
        "%autoreload 2"
      ],
      "execution_count": 1,
      "outputs": []
    },
    {
      "cell_type": "markdown",
      "metadata": {
        "id": "9Ym_D3Fes2mm"
      },
      "source": [
        "## You will need to give permission for this Colab to link to your gdrive in the code cell below"
      ]
    },
    {
      "cell_type": "code",
      "metadata": {
        "colab": {
          "base_uri": "https://localhost:8080/"
        },
        "id": "aVRhYuhq8dCn",
        "outputId": "5ef8a32c-906f-4ca3-c2b1-336904f0d1b2"
      },
      "source": [
        "from google.colab import drive\n",
        "drive.mount('/gdrive')\n",
        "%cd /gdrive"
      ],
      "execution_count": 2,
      "outputs": [
        {
          "output_type": "stream",
          "text": [
            "Mounted at /gdrive\n",
            "/gdrive\n"
          ],
          "name": "stdout"
        }
      ]
    },
    {
      "cell_type": "code",
      "metadata": {
        "colab": {
          "base_uri": "https://localhost:8080/"
        },
        "id": "OWM1mX9a8fZm",
        "outputId": "092120f2-456a-4e9d-a762-92fa868ae2c7"
      },
      "source": [
        "# CUSTOMIZE: if you want your work and twitter datasets saved into a specific folder\n",
        "#            beneath your gdrive root directory, define it below\n",
        "\n",
        "%cd ./MyDrive/courses/2020f_iphs200_programming_humanity/code/"
      ],
      "execution_count": 3,
      "outputs": [
        {
          "output_type": "stream",
          "text": [
            "/gdrive/MyDrive/courses/2020f_iphs200_programming_humanity/code\n"
          ],
          "name": "stdout"
        }
      ]
    },
    {
      "cell_type": "code",
      "metadata": {
        "colab": {
          "base_uri": "https://localhost:8080/"
        },
        "id": "M68aiRXqIq89",
        "outputId": "c6c50bfb-1c26-4263-bc24-74d46df03cf3"
      },
      "source": [
        "!ls *.csv"
      ],
      "execution_count": 4,
      "outputs": [
        {
          "output_type": "stream",
          "text": [
            "cleaned_tweets_combined_20201201-012404.csv\n",
            "tweets_combined_20201201-012404.csv\n",
            "tweets_seattle_all.csv\n",
            "tweets_twint_donald_trump__20201201-012233.csv\n",
            "tweets_twint_election_win__20201201-012219.csv\n",
            "tweets_twint_future__20201201-012121.csv\n",
            "tweets_twint_vote_court__20201201-012309.csv\n"
          ],
          "name": "stdout"
        }
      ]
    },
    {
      "cell_type": "code",
      "metadata": {
        "id": "UHL6Q0mVI3I9"
      },
      "source": [
        "# import lots of stuff\n",
        "import sys\n",
        "import os\n",
        "import re\n",
        "import tweepy\n",
        "from tweepy import OAuthHandler\n",
        "from textblob import TextBlob\n",
        "\n",
        "import numpy as np\n",
        "import pandas as pd\n",
        "from datetime import datetime, timedelta\n",
        "import string\n",
        "import time\n",
        "from IPython.display import clear_output\n",
        "from tqdm import tqdm\n",
        "\n",
        "import matplotlib.pyplot as plt\n",
        "import seaborn as sns\n",
        "% matplotlib inline\n",
        "\n",
        "from os import path\n",
        "from PIL import Image\n",
        "from wordcloud import WordCloud, STOPWORDS"
      ],
      "execution_count": 74,
      "outputs": []
    },
    {
      "cell_type": "code",
      "metadata": {
        "colab": {
          "base_uri": "https://localhost:8080/"
        },
        "id": "jHtprJsGJl0u",
        "outputId": "f7be0294-c512-419f-fd3b-cd0a0dd4e6e3"
      },
      "source": [
        "pd.set_option('display.max_rows', None)\n",
        "pd.set_option('display.max_columns', None)\n",
        "pd.set_option('display.width', None)\n",
        "pd.set_option('display.max_colwidth', -1)"
      ],
      "execution_count": 6,
      "outputs": [
        {
          "output_type": "stream",
          "text": [
            "/usr/local/lib/python3.6/dist-packages/ipykernel_launcher.py:4: FutureWarning: Passing a negative integer is deprecated in version 1.0 and will not be supported in future version. Instead, use None to not limit the column width.\n",
            "  after removing the cwd from sys.path.\n"
          ],
          "name": "stderr"
        }
      ]
    },
    {
      "cell_type": "markdown",
      "metadata": {
        "id": "VR5_CeRzH8fI"
      },
      "source": [
        "## It may take a few moments to download Flair and it's models over the next 3 code cells."
      ]
    },
    {
      "cell_type": "code",
      "metadata": {
        "id": "usfLLDQ7I3GC"
      },
      "source": [
        "# install Flair\n",
        "!pip install --upgrade git+https://github.com/flairNLP/flair.git\n",
        "\n",
        "clear_output()"
      ],
      "execution_count": 7,
      "outputs": []
    },
    {
      "cell_type": "code",
      "metadata": {
        "id": "a3hwcEDVI3Da"
      },
      "source": [
        "# import Flair stuff\n",
        "from flair.data import Sentence\n",
        "from flair.models import SequenceTagger\n",
        "\n",
        "tagger = SequenceTagger.load('ner')\n",
        "\n",
        "clear_output()"
      ],
      "execution_count": 8,
      "outputs": []
    },
    {
      "cell_type": "code",
      "metadata": {
        "id": "6OlhbTmyI3Aj"
      },
      "source": [
        "#import Flair Classifier\n",
        "from flair.models import TextClassifier\n",
        "\n",
        "classifier = TextClassifier.load('en-sentiment')\n",
        "\n",
        "clear_output()"
      ],
      "execution_count": 9,
      "outputs": []
    },
    {
      "cell_type": "markdown",
      "metadata": {
        "id": "DB2EUT7JsAo3"
      },
      "source": [
        "# **1. Read in Combined Tweet Dataset File**"
      ]
    },
    {
      "cell_type": "code",
      "metadata": {
        "colab": {
          "base_uri": "https://localhost:8080/"
        },
        "id": "Nnuk2ojK9Mv_",
        "outputId": "80f4ac6f-ed40-4b00-9b0f-61694ded4513"
      },
      "source": [
        "!ls *.csv"
      ],
      "execution_count": 10,
      "outputs": [
        {
          "output_type": "stream",
          "text": [
            "cleaned_tweets_combined_20201201-012404.csv\n",
            "tweets_combined_20201201-012404.csv\n",
            "tweets_seattle_all.csv\n",
            "tweets_twint_donald_trump__20201201-012233.csv\n",
            "tweets_twint_election_win__20201201-012219.csv\n",
            "tweets_twint_future__20201201-012121.csv\n",
            "tweets_twint_vote_court__20201201-012309.csv\n"
          ],
          "name": "stdout"
        }
      ]
    },
    {
      "cell_type": "code",
      "metadata": {
        "id": "u6JJ64A09N-5"
      },
      "source": [
        "# CONFIGURE: Set the 'file_name_all' to the name of the combined datafile with all the tweets\n",
        "#            which should be listed in the previous code cell\n",
        "\n",
        "file_name_all = 'cleaned_tweets_combined_20201201-012404.csv'"
      ],
      "execution_count": 11,
      "outputs": []
    },
    {
      "cell_type": "code",
      "metadata": {
        "colab": {
          "base_uri": "https://localhost:8080/"
        },
        "id": "oaYU4Kwoh90D",
        "outputId": "4d3a6b7f-fe23-40e2-d16c-f86ecc25295e"
      },
      "source": [
        "combined_df = pd.read_csv(file_name_all, encoding='utf-8')\n",
        "combined_df = combined_df.convert_dtypes()\n",
        "combined_df.info()"
      ],
      "execution_count": 12,
      "outputs": [
        {
          "output_type": "stream",
          "text": [
            "<class 'pandas.core.frame.DataFrame'>\n",
            "RangeIndex: 1060 entries, 0 to 1059\n",
            "Data columns (total 41 columns):\n",
            " #   Column           Non-Null Count  Dtype  \n",
            "---  ------           --------------  -----  \n",
            " 0   Unnamed: 0       1060 non-null   Int64  \n",
            " 1   id               1060 non-null   Int64  \n",
            " 2   conversation_id  1060 non-null   Int64  \n",
            " 3   created_at       1060 non-null   string \n",
            " 4   date             1060 non-null   string \n",
            " 5   time             1060 non-null   string \n",
            " 6   timezone         1060 non-null   Int64  \n",
            " 7   user_id          1060 non-null   Int64  \n",
            " 8   username         1060 non-null   string \n",
            " 9   name             1060 non-null   string \n",
            " 10  place            0 non-null      Int64  \n",
            " 11  tweet            1060 non-null   string \n",
            " 12  language         1060 non-null   string \n",
            " 13  mentions         1060 non-null   string \n",
            " 14  urls             1060 non-null   string \n",
            " 15  photos           1060 non-null   string \n",
            " 16  replies_count    1060 non-null   Int64  \n",
            " 17  retweets_count   1060 non-null   Int64  \n",
            " 18  likes_count      1060 non-null   Int64  \n",
            " 19  hashtags         1060 non-null   string \n",
            " 20  cashtags         1060 non-null   string \n",
            " 21  link             1060 non-null   string \n",
            " 22  retweet          1060 non-null   boolean\n",
            " 23  quote_url        122 non-null    string \n",
            " 24  video            1060 non-null   Int64  \n",
            " 25  thumbnail        335 non-null    string \n",
            " 26  near             0 non-null      Int64  \n",
            " 27  geo              0 non-null      Int64  \n",
            " 28  source           0 non-null      Int64  \n",
            " 29  user_rt_id       0 non-null      Int64  \n",
            " 30  user_rt          0 non-null      Int64  \n",
            " 31  retweet_id       0 non-null      Int64  \n",
            " 32  reply_to         1060 non-null   string \n",
            " 33  retweet_date     0 non-null      Int64  \n",
            " 34  translate        0 non-null      Int64  \n",
            " 35  trans_src        0 non-null      Int64  \n",
            " 36  trans_dest       0 non-null      Int64  \n",
            " 37  emojis           1060 non-null   string \n",
            " 38  smileys          1060 non-null   string \n",
            " 39  numbers          1060 non-null   string \n",
            " 40  tweet_clean      1060 non-null   string \n",
            "dtypes: Int64(20), boolean(1), string(20)\n",
            "memory usage: 354.1 KB\n"
          ],
          "name": "stdout"
        }
      ]
    },
    {
      "cell_type": "code",
      "metadata": {
        "colab": {
          "base_uri": "https://localhost:8080/"
        },
        "id": "DvgZm_O1h-Vr",
        "outputId": "f1673e0d-1601-473a-e7e4-d0c5093e00de"
      },
      "source": [
        "combined_df.shape"
      ],
      "execution_count": 13,
      "outputs": [
        {
          "output_type": "execute_result",
          "data": {
            "text/plain": [
              "(1060, 41)"
            ]
          },
          "metadata": {
            "tags": []
          },
          "execution_count": 13
        }
      ]
    },
    {
      "cell_type": "code",
      "metadata": {
        "colab": {
          "base_uri": "https://localhost:8080/",
          "height": 525
        },
        "id": "v60lvThDiJPV",
        "outputId": "a2ca04ce-74c4-4051-d089-204757f1f59f"
      },
      "source": [
        "combined_df.head(1)"
      ],
      "execution_count": 14,
      "outputs": [
        {
          "output_type": "execute_result",
          "data": {
            "text/html": [
              "<div>\n",
              "<style scoped>\n",
              "    .dataframe tbody tr th:only-of-type {\n",
              "        vertical-align: middle;\n",
              "    }\n",
              "\n",
              "    .dataframe tbody tr th {\n",
              "        vertical-align: top;\n",
              "    }\n",
              "\n",
              "    .dataframe thead th {\n",
              "        text-align: right;\n",
              "    }\n",
              "</style>\n",
              "<table border=\"1\" class=\"dataframe\">\n",
              "  <thead>\n",
              "    <tr style=\"text-align: right;\">\n",
              "      <th></th>\n",
              "      <th>Unnamed: 0</th>\n",
              "      <th>id</th>\n",
              "      <th>conversation_id</th>\n",
              "      <th>created_at</th>\n",
              "      <th>date</th>\n",
              "      <th>time</th>\n",
              "      <th>timezone</th>\n",
              "      <th>user_id</th>\n",
              "      <th>username</th>\n",
              "      <th>name</th>\n",
              "      <th>place</th>\n",
              "      <th>tweet</th>\n",
              "      <th>language</th>\n",
              "      <th>mentions</th>\n",
              "      <th>urls</th>\n",
              "      <th>photos</th>\n",
              "      <th>replies_count</th>\n",
              "      <th>retweets_count</th>\n",
              "      <th>likes_count</th>\n",
              "      <th>hashtags</th>\n",
              "      <th>cashtags</th>\n",
              "      <th>link</th>\n",
              "      <th>retweet</th>\n",
              "      <th>quote_url</th>\n",
              "      <th>video</th>\n",
              "      <th>thumbnail</th>\n",
              "      <th>near</th>\n",
              "      <th>geo</th>\n",
              "      <th>source</th>\n",
              "      <th>user_rt_id</th>\n",
              "      <th>user_rt</th>\n",
              "      <th>retweet_id</th>\n",
              "      <th>reply_to</th>\n",
              "      <th>retweet_date</th>\n",
              "      <th>translate</th>\n",
              "      <th>trans_src</th>\n",
              "      <th>trans_dest</th>\n",
              "      <th>emojis</th>\n",
              "      <th>smileys</th>\n",
              "      <th>numbers</th>\n",
              "      <th>tweet_clean</th>\n",
              "    </tr>\n",
              "  </thead>\n",
              "  <tbody>\n",
              "    <tr>\n",
              "      <th>0</th>\n",
              "      <td>0</td>\n",
              "      <td>1332356759994970113</td>\n",
              "      <td>1332356759994970113</td>\n",
              "      <td>2020-11-27 16:13:00+00:00</td>\n",
              "      <td>2020-11-27</td>\n",
              "      <td>16:13:00</td>\n",
              "      <td>0</td>\n",
              "      <td>939091</td>\n",
              "      <td>joebiden</td>\n",
              "      <td>Joe Biden</td>\n",
              "      <td>&lt;NA&gt;</td>\n",
              "      <td>This Native American Heritage Day, we give thanks to our Indigenous communities and their ancestors. As we celebrate their rich heritage and contributions, let’s commit to writing a new future together — one built on a strong partnership and filled with opportunity for all.</td>\n",
              "      <td>en</td>\n",
              "      <td>[]</td>\n",
              "      <td>[]</td>\n",
              "      <td>[]</td>\n",
              "      <td>6351</td>\n",
              "      <td>21601</td>\n",
              "      <td>248367</td>\n",
              "      <td>[]</td>\n",
              "      <td>[]</td>\n",
              "      <td>https://twitter.com/JoeBiden/status/1332356759994970113</td>\n",
              "      <td>False</td>\n",
              "      <td>&lt;NA&gt;</td>\n",
              "      <td>0</td>\n",
              "      <td>&lt;NA&gt;</td>\n",
              "      <td>&lt;NA&gt;</td>\n",
              "      <td>&lt;NA&gt;</td>\n",
              "      <td>&lt;NA&gt;</td>\n",
              "      <td>&lt;NA&gt;</td>\n",
              "      <td>&lt;NA&gt;</td>\n",
              "      <td>&lt;NA&gt;</td>\n",
              "      <td>[]</td>\n",
              "      <td>&lt;NA&gt;</td>\n",
              "      <td>&lt;NA&gt;</td>\n",
              "      <td>&lt;NA&gt;</td>\n",
              "      <td>&lt;NA&gt;</td>\n",
              "      <td>[]</td>\n",
              "      <td>[]</td>\n",
              "      <td>[]</td>\n",
              "      <td>this native american heritage day we give thanks to our indigenous communities and their ancestors as we celebrate their rich heritage and contributions let us commit to writing a new future together one built on a strong partnership and filled with opportunity for all</td>\n",
              "    </tr>\n",
              "  </tbody>\n",
              "</table>\n",
              "</div>"
            ],
            "text/plain": [
              "   Unnamed: 0                   id      conversation_id  \\\n",
              "0  0           1332356759994970113  1332356759994970113   \n",
              "\n",
              "                  created_at        date      time  timezone  user_id  \\\n",
              "0  2020-11-27 16:13:00+00:00  2020-11-27  16:13:00  0         939091    \n",
              "\n",
              "   username       name  place  \\\n",
              "0  joebiden  Joe Biden  <NA>    \n",
              "\n",
              "                                                                                                                                                                                                                                                                                tweet  \\\n",
              "0  This Native American Heritage Day, we give thanks to our Indigenous communities and their ancestors. As we celebrate their rich heritage and contributions, let’s commit to writing a new future together — one built on a strong partnership and filled with opportunity for all.   \n",
              "\n",
              "  language mentions urls photos  replies_count  retweets_count  likes_count  \\\n",
              "0  en       []       []   []     6351           21601           248367        \n",
              "\n",
              "  hashtags cashtags                                                     link  \\\n",
              "0  []       []       https://twitter.com/JoeBiden/status/1332356759994970113   \n",
              "\n",
              "   retweet quote_url  video thumbnail  near   geo  source  user_rt_id  \\\n",
              "0  False    <NA>      0      <NA>      <NA>  <NA>  <NA>    <NA>         \n",
              "\n",
              "   user_rt  retweet_id reply_to  retweet_date  translate  trans_src  \\\n",
              "0  <NA>     <NA>        []       <NA>          <NA>       <NA>        \n",
              "\n",
              "   trans_dest emojis smileys numbers  \\\n",
              "0  <NA>        []     []      []       \n",
              "\n",
              "                                                                                                                                                                                                                                                                     tweet_clean  \n",
              "0  this native american heritage day we give thanks to our indigenous communities and their ancestors as we celebrate their rich heritage and contributions let us commit to writing a new future together one built on a strong partnership and filled with opportunity for all  "
            ]
          },
          "metadata": {
            "tags": []
          },
          "execution_count": 14
        }
      ]
    },
    {
      "cell_type": "code",
      "metadata": {
        "colab": {
          "base_uri": "https://localhost:8080/"
        },
        "id": "Y-Wh286kKKUM",
        "outputId": "07baad90-00be-480e-ad71-3b53425bbf57"
      },
      "source": [
        "# Check that we cleaned the tweets correctly, view the first 50 tweets\n",
        "#   this should also bring your attention to potential other problems with dirty text\n",
        "#   as well as new ideas for sub-stories hidden in the data \n",
        "#   and the search terms/RegEx's needed to filter the dataset to focus on them\n",
        "\n",
        "combined_df['tweet_clean'][:50]"
      ],
      "execution_count": 15,
      "outputs": [
        {
          "output_type": "execute_result",
          "data": {
            "text/plain": [
              "0     this native american heritage day we give thanks to our indigenous communities and their ancestors as we celebrate their rich heritage and contributions let us commit to writing a new future together one built on a strong partnership and filled with opportunity for all      \n",
              "1     i have said it many times i am more optimistic about americas future today than i was when i got elected to the united states senate as a year old                                                                                                                                 \n",
              "2     i am speaking with members of the african american community in pittsburgh about the power of the vote and the future we can build together tune in                                                                                                                                \n",
              "3     we can build a future where health care is a right we end the gun violence epidemic we combat climate change our government works for everyone vote                                                                                                                                \n",
              "4     the future of our planet is on the ballot vote                                                                                                                                                                                                                                     \n",
              "5     vote for equality vote for the planet vote for justice vote for the future                                                                                                                                                                                                         \n",
              "6     the future of this country is in your hands make a plan to vote now                                                                                                                                                                                                                \n",
              "7     from the climate crisis to student debt and gun violence there is so much on the line in this election and young people have the power to own the outcome so vote and let us build a better future together                                                                        \n",
              "8     your vote will help determine the future of our country i am in wisconsin to urge folks to use that power tune in                                                                                                                                                                  \n",
              "9     alfonso came here with a dream and now he is been robbed of his future enough is enough                                                                                                                                                                                            \n",
              "10    the future of our country is on the ballot and you get to decide what it looks like vote                                                                                                                                                                                           \n",
              "11    the future of our planet is on the ballot                                                                                                                                                                                                                                          \n",
              "12    i could not be more excited to have my friend hitting the campaign trail to talk about what is at stake in this election as he said in philadelphia we can not just imagine a better future we have to fight for it and vote like never before                                     \n",
              "13    imagine a day in the not too distant future when you can enjoy a dinner out with your friends a night at the movies or when you can celebrate your birthday wedding or graduation surrounded by your nearest and dearest we can get there together                                 \n",
              "14    i will be a president who pushes towards the future not one who clings to the past                                                                                                                                                                                                 \n",
              "15    if we do our part if we stand together if we keep faith with the past and with each other then the divisions of our time can give way to the dreams of a brighter better future that is our work that is our pledge that is our mission                                            \n",
              "16    this election is bigger than any one candidate it is about the future of our economy our health care our climate our commitment to racial justice our democracy and so much more we have to vote                                                                                   \n",
              "17    i know times are tough but i promise our best days still lie ahead together we are going to overcome these crises unite the country and build a better future for all                                                                                                              \n",
              "18    on this indigenous peoples day we must both recognize the past that has brought us here and commit to one another to write a new future of promise partnership and equal opportunity for the proud tribal nations of our country                                                   \n",
              "19    brayden you have heart courage and maturity beyond your years you have unlimited potential and i can not wait to see what your future holds                                                                                                                                        \n",
              "20    today let us all celebrate the one billion girls and young women around the world and recommit to fight for their education work health rights and opportunities a biden harris administration will work to elevate their voices and ensure an equal future                        \n",
              "21    what does building back better mean for you millions of new good paying jobs a 15 federal minimum wage stronger benefits and fair workplaces an economy that works for everyonenot just the wealthy the choice to join a union that is the future we can build together            \n",
              "22    missouri today is your last day to register to vote online in person or by mail do not miss your opportunity to help determine the future of this country head to and get registered today                                                                                         \n",
              "23    the future is yours i am counting on you                                                                                                                                                                                                                                           \n",
              "24    imagine a future where health care is a right we end the gun violence epidemic we combat climate change our government works for everyone it is a future that we can build together                                                                                                \n",
              "25    there is just one month left before the most important election of our lifetime one that will shape the future of our nation for decades to come do not wake up on november th wishing you had done more get involved today                                                        \n",
              "26    jill and i wish a happy mid autumn festival to all those celebrating we join you in hoping for a future filled with peace and prosperity and hope your festivities lead to a bountiful harvest in the year ahead                                                                   \n",
              "27    i believe there is no greater economic engine in the world than the hard work and ingenuity of the american people and i witnessed it firsthand last week in manitowoc wisconsin together we are going to make sure the future is made here in america                             \n",
              "28    we are in the middle of a climate emergency and every day that donald trump remains in the white house further threatens the future of our planet we have to vote him out                                                                                                          \n",
              "29    we have the power to write the future we want for our country and it starts at the ballot box register to vote today and let us change the course of history together                                                                                                              \n",
              "30    thank you for the warm welcome manitowoc with the help of companies like wisconsin aluminum foundry we are going to revitalize american manufacturing and make sure the future is made here in america                                                                             \n",
              "31    tune in as i deliver remarks on the passing of justice ruth bader ginsburg and the future of the supreme court                                                                                                                                                                     \n",
              "32    tune in as i deliver remarks on the passing of justice ruth bader ginsburg and the future of the supreme court                                                                                                                                                                     \n",
              "33    the supreme court is on the ballot and the outcome will impact everything from health care to civil rights affecting generations to come vote our future depends on it                                                                                                             \n",
              "34    virginia early voting is now open the future of our country is on the ballot and your voice is absolutely critical to deciding who we are as a nation this is our moment head to to make a plan to vote democracy depends on it                                                    \n",
              "35    a biden harris administration will create millions of good paying union jobs and ensure the future is made in america by all of america i am speaking live from hermantown mn on how we will get it done tune in                                                                   \n",
              "36    the choice in this election could not be more clear we can choose four more years of donald trumps dark and divisive politics or we can choose a path of hope and lightand build a better future for all chip in to help us win                                                    \n",
              "37    donald trump not only suggested we sell or trade puerto rico but he also left our fellow americans without the resources they desperately needed after hurricane maria it is unacceptable as president i will support the islands full recovery and invest in its people and future\n",
              "38    climate change is the existential challenge that will define our future as a country tune in as i discuss the wildfires up and down the west coast and how i will tackle the climate crisis head on and create millions of good paying jobs                                        \n",
              "39    as president i will impose a tax penalty on companies that ship jobs overseas and sell products back to the yous and i will create millions of good paying jobs here at home we are going to make sure the future is made in america by all of americas workers                    \n",
              "40    the science is clear and deadly signs like the fires out west are unmistakable climate change poses an existential threat to our way of life we must act now to avoid a future defined by tragedies like the one american families are enduring today                              \n",
              "41    i am in warren michigan to discuss how a biden harris administration will ensure the future is made in america by americas workers tune in now                                                                                                                                     \n",
              "42    as president i will make record investments in american industry and create millions of good paying union jobs we are going to make sure the future is made in america and built by union workers                                                                                  \n",
              "43    together we can build a future that reflects working peoples courage and ambition one that not only offers good jobs but the dignity equity shared prosperity and common purpose due to every american                                                                             \n",
              "44    right now classrooms should be humming with excitement for a new year and students hopes for their futures instead many are silent and empty because president trump did not do his job americas families are paying the price for his failures                                    \n",
              "45    i have always believed we are at our best when we act as one america it is time for us to come together propel our nation across this turbulent threshold and build a better future for all                                                                                        \n",
              "46    donald trump is determined to instill fear and divide us but what he does not understand is that fear never builds the future hope does                                                                                                                                            \n",
              "47    fear never builds the future hope does                                                                                                                                                                                                                                             \n",
              "48    we are facing so many crises under donald trump covid economic devastation unwarranted police violence emboldened white nationalists a reckoning on race declining faith in a bright american future the common thread a president who makes things worse not better               \n",
              "49    we are going to build back better and we will do it while creating a brighter future for you and your families this week and i sit down to discuss how we are going to move forwardtogether join us on tuesday                                                                     \n",
              "Name: tweet_clean, dtype: string"
            ]
          },
          "metadata": {
            "tags": []
          },
          "execution_count": 15
        }
      ]
    },
    {
      "cell_type": "markdown",
      "metadata": {
        "id": "dCl0HsyfKUiJ"
      },
      "source": [
        "# **2. NER and Sentiment Analysis**\n",
        "\n",
        "Now let's do some NER / Sentiment Analysis. We will use the Flair library: https://github.com/zalandoresearch/flair\n",
        "\n",
        "###NER\n",
        "\n",
        "Previosuly, we extracted, and then appended the Tags as separate rows in our dataframe. This helps us later on to Group by Tags.\n",
        "\n",
        "We also create a new 'Hashtag' Tag as Flair does not recognize it and it's a big one in this context.\n",
        "\n",
        "### Sentiment Analysis\n",
        "\n",
        "We use the Flair Classifier to get Polarity and Result and add those fields to our dataframe.\n",
        "\n",
        "**Warning:** This can be slow if you have lots of tweets."
      ]
    },
    {
      "cell_type": "code",
      "metadata": {
        "id": "kDErf_PyKaew"
      },
      "source": [
        "nerlst = []\n",
        "\n",
        "for index, row in tqdm(combined_df.iterrows(), total=combined_df.shape[0]):\n",
        "  cleanedTweet = row['tweet'].replace(\"#\", \"\")\n",
        "  sentence = Sentence(cleanedTweet, use_tokenizer=True)\n",
        "  \n",
        "  # predict NER tags\n",
        "  tagger.predict(sentence)\n",
        "\n",
        "  # get ner\n",
        "  ners = sentence.to_dict(tag_type='ner')['entities']\n",
        "  \n",
        "  # predict sentiment\n",
        "  classifier.predict(sentence)\n",
        "  \n",
        "  label = sentence.labels[0]\n",
        "  response = {'result': label.value, 'polarity':label.score}\n",
        "  \n",
        "  # get hashtags\n",
        "  hashtags = combined_df['hashtags'] # re.findall(r'#\\w+', row['tweet'])\n",
        "  if len(hashtags) >= 1:\n",
        "    for hashtag in hashtags:\n",
        "      ners.append({ 'type': 'Hashtag', 'text': hashtag })\n",
        "  \n",
        "  for ner in ners:\n",
        "    adj_polarity = response['polarity']\n",
        "    if response['result'] == 'NEGATIVE':\n",
        "      adj_polarity = response['polarity'] * -1\n",
        "    try:\n",
        "      ner['type']\n",
        "    except:\n",
        "      ner['type'] = ''      \n",
        "    nerlst.append([ row['created_at'], row['conversation_id'], row['id'], row['username'], \n",
        "                   row['name'], row['tweet'], ner['type'], ner['text'], response['result'], \n",
        "                   response['polarity'], adj_polarity, row['likes_count'], row['replies_count'], \n",
        "                  row['retweets_count'] ])\n",
        "\n",
        "clear_output()"
      ],
      "execution_count": 16,
      "outputs": []
    },
    {
      "cell_type": "code",
      "metadata": {
        "colab": {
          "base_uri": "https://localhost:8080/"
        },
        "id": "_qj1aDZ8Kadx",
        "outputId": "3cd94410-e955-4656-b1ec-e4dfa54a3523"
      },
      "source": [
        "df_ner = pd.DataFrame(nerlst, columns=['created_at', 'conversation_id', 'id', 'username', 'name', 'tweet', 'tag_type', 'tag', 'sentiment', 'polarity', \n",
        "                                       'adj_polarity','likes_count', 'replies_count', 'retweets_count'])\n",
        "\n",
        "df_ner = df_ner.convert_dtypes()\n",
        "df_ner.info()"
      ],
      "execution_count": 42,
      "outputs": [
        {
          "output_type": "stream",
          "text": [
            "<class 'pandas.core.frame.DataFrame'>\n",
            "RangeIndex: 1125559 entries, 0 to 1125558\n",
            "Data columns (total 14 columns):\n",
            " #   Column           Non-Null Count    Dtype  \n",
            "---  ------           --------------    -----  \n",
            " 0   created_at       1125559 non-null  string \n",
            " 1   conversation_id  1125559 non-null  Int64  \n",
            " 2   id               1125559 non-null  Int64  \n",
            " 3   username         1125559 non-null  string \n",
            " 4   name             1125559 non-null  string \n",
            " 5   tweet            1125559 non-null  string \n",
            " 6   tag_type         1125559 non-null  string \n",
            " 7   tag              1125559 non-null  string \n",
            " 8   sentiment        1125559 non-null  string \n",
            " 9   polarity         1125559 non-null  float64\n",
            " 10  adj_polarity     1125559 non-null  float64\n",
            " 11  likes_count      1125559 non-null  Int64  \n",
            " 12  replies_count    1125559 non-null  Int64  \n",
            " 13  retweets_count   1125559 non-null  Int64  \n",
            "dtypes: Int64(5), float64(2), string(7)\n",
            "memory usage: 125.6 MB\n"
          ],
          "name": "stdout"
        }
      ]
    },
    {
      "cell_type": "code",
      "metadata": {
        "colab": {
          "base_uri": "https://localhost:8080/",
          "height": 508
        },
        "id": "gl8Z_GEQQaLG",
        "outputId": "8966dab2-e3a0-4458-df6d-43373e2e982a"
      },
      "source": [
        "df_ner.head(1)"
      ],
      "execution_count": 43,
      "outputs": [
        {
          "output_type": "execute_result",
          "data": {
            "text/html": [
              "<div>\n",
              "<style scoped>\n",
              "    .dataframe tbody tr th:only-of-type {\n",
              "        vertical-align: middle;\n",
              "    }\n",
              "\n",
              "    .dataframe tbody tr th {\n",
              "        vertical-align: top;\n",
              "    }\n",
              "\n",
              "    .dataframe thead th {\n",
              "        text-align: right;\n",
              "    }\n",
              "</style>\n",
              "<table border=\"1\" class=\"dataframe\">\n",
              "  <thead>\n",
              "    <tr style=\"text-align: right;\">\n",
              "      <th></th>\n",
              "      <th>created_at</th>\n",
              "      <th>conversation_id</th>\n",
              "      <th>id</th>\n",
              "      <th>username</th>\n",
              "      <th>name</th>\n",
              "      <th>tweet</th>\n",
              "      <th>tag_type</th>\n",
              "      <th>tag</th>\n",
              "      <th>sentiment</th>\n",
              "      <th>polarity</th>\n",
              "      <th>adj_polarity</th>\n",
              "      <th>likes_count</th>\n",
              "      <th>replies_count</th>\n",
              "      <th>retweets_count</th>\n",
              "    </tr>\n",
              "  </thead>\n",
              "  <tbody>\n",
              "    <tr>\n",
              "      <th>0</th>\n",
              "      <td>2020-11-27 16:13:00+00:00</td>\n",
              "      <td>1332356759994970113</td>\n",
              "      <td>1332356759994970113</td>\n",
              "      <td>joebiden</td>\n",
              "      <td>Joe Biden</td>\n",
              "      <td>This Native American Heritage Day, we give thanks to our Indigenous communities and their ancestors. As we celebrate their rich heritage and contributions, let’s commit to writing a new future together — one built on a strong partnership and filled with opportunity for all.</td>\n",
              "      <td></td>\n",
              "      <td>Native American Heritage Day</td>\n",
              "      <td>POSITIVE</td>\n",
              "      <td>0.99372</td>\n",
              "      <td>0.99372</td>\n",
              "      <td>248367</td>\n",
              "      <td>6351</td>\n",
              "      <td>21601</td>\n",
              "    </tr>\n",
              "  </tbody>\n",
              "</table>\n",
              "</div>"
            ],
            "text/plain": [
              "                  created_at      conversation_id                   id  \\\n",
              "0  2020-11-27 16:13:00+00:00  1332356759994970113  1332356759994970113   \n",
              "\n",
              "   username       name  \\\n",
              "0  joebiden  Joe Biden   \n",
              "\n",
              "                                                                                                                                                                                                                                                                                tweet  \\\n",
              "0  This Native American Heritage Day, we give thanks to our Indigenous communities and their ancestors. As we celebrate their rich heritage and contributions, let’s commit to writing a new future together — one built on a strong partnership and filled with opportunity for all.   \n",
              "\n",
              "  tag_type                           tag sentiment  polarity  adj_polarity  \\\n",
              "0           Native American Heritage Day  POSITIVE  0.99372   0.99372        \n",
              "\n",
              "   likes_count  replies_count  retweets_count  \n",
              "0  248367       6351           21601           "
            ]
          },
          "metadata": {
            "tags": []
          },
          "execution_count": 43
        }
      ]
    },
    {
      "cell_type": "markdown",
      "metadata": {
        "id": "TfWVU9dbQcGY"
      },
      "source": [
        ""
      ]
    },
    {
      "cell_type": "markdown",
      "metadata": {
        "id": "wuNLo_gaM3Aj"
      },
      "source": [
        "### Let's filter out very frequent/obvious tags that would show up for this search. You can comment this portion out or use different Tags for your list."
      ]
    },
    {
      "cell_type": "code",
      "metadata": {
        "id": "v9Xji_e2Kac1"
      },
      "source": [
        "# CUSTOMIZE: Add \n",
        "\n",
        "# CUSTOMIZE: After initial Exploratory Data Analysis (EDA), identify the 'stopwords' you need to filter out\n",
        "#            of your results because they are too frequent, don't add much meaning and drown out more important\n",
        "#            but less frequent terms.\n",
        "\n",
        "# filter out obvious tags/words to the black list below to filter out high-freq/noisy words\n",
        "# to find the more meaningful signal- change this to filter out terms relevant to your own search results\n",
        "\n",
        "banned_words = ['Seattle', 'WA', '#Seattle', '#seattle', 'Washington', 'SEATTLE', 'WASHINGTON',\n",
        "                'seattle', 'Seattle WA', 'seattle wa','Seattle, WA', 'Seattle WA USA', \n",
        "                'Seattle, Washington', 'Seattle Washington', 'Wa', 'wa', '#Wa',\n",
        "               '#wa', '#washington', '#Washington', '#WA', '#PNW', '#pnw', '#northwest']\n",
        "\n",
        "df_ner = df_ner[~df_ner['tag'].isin(banned_words)]"
      ],
      "execution_count": 20,
      "outputs": []
    },
    {
      "cell_type": "code",
      "metadata": {
        "colab": {
          "base_uri": "https://localhost:8080/"
        },
        "id": "KMVVdMZGKabJ",
        "outputId": "a154666a-ef40-4c7c-852f-3beb5f0a6934"
      },
      "source": [
        "# Calculate Frequency, Likes, Replies, Retweets and Average Polarity per Tag.\n",
        "\n",
        "ner_groups = df_ner.groupby(['tag', 'tag_type']).agg({'tag': \"count\", 'adj_polarity': \"mean\",\n",
        "                                                     'likes_count': 'sum', 'replies_count': 'sum',\n",
        "                                                     'retweets_count': 'sum'})\n",
        "ner_groups = ner_groups.rename(columns={\n",
        "    \"tag\": \"Frequency\",\n",
        "    \"adj_polarity\": \"Avg_Polarity\",\n",
        "    \"like_count\": \"Total_Likes\",\n",
        "    \"reply_count\": \"Total_Replies\",\n",
        "    \"retweet_count\": \"Total_Retweets\"\n",
        "})\n",
        "ner_groups = ner_groups.sort_values(['Frequency'], ascending=False)\n",
        "ner_groups = ner_groups.reset_index()\n",
        "ner_groups = ner_groups.convert_dtypes()\n",
        "ner_groups.info()"
      ],
      "execution_count": 44,
      "outputs": [
        {
          "output_type": "stream",
          "text": [
            "<class 'pandas.core.frame.DataFrame'>\n",
            "RangeIndex: 353 entries, 0 to 352\n",
            "Data columns (total 7 columns):\n",
            " #   Column          Non-Null Count  Dtype  \n",
            "---  ------          --------------  -----  \n",
            " 0   tag             353 non-null    string \n",
            " 1   tag_type        353 non-null    string \n",
            " 2   Frequency       353 non-null    Int64  \n",
            " 3   Avg_Polarity    353 non-null    float64\n",
            " 4   likes_count     353 non-null    Int64  \n",
            " 5   replies_count   353 non-null    Int64  \n",
            " 6   retweets_count  353 non-null    Int64  \n",
            "dtypes: Int64(4), float64(1), string(2)\n",
            "memory usage: 20.8 KB\n"
          ],
          "name": "stdout"
        }
      ]
    },
    {
      "cell_type": "code",
      "metadata": {
        "colab": {
          "base_uri": "https://localhost:8080/",
          "height": 204
        },
        "id": "BNTQPcDTQEXg",
        "outputId": "574d2e5a-ef22-4e3e-924e-0cdf96fe0022"
      },
      "source": [
        "# Drop rows with empty tag[] lists\n",
        "\n",
        "ner_groups = ner_groups[ner_groups.astype(str)['tag'] != '[]'] # .map(lambda d: len(d)) > 0]\n",
        "\n",
        "ner_groups.head()"
      ],
      "execution_count": 55,
      "outputs": [
        {
          "output_type": "execute_result",
          "data": {
            "text/html": [
              "<div>\n",
              "<style scoped>\n",
              "    .dataframe tbody tr th:only-of-type {\n",
              "        vertical-align: middle;\n",
              "    }\n",
              "\n",
              "    .dataframe tbody tr th {\n",
              "        vertical-align: top;\n",
              "    }\n",
              "\n",
              "    .dataframe thead th {\n",
              "        text-align: right;\n",
              "    }\n",
              "</style>\n",
              "<table border=\"1\" class=\"dataframe\">\n",
              "  <thead>\n",
              "    <tr style=\"text-align: right;\">\n",
              "      <th></th>\n",
              "      <th>tag</th>\n",
              "      <th>tag_type</th>\n",
              "      <th>Frequency</th>\n",
              "      <th>Avg_Polarity</th>\n",
              "      <th>likes_count</th>\n",
              "      <th>replies_count</th>\n",
              "      <th>retweets_count</th>\n",
              "      <th>Sentiment</th>\n",
              "    </tr>\n",
              "  </thead>\n",
              "  <tbody>\n",
              "    <tr>\n",
              "      <th>1</th>\n",
              "      <td>['#DemDebate']</td>\n",
              "      <td>Hashtag</td>\n",
              "      <td>30740</td>\n",
              "      <td>-0.124443</td>\n",
              "      <td>1669614767</td>\n",
              "      <td>132787665</td>\n",
              "      <td>311878238</td>\n",
              "      <td>NEGATIVE</td>\n",
              "    </tr>\n",
              "    <tr>\n",
              "      <th>2</th>\n",
              "      <td>['#ParisAgreement']</td>\n",
              "      <td>Hashtag</td>\n",
              "      <td>4240</td>\n",
              "      <td>-0.124443</td>\n",
              "      <td>230291692</td>\n",
              "      <td>18315540</td>\n",
              "      <td>43017688</td>\n",
              "      <td>NEGATIVE</td>\n",
              "    </tr>\n",
              "    <tr>\n",
              "      <th>3</th>\n",
              "      <td>['#DemConvention']</td>\n",
              "      <td>Hashtag</td>\n",
              "      <td>4240</td>\n",
              "      <td>-0.124443</td>\n",
              "      <td>230291692</td>\n",
              "      <td>18315540</td>\n",
              "      <td>43017688</td>\n",
              "      <td>NEGATIVE</td>\n",
              "    </tr>\n",
              "    <tr>\n",
              "      <th>4</th>\n",
              "      <td>['#LJ19']</td>\n",
              "      <td>Hashtag</td>\n",
              "      <td>4240</td>\n",
              "      <td>-0.124443</td>\n",
              "      <td>230291692</td>\n",
              "      <td>18315540</td>\n",
              "      <td>43017688</td>\n",
              "      <td>NEGATIVE</td>\n",
              "    </tr>\n",
              "    <tr>\n",
              "      <th>5</th>\n",
              "      <td>['#BidenTownHall']</td>\n",
              "      <td>Hashtag</td>\n",
              "      <td>3180</td>\n",
              "      <td>-0.124443</td>\n",
              "      <td>172718769</td>\n",
              "      <td>13736655</td>\n",
              "      <td>32263266</td>\n",
              "      <td>NEGATIVE</td>\n",
              "    </tr>\n",
              "  </tbody>\n",
              "</table>\n",
              "</div>"
            ],
            "text/plain": [
              "                   tag tag_type  Frequency  Avg_Polarity  likes_count  \\\n",
              "1  ['#DemDebate']       Hashtag  30740     -0.124443      1669614767    \n",
              "2  ['#ParisAgreement']  Hashtag  4240      -0.124443      230291692     \n",
              "3  ['#DemConvention']   Hashtag  4240      -0.124443      230291692     \n",
              "4  ['#LJ19']            Hashtag  4240      -0.124443      230291692     \n",
              "5  ['#BidenTownHall']   Hashtag  3180      -0.124443      172718769     \n",
              "\n",
              "   replies_count  retweets_count Sentiment  \n",
              "1  132787665      311878238       NEGATIVE  \n",
              "2  18315540       43017688        NEGATIVE  \n",
              "3  18315540       43017688        NEGATIVE  \n",
              "4  18315540       43017688        NEGATIVE  \n",
              "5  13736655       32263266        NEGATIVE  "
            ]
          },
          "metadata": {
            "tags": []
          },
          "execution_count": 55
        }
      ]
    },
    {
      "cell_type": "code",
      "metadata": {
        "colab": {
          "base_uri": "https://localhost:8080/",
          "height": 204
        },
        "id": "cquE5TQyNuIa",
        "outputId": "112fdb79-94a1-4c5a-fd91-2f00d59a0b05"
      },
      "source": [
        "# Create an overall Sentiment column based on the Average Polarity of the Tag.\n",
        "\n",
        "ner_groups['Sentiment'] = np.where(ner_groups['Avg_Polarity']>=0, 'POSITIVE', 'NEGATIVE')\n",
        "ner_groups.head()"
      ],
      "execution_count": 56,
      "outputs": [
        {
          "output_type": "execute_result",
          "data": {
            "text/html": [
              "<div>\n",
              "<style scoped>\n",
              "    .dataframe tbody tr th:only-of-type {\n",
              "        vertical-align: middle;\n",
              "    }\n",
              "\n",
              "    .dataframe tbody tr th {\n",
              "        vertical-align: top;\n",
              "    }\n",
              "\n",
              "    .dataframe thead th {\n",
              "        text-align: right;\n",
              "    }\n",
              "</style>\n",
              "<table border=\"1\" class=\"dataframe\">\n",
              "  <thead>\n",
              "    <tr style=\"text-align: right;\">\n",
              "      <th></th>\n",
              "      <th>tag</th>\n",
              "      <th>tag_type</th>\n",
              "      <th>Frequency</th>\n",
              "      <th>Avg_Polarity</th>\n",
              "      <th>likes_count</th>\n",
              "      <th>replies_count</th>\n",
              "      <th>retweets_count</th>\n",
              "      <th>Sentiment</th>\n",
              "    </tr>\n",
              "  </thead>\n",
              "  <tbody>\n",
              "    <tr>\n",
              "      <th>1</th>\n",
              "      <td>['#DemDebate']</td>\n",
              "      <td>Hashtag</td>\n",
              "      <td>30740</td>\n",
              "      <td>-0.124443</td>\n",
              "      <td>1669614767</td>\n",
              "      <td>132787665</td>\n",
              "      <td>311878238</td>\n",
              "      <td>NEGATIVE</td>\n",
              "    </tr>\n",
              "    <tr>\n",
              "      <th>2</th>\n",
              "      <td>['#ParisAgreement']</td>\n",
              "      <td>Hashtag</td>\n",
              "      <td>4240</td>\n",
              "      <td>-0.124443</td>\n",
              "      <td>230291692</td>\n",
              "      <td>18315540</td>\n",
              "      <td>43017688</td>\n",
              "      <td>NEGATIVE</td>\n",
              "    </tr>\n",
              "    <tr>\n",
              "      <th>3</th>\n",
              "      <td>['#DemConvention']</td>\n",
              "      <td>Hashtag</td>\n",
              "      <td>4240</td>\n",
              "      <td>-0.124443</td>\n",
              "      <td>230291692</td>\n",
              "      <td>18315540</td>\n",
              "      <td>43017688</td>\n",
              "      <td>NEGATIVE</td>\n",
              "    </tr>\n",
              "    <tr>\n",
              "      <th>4</th>\n",
              "      <td>['#LJ19']</td>\n",
              "      <td>Hashtag</td>\n",
              "      <td>4240</td>\n",
              "      <td>-0.124443</td>\n",
              "      <td>230291692</td>\n",
              "      <td>18315540</td>\n",
              "      <td>43017688</td>\n",
              "      <td>NEGATIVE</td>\n",
              "    </tr>\n",
              "    <tr>\n",
              "      <th>5</th>\n",
              "      <td>['#BidenTownHall']</td>\n",
              "      <td>Hashtag</td>\n",
              "      <td>3180</td>\n",
              "      <td>-0.124443</td>\n",
              "      <td>172718769</td>\n",
              "      <td>13736655</td>\n",
              "      <td>32263266</td>\n",
              "      <td>NEGATIVE</td>\n",
              "    </tr>\n",
              "  </tbody>\n",
              "</table>\n",
              "</div>"
            ],
            "text/plain": [
              "                   tag tag_type  Frequency  Avg_Polarity  likes_count  \\\n",
              "1  ['#DemDebate']       Hashtag  30740     -0.124443      1669614767    \n",
              "2  ['#ParisAgreement']  Hashtag  4240      -0.124443      230291692     \n",
              "3  ['#DemConvention']   Hashtag  4240      -0.124443      230291692     \n",
              "4  ['#LJ19']            Hashtag  4240      -0.124443      230291692     \n",
              "5  ['#BidenTownHall']   Hashtag  3180      -0.124443      172718769     \n",
              "\n",
              "   replies_count  retweets_count Sentiment  \n",
              "1  132787665      311878238       NEGATIVE  \n",
              "2  18315540       43017688        NEGATIVE  \n",
              "3  18315540       43017688        NEGATIVE  \n",
              "4  18315540       43017688        NEGATIVE  \n",
              "5  13736655       32263266        NEGATIVE  "
            ]
          },
          "metadata": {
            "tags": []
          },
          "execution_count": 56
        }
      ]
    },
    {
      "cell_type": "code",
      "metadata": {
        "id": "2vF-8F51NuD3"
      },
      "source": [
        "# CHECKPOINT: Save work\n",
        "\n",
        "# Save time restricted Named Entity Relationship-Sentiment Analysis filtered \n",
        "# search results to a time stamped file named after the search term and number of tweets\n",
        "\n",
        "timestr = time.strftime(\"%Y%m%d-%H%M%S\")\n",
        "\n",
        "# Uncomment if you filtered out by date range\n",
        "# file_name = f\"tweets_ner_sa_{maxTweets}_{searchTerm}_{start_dt}-thru-{end_dt}_on-{timestr}.csv\"\n",
        "\n",
        "# Uncomment if you did not filter out by date range\n",
        "file_name = f\"tweets_ner_sa__{timestr}.csv\"\n",
        "\n",
        "\n",
        "ner_groups.to_csv(file_name, encoding='utf-8')"
      ],
      "execution_count": 57,
      "outputs": []
    },
    {
      "cell_type": "code",
      "metadata": {
        "colab": {
          "base_uri": "https://localhost:8080/"
        },
        "id": "g-V9eO5QOG0B",
        "outputId": "844ba6db-44d1-4236-c0ab-536aff754fac"
      },
      "source": [
        "!ls *.csv"
      ],
      "execution_count": 58,
      "outputs": [
        {
          "output_type": "stream",
          "text": [
            "cleaned_tweets_combined_20201201-012404.csv\n",
            "tweets_combined_20201201-012404.csv\n",
            "tweets_ner_sa__20201201-073325.csv\n",
            "tweets_ner_sa__20201201-074425.csv\n",
            "tweets_ner_sa__20201201-075050.csv\n",
            "tweets_seattle_all.csv\n",
            "tweets_twint_donald_trump__20201201-012233.csv\n",
            "tweets_twint_election_win__20201201-012219.csv\n",
            "tweets_twint_future__20201201-012121.csv\n",
            "tweets_twint_vote_court__20201201-012309.csv\n"
          ],
          "name": "stdout"
        }
      ]
    },
    {
      "cell_type": "markdown",
      "metadata": {
        "id": "zxS9uugFsIdM"
      },
      "source": [
        "# **3. Visualize Hashtags, NER and Sentiment Analysis**\n",
        "\n",
        "We can get some bar plots for the Tags based on the following metrics:\n",
        "\n",
        "*   Most Popular Tweets\n",
        "*   Most Liked Tweets\n",
        "*   Most Replied Tweets\n",
        "*   Most Retweeted Tweets\n",
        "\n",
        "By default, we do the analysis on all the Tags but we can also filter by Tag by checking the Filter_TAG box. \n",
        "This way we can further drill down into the metrics for Hashtags, Persons, Locations & Organizations.\n",
        "\n",
        "We cut the plots by Sentiment i.e. the color of the bars tells us if the overall Sentiment was Positive or Negative.\n"
      ]
    },
    {
      "cell_type": "code",
      "metadata": {
        "id": "AEMjjbHYrnpS",
        "colab": {
          "base_uri": "https://localhost:8080/",
          "height": 549
        },
        "outputId": "7e9734d0-eb2d-4293-e89d-0481129dd00f"
      },
      "source": [
        "# CUSTOMIZE:\n",
        "# In the code cell below, do some Exploratory Data Analysis (EDA) by trying to filter\n",
        "# by various TAGs, see if you can find TAGs that help clarify, focus and reveal interesting\n",
        "# relationships and trends\n",
        "\n",
        "#@title Visualize Top TAGs\n",
        "Filter_TAG = False #@param {type:\"boolean\"}\n",
        "TAG = 'Hashtag' #@param [\"Hashtag\", \"Person\", \"Location\", \"Organization\"]\n",
        "#@markdown ###Pick how many tags to display per chart:\n",
        "Top_N = 10 #@param {type:\"integer\"}\n",
        "\n",
        "# get TAG value\n",
        "if TAG != 'Hashtag':\n",
        "  TAG = TAG[:3].upper()\n",
        "\n",
        "if Filter_TAG:\n",
        "  filtered_group = ner_groups[(ner_groups['tag_type'] == TAG)]\n",
        "else:\n",
        "  filtered_group = ner_groups\n",
        "\n",
        "# plot the figures\n",
        "fig = plt.figure(figsize=(20, 16))\n",
        "fig.subplots_adjust(hspace=0.2, wspace=0.5)\n",
        "\n",
        "ax1 = fig.add_subplot(321)\n",
        "sns.barplot(x=\"Frequency\", y=\"tag\", data=filtered_group[:Top_N], hue=\"Sentiment\")\n",
        "ax2 = fig.add_subplot(322)\n",
        "filtered_group = filtered_group.sort_values(['likes_count'], ascending=False)\n",
        "sns.barplot(x=\"likes_count\", y=\"tag\", data=filtered_group[:Top_N], hue=\"Sentiment\")\n",
        "ax3 = fig.add_subplot(323)\n",
        "filtered_group = filtered_group.sort_values(['replies_count'], ascending=False)\n",
        "sns.barplot(x=\"replies_count\", y=\"tag\", data=filtered_group[:Top_N], hue=\"Sentiment\")\n",
        "ax4 = fig.add_subplot(324)\n",
        "filtered_group = filtered_group.sort_values(['retweets_count'], ascending=False)\n",
        "sns.barplot(x=\"retweets_count\", y=\"tag\", data=filtered_group[:Top_N], hue=\"Sentiment\")\n",
        "\n",
        "ax1.title.set_text('Most Popular')\n",
        "ax2.title.set_text('Most Liked')\n",
        "ax3.title.set_text('Most Replied')\n",
        "ax4.title.set_text('Most Retweeted')\n",
        "\n",
        "ax1.set_ylabel('')    \n",
        "ax1.set_xlabel('')\n",
        "ax2.set_ylabel('')    \n",
        "ax2.set_xlabel('')\n",
        "ax3.set_ylabel('')    \n",
        "ax3.set_xlabel('')\n",
        "ax4.set_ylabel('')    \n",
        "ax4.set_xlabel('')"
      ],
      "execution_count": 59,
      "outputs": [
        {
          "output_type": "execute_result",
          "data": {
            "text/plain": [
              "Text(0.5, 0, '')"
            ]
          },
          "metadata": {
            "tags": []
          },
          "execution_count": 59
        },
        {
          "output_type": "display_data",
          "data": {
            "image/png": "[encoded data removed]",
            "text/plain": [
              "<Figure size 1440x1152 with 4 Axes>"
            ]
          },
          "metadata": {
            "tags": [],
            "needs_background": "light"
          }
        }
      ]
    },
    {
      "cell_type": "code",
      "metadata": {
        "colab": {
          "base_uri": "https://localhost:8080/",
          "height": 460
        },
        "id": "YntGwpHxnPmx",
        "outputId": "dfc7f60c-447e-48f4-96c9-b8a9cb575ea5"
      },
      "source": [
        "# Get the average polarity description\n",
        "\n",
        "fig = plt.figure(figsize=(12, 6))\n",
        "sns.distplot(filtered_group['Avg_Polarity'], hist=False, kde_kws={\"shade\": True})"
      ],
      "execution_count": 60,
      "outputs": [
        {
          "output_type": "stream",
          "text": [
            "/usr/local/lib/python3.6/dist-packages/seaborn/distributions.py:2551: FutureWarning: `distplot` is a deprecated function and will be removed in a future version. Please adapt your code to use either `displot` (a figure-level function with similar flexibility) or `kdeplot` (an axes-level function for kernel density plots).\n",
            "  warnings.warn(msg, FutureWarning)\n"
          ],
          "name": "stderr"
        },
        {
          "output_type": "execute_result",
          "data": {
            "text/plain": [
              "<matplotlib.axes._subplots.AxesSubplot at 0x7f2581e196a0>"
            ]
          },
          "metadata": {
            "tags": []
          },
          "execution_count": 60
        },
        {
          "output_type": "display_data",
          "data": {
            "image/png": "[encoded data removed]",
            "text/plain": [
              "<Figure size 864x432 with 1 Axes>"
            ]
          },
          "metadata": {
            "tags": [],
            "needs_background": "light"
          }
        }
      ]
    },
    {
      "cell_type": "markdown",
      "metadata": {
        "id": "DjLg2TlfPL_x"
      },
      "source": [
        "## Word Cloud\n",
        "\n",
        "Let's build a Word Cloud based on these metrics. \n",
        "\n",
        "Since I am interested in Seattle, I am going to use overlay the Seattle city skyline view over my Word Cloud. \n",
        "You can change this by selecting a different Mask option from the drop down.\n",
        "\n",
        "Images for Masks can be found at:\n",
        "\n",
        "http://clipart-library.com/clipart/2099977.htm\n",
        "\n",
        "https://needpix.com"
      ]
    },
    {
      "cell_type": "code",
      "metadata": {
        "id": "nnokb4WePNMo"
      },
      "source": [
        "# CUSTOMIZE: Find a *.jpg image that would make an appropriate silhouette for your wordcloud of tweets\n",
        "#            and !wget it below\n",
        "\n",
        "# download mask images\n",
        "!wget http://clipart-library.com/img/2099977.jpg -O seattle.jpg\n",
        "!wget https://storage.needpix.com/rsynced_images/trotting-horse-silhouette.jpg -O horse.jpg\n",
        "!wget https://storage.needpix.com/rsynced_images/black-balloon.jpg -O balloon.jpg\n",
        "  \n",
        "clear_output()"
      ],
      "execution_count": 61,
      "outputs": []
    },
    {
      "cell_type": "code",
      "metadata": {
        "colab": {
          "base_uri": "https://localhost:8080/",
          "height": 231
        },
        "id": "zpds_gThPNG2",
        "outputId": "bc780db4-7b26-4497-88f5-bf61d95bba6b"
      },
      "source": [
        "#@title Customize Your Word Cloud For Top TAGs\n",
        "Metric = 'Most Popular' #@param [\"Most Popular\", \"Most Liked\", \"Most Replied\", \"Most Retweeted\"]\n",
        "#@markdown\n",
        "Filter_TAG = False #@param {type:\"boolean\"}\n",
        "##@markdown\n",
        "TAG = 'Location' #@param [\"Hashtag\", \"Person\", \"Location\", \"Organization\"]\n",
        "Mask = 'Rectangle' #@param [\"Rectangle\", \"Seattle\", \"Balloon\", \"Horse\"]\n",
        "\n",
        "# CUSTOMIZE: edit Mask and 'if MASK' lines in this code block to \n",
        "#            use your more appropriate silhouette image for your wordcloud\n",
        "\n",
        "# get correct Metric value\n",
        "if Metric == 'Most Popular':\n",
        "   Metric = 'Frequency'\n",
        "elif Metric == 'Most Liked':\n",
        "   Metric = 'Total_Likes'\n",
        "elif Metric == 'Most Replied':\n",
        "   Metric = 'Total_Replies'\n",
        "elif Metric == 'Most Retweeted':\n",
        "   Metric = 'Total_Retweets'    \n",
        "\n",
        "# get TAG value\n",
        "if TAG != 'Hashtag':\n",
        "  TAG = TAG[:3].upper()\n",
        "\n",
        "if Filter_TAG:\n",
        "  filtered_group = ner_groups[(ner_groups['tag_type'] == TAG)]\n",
        "else:\n",
        "  filtered_group = ner_groups\n",
        "\n",
        "countDict = {}\n",
        "\n",
        "for index, row in filtered_group.iterrows():\n",
        "  if row[Metric] == 0:\n",
        "    row[Metric] = 1\n",
        "  countDict.update( {row['tag'] : row[Metric]} )\n",
        "  \n",
        "if Mask == 'Seattle':\n",
        "  Mask = np.array(Image.open(\"seattle.jpg\"))\n",
        "elif Mask == 'Rectangle':\n",
        "  Mask = np.array(Image.new('RGB', (800,600), (0, 0, 0)))\n",
        "elif Mask == 'Horse':\n",
        "  Mask = np.array(Image.open(\"horse.png\"))\n",
        "elif Mask == 'Balloon':\n",
        "  Mask = np.array(Image.open(\"balloon.jpg\"))\n",
        "\n",
        "clear_output()\n",
        "\n",
        "# Generate Word Cloud\n",
        "wordcloud = WordCloud(\n",
        "    max_words=100,\n",
        "#     max_font_size=50,\n",
        "    height=300,\n",
        "    width=800,\n",
        "    background_color = 'white',\n",
        "    mask=Mask,\n",
        "    contour_width=1,\n",
        "    contour_color='steelblue',\n",
        "    stopwords = STOPWORDS).generate_from_frequencies(countDict)\n",
        "fig = plt.figure(\n",
        "    figsize = (18, 18),\n",
        "    )\n",
        "plt.imshow(wordcloud, interpolation = 'bilinear')\n",
        "plt.axis('off')\n",
        "plt.tight_layout(pad=0)\n",
        "plt.show()\n",
        "\n",
        "# CUSTOMIZE: set file_name_wordcloud\n",
        "file_name_wordcloud = 'tweets_wordcloud.png'\n",
        "plt.savefig(file_name_wordcloud)"
      ],
      "execution_count": 73,
      "outputs": [
        {
          "output_type": "error",
          "ename": "AttributeError",
          "evalue": "ignored",
          "traceback": [
            "\u001b[0;31m---------------------------------------------------------------------------\u001b[0m",
            "\u001b[0;31mAttributeError\u001b[0m                            Traceback (most recent call last)",
            "\u001b[0;32m<ipython-input-73-69dfc909c4f9>\u001b[0m in \u001b[0;36m<module>\u001b[0;34m()\u001b[0m\n\u001b[1;32m     39\u001b[0m   \u001b[0mMask\u001b[0m \u001b[0;34m=\u001b[0m \u001b[0mnp\u001b[0m\u001b[0;34m.\u001b[0m\u001b[0marray\u001b[0m\u001b[0;34m(\u001b[0m\u001b[0mImage\u001b[0m\u001b[0;34m.\u001b[0m\u001b[0mopen\u001b[0m\u001b[0;34m(\u001b[0m\u001b[0;34m\"seattle.jpg\"\u001b[0m\u001b[0;34m)\u001b[0m\u001b[0;34m)\u001b[0m\u001b[0;34m\u001b[0m\u001b[0;34m\u001b[0m\u001b[0m\n\u001b[1;32m     40\u001b[0m \u001b[0;32melif\u001b[0m \u001b[0mMask\u001b[0m \u001b[0;34m==\u001b[0m \u001b[0;34m'Rectangle'\u001b[0m\u001b[0;34m:\u001b[0m\u001b[0;34m\u001b[0m\u001b[0;34m\u001b[0m\u001b[0m\n\u001b[0;32m---> 41\u001b[0;31m   \u001b[0mMask\u001b[0m \u001b[0;34m=\u001b[0m \u001b[0mnp\u001b[0m\u001b[0;34m.\u001b[0m\u001b[0marray\u001b[0m\u001b[0;34m(\u001b[0m\u001b[0mImage\u001b[0m\u001b[0;34m.\u001b[0m\u001b[0mnew\u001b[0m\u001b[0;34m(\u001b[0m\u001b[0;34m'RGB'\u001b[0m\u001b[0;34m,\u001b[0m \u001b[0;34m(\u001b[0m\u001b[0;36m800\u001b[0m\u001b[0;34m,\u001b[0m\u001b[0;36m600\u001b[0m\u001b[0;34m)\u001b[0m\u001b[0;34m,\u001b[0m \u001b[0;34m(\u001b[0m\u001b[0;36m0\u001b[0m\u001b[0;34m,\u001b[0m \u001b[0;36m0\u001b[0m\u001b[0;34m,\u001b[0m \u001b[0;36m0\u001b[0m\u001b[0;34m)\u001b[0m\u001b[0;34m)\u001b[0m\u001b[0;34m)\u001b[0m\u001b[0;34m\u001b[0m\u001b[0;34m\u001b[0m\u001b[0m\n\u001b[0m\u001b[1;32m     42\u001b[0m \u001b[0;32melif\u001b[0m \u001b[0mMask\u001b[0m \u001b[0;34m==\u001b[0m \u001b[0;34m'Horse'\u001b[0m\u001b[0;34m:\u001b[0m\u001b[0;34m\u001b[0m\u001b[0;34m\u001b[0m\u001b[0m\n\u001b[1;32m     43\u001b[0m   \u001b[0mMask\u001b[0m \u001b[0;34m=\u001b[0m \u001b[0mnp\u001b[0m\u001b[0;34m.\u001b[0m\u001b[0marray\u001b[0m\u001b[0;34m(\u001b[0m\u001b[0mImage\u001b[0m\u001b[0;34m.\u001b[0m\u001b[0mopen\u001b[0m\u001b[0;34m(\u001b[0m\u001b[0;34m\"horse.png\"\u001b[0m\u001b[0;34m)\u001b[0m\u001b[0;34m)\u001b[0m\u001b[0;34m\u001b[0m\u001b[0;34m\u001b[0m\u001b[0m\n",
            "\u001b[0;31mAttributeError\u001b[0m: type object 'Image' has no attribute 'new'"
          ]
        }
      ]
    },
    {
      "cell_type": "code",
      "metadata": {
        "colab": {
          "base_uri": "https://localhost:8080/"
        },
        "id": "FpP5Xv1fPNAX",
        "outputId": "37181f39-8845-4265-8bdb-4e4c5f6815b9"
      },
      "source": [
        "# see saved word cloud\n",
        "!ls *.png"
      ],
      "execution_count": 65,
      "outputs": [
        {
          "output_type": "stream",
          "text": [
            "tweets_wordcloud.png\n"
          ],
          "name": "stdout"
        }
      ]
    },
    {
      "cell_type": "code",
      "metadata": {
        "colab": {
          "base_uri": "https://localhost:8080/",
          "height": 305
        },
        "id": "RKzoqr98T8-F",
        "outputId": "5d287dcb-ae84-4f96-8502-2fb6a29d9722"
      },
      "source": [
        "# ERROR: Name collision with PIL library\n",
        "#  Fix to read and display image \n",
        "\n",
        "# from IPython.display import Image\n",
        "# Image('tweets_wordcloud.png')"
      ],
      "execution_count": 76,
      "outputs": [
        {
          "output_type": "execute_result",
          "data": {
            "image/png": "[encoded data removed]",
            "text/plain": [
              "<IPython.core.display.Image object>"
            ]
          },
          "metadata": {
            "tags": []
          },
          "execution_count": 76
        }
      ]
    },
    {
      "cell_type": "code",
      "metadata": {
        "colab": {
          "resources": {
            "http://localhost:8080/tweets_wordcloud.png": {
              "data": "CjwhRE9DVFlQRSBodG1sPgo8aHRtbCBsYW5nPWVuPgogIDxtZXRhIGNoYXJzZXQ9dXRmLTg+CiAgPG1ldGEgbmFtZT12aWV3cG9ydCBjb250ZW50PSJpbml0aWFsLXNjYWxlPTEsIG1pbmltdW0tc2NhbGU9MSwgd2lkdGg9ZGV2aWNlLXdpZHRoIj4KICA8dGl0bGU+RXJyb3IgNDA0IChOb3QgRm91bmQpISExPC90aXRsZT4KICA8c3R5bGU+CiAgICAqe21hcmdpbjowO3BhZGRpbmc6MH1odG1sLGNvZGV7Zm9udDoxNXB4LzIycHggYXJpYWwsc2Fucy1zZXJpZn1odG1se2JhY2tncm91bmQ6I2ZmZjtjb2xvcjojMjIyO3BhZGRpbmc6MTVweH1ib2R5e21hcmdpbjo3JSBhdXRvIDA7bWF4LXdpZHRoOjM5MHB4O21pbi1oZWlnaHQ6MTgwcHg7cGFkZGluZzozMHB4IDAgMTVweH0qID4gYm9keXtiYWNrZ3JvdW5kOnVybCgvL3d3dy5nb29nbGUuY29tL2ltYWdlcy9lcnJvcnMvcm9ib3QucG5nKSAxMDAlIDVweCBuby1yZXBlYXQ7cGFkZGluZy1yaWdodDoyMDVweH1we21hcmdpbjoxMXB4IDAgMjJweDtvdmVyZmxvdzpoaWRkZW59aW5ze2NvbG9yOiM3Nzc7dGV4dC1kZWNvcmF0aW9uOm5vbmV9YSBpbWd7Ym9yZGVyOjB9QG1lZGlhIHNjcmVlbiBhbmQgKG1heC13aWR0aDo3NzJweCl7Ym9keXtiYWNrZ3JvdW5kOm5vbmU7bWFyZ2luLXRvcDowO21heC13aWR0aDpub25lO3BhZGRpbmctcmlnaHQ6MH19I2xvZ297YmFja2dyb3VuZDp1cmwoLy93d3cuZ29vZ2xlLmNvbS9pbWFnZXMvbG9nb3MvZXJyb3JwYWdlL2Vycm9yX2xvZ28tMTUweDU0LnBuZykgbm8tcmVwZWF0O21hcmdpbi1sZWZ0Oi01cHh9QG1lZGlhIG9ubHkgc2NyZWVuIGFuZCAobWluLXJlc29sdXRpb246MTkyZHBpKXsjbG9nb3tiYWNrZ3JvdW5kOnVybCgvL3d3dy5nb29nbGUuY29tL2ltYWdlcy9sb2dvcy9lcnJvcnBhZ2UvZXJyb3JfbG9nby0xNTB4NTQtMngucG5nKSBuby1yZXBlYXQgMCUgMCUvMTAwJSAxMDAlOy1tb3otYm9yZGVyLWltYWdlOnVybCgvL3d3dy5nb29nbGUuY29tL2ltYWdlcy9sb2dvcy9lcnJvcnBhZ2UvZXJyb3JfbG9nby0xNTB4NTQtMngucG5nKSAwfX1AbWVkaWEgb25seSBzY3JlZW4gYW5kICgtd2Via2l0LW1pbi1kZXZpY2UtcGl4ZWwtcmF0aW86Mil7I2xvZ297YmFja2dyb3VuZDp1cmwoLy93d3cuZ29vZ2xlLmNvbS9pbWFnZXMvbG9nb3MvZXJyb3JwYWdlL2Vycm9yX2xvZ28tMTUweDU0LTJ4LnBuZykgbm8tcmVwZWF0Oy13ZWJraXQtYmFja2dyb3VuZC1zaXplOjEwMCUgMTAwJX19I2xvZ297ZGlzcGxheTppbmxpbmUtYmxvY2s7aGVpZ2h0OjU0cHg7d2lkdGg6MTUwcHh9CiAgPC9zdHlsZT4KICA8YSBocmVmPS8vd3d3Lmdvb2dsZS5jb20vPjxzcGFuIGlkPWxvZ28gYXJpYS1sYWJlbD1Hb29nbGU+PC9zcGFuPjwvYT4KICA8cD48Yj40MDQuPC9iPiA8aW5zPlRoYXTigJlzIGFuIGVycm9yLjwvaW5zPgogIDxwPiAgPGlucz5UaGF04oCZcyBhbGwgd2Uga25vdy48L2lucz4K",
              "ok": false,
              "headers": [
                [
                  "content-length",
                  "1449"
                ],
                [
                  "content-type",
                  "text/html; charset=utf-8"
                ]
              ],
              "status": 404,
              "status_text": ""
            }
          },
          "base_uri": "https://localhost:8080/",
          "height": 37
        },
        "id": "IHa-5RiSTrYx",
        "outputId": "5720387c-eb8e-488c-addb-1eb742f816ae"
      },
      "source": [
        "%%html\n",
        "<img src='tweets_wordcloud.png'>"
      ],
      "execution_count": 70,
      "outputs": [
        {
          "output_type": "display_data",
          "data": {
            "text/html": [
              "<img src='tweets_wordcloud.png'>"
            ],
            "text/plain": [
              "<IPython.core.display.HTML object>"
            ]
          },
          "metadata": {
            "tags": []
          }
        }
      ]
    },
    {
      "cell_type": "code",
      "metadata": {
        "colab": {
          "base_uri": "https://localhost:8080/",
          "height": 305
        },
        "id": "C291xJSkPMls",
        "outputId": "87bfe4ad-cca5-49d0-d968-49ac277cd56f"
      },
      "source": [
        "from IPython.display import Image\n",
        "# Image(file_name_wordcloud.png)\n",
        "Image('tweets_wordcloud.png')\n",
        "%%html\n",
        "<img src='/nbextensions/image.png' />"
      ],
      "execution_count": 68,
      "outputs": [
        {
          "output_type": "execute_result",
          "data": {
            "image/png": "[encoded data removed]",
            "text/plain": [
              "<IPython.core.display.Image object>"
            ]
          },
          "metadata": {
            "tags": []
          },
          "execution_count": 68
        }
      ]
    },
    {
      "cell_type": "markdown",
      "metadata": {
        "id": "0XrdzrLqCzxg"
      },
      "source": [
        "# **3. NLP Analysis**\n",
        "\n",
        "Options\n",
        "\n",
        "* Sentiment Analysis (FastText and/or VADER)\n",
        "* Named Entity Recognition (NER using flair)"
      ]
    },
    {
      "cell_type": "markdown",
      "metadata": {
        "id": "xAilYCjNPhDR"
      },
      "source": [
        "# **3. Write Reports to Output files**"
      ]
    },
    {
      "cell_type": "code",
      "metadata": {
        "id": "LRyYGF-IDDAU"
      },
      "source": [
        "# Create unique output filename using current datetime stamp\n",
        "\n",
        "file_name_edaviz = ('edaviz_' + file_name_all.split('.')[0] + '.html') # 'tweets_combined_20201201-012404.csv'\n",
        "print(file_name_edaviz)"
      ],
      "execution_count": null,
      "outputs": []
    },
    {
      "cell_type": "code",
      "metadata": {
        "id": "3pnqH6q4C6uR"
      },
      "source": [
        "profile_report = combined_df.profile_report(html={\"style\": {\"full_width\": True}})\n",
        "profile_report.to_file(file_name_edaviz)"
      ],
      "execution_count": null,
      "outputs": []
    },
    {
      "cell_type": "code",
      "metadata": {
        "id": "U5_e448eDkHJ"
      },
      "source": [
        "!ls eda_viz*"
      ],
      "execution_count": null,
      "outputs": []
    },
    {
      "cell_type": "code",
      "metadata": {
        "id": "aOBXOdiHD4tw"
      },
      "source": [
        "# Option #2 to display Pandas-Profiling Report\n",
        "\n",
        "# import IPython\n",
        "# IPython.display.HTML(filename=file_name_edaviz)"
      ],
      "execution_count": null,
      "outputs": []
    },
    {
      "cell_type": "code",
      "metadata": {
        "id": "52bW6u9qELIN"
      },
      "source": [
        ""
      ],
      "execution_count": null,
      "outputs": []
    },
    {
      "cell_type": "code",
      "metadata": {
        "id": "bDiW_1m2D4qb"
      },
      "source": [
        "# Option #3 to display Pandas-Profiling Report\n",
        "\n",
        "\"\"\"\n",
        "profile_report = combined_df.profile_report(\n",
        "    explorative=True, html={\"style\": {\"full_width\": True}}\n",
        ")\n",
        "profile_report\n",
        "\"\"\""
      ],
      "execution_count": null,
      "outputs": []
    },
    {
      "cell_type": "code",
      "metadata": {
        "id": "SqrTT9V3D4nf"
      },
      "source": [
        ""
      ],
      "execution_count": null,
      "outputs": []
    },
    {
      "cell_type": "code",
      "metadata": {
        "id": "E9Yo2Kd1QgSr"
      },
      "source": [
        ""
      ],
      "execution_count": null,
      "outputs": []
    }
  ]
}